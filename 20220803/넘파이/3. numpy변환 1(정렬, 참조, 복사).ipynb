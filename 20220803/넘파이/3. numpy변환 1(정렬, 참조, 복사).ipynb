{
 "cells": [
  {
   "cell_type": "code",
   "execution_count": 1,
   "id": "6b0af831",
   "metadata": {},
   "outputs": [],
   "source": [
    "# (공통) 라이브러리 불러오기 및 사용자 함수 정의\n",
    "import numpy as np\n",
    "\n",
    "def np_print(nparr):\n",
    "    print('''\n",
    "    type : {}  \n",
    "    shape : {}  \n",
    "    dimension : {}  \n",
    "    dtype : {}\n",
    "    data :\\n {}\n",
    "    '''.format(type(nparr), nparr.shape, nparr.ndim, nparr.dtype, nparr))"
   ]
  },
  {
   "cell_type": "markdown",
   "id": "8e6c5a2d",
   "metadata": {},
   "source": [
    "### 배열 정렬\n",
    "\n",
    "- sort(axis = -1) 메서드 : axis를 기준으로 요소를 오름차순 정렬\n",
    "    - 기본값(axis = -1) : 현재 배열의 마지막 axis\n",
    "    - axis = 0 : 열 단위 정렬\n",
    "    - axis = 1 : 행 단위 정렬\n",
    "    - 원본 객체에 정렬 결과가 반영됨\n",
    "    \n",
    "- np.sort(axis = -1) : axis를 기준으로 요소를 오름차순 정렬\n",
    "    - 기본값(axis = -1) : 현재 배열의 마지막 axis\n",
    "    - axis = 0 : 열 단위 정렬\n",
    "    - axis = 1 : 행 단위 정렬\n",
    "    - 정렬된 새로운 배열을 반환함\n",
    "    \n",
    "- np.argsort(arr) : 정렬 순서를 반환\n",
    "    - 기본값(axis = -1) : 현재 배열의 마지막 axis\n",
    "    - axis = 0 : 열 단위 정렬\n",
    "    - axis = 1 : 행 단위 정렬"
   ]
  },
  {
   "cell_type": "code",
   "execution_count": 2,
   "id": "cd1a4eaa",
   "metadata": {},
   "outputs": [
    {
     "name": "stdout",
     "output_type": "stream",
     "text": [
      "\n",
      "    type : <class 'numpy.ndarray'>  \n",
      "    shape : (5,)  \n",
      "    dimension : 1  \n",
      "    dtype : int32\n",
      "    data :\n",
      " [0 1 2 3 4]\n",
      "    \n"
     ]
    }
   ],
   "source": [
    "# 1차원 배열 생성\n",
    "x = np.arange(0, 5)\n",
    "np_print(x)"
   ]
  },
  {
   "cell_type": "code",
   "execution_count": 3,
   "id": "9d18890d",
   "metadata": {},
   "outputs": [
    {
     "data": {
      "text/plain": [
       "array([4, 3, 2, 1, 0])"
      ]
     },
     "execution_count": 3,
     "metadata": {},
     "output_type": "execute_result"
    }
   ],
   "source": [
    "# 기존 파이썬 문법으로 순번 뒤집기\n",
    "x[::-1]"
   ]
  },
  {
   "cell_type": "code",
   "execution_count": 4,
   "id": "7cbb5e90",
   "metadata": {},
   "outputs": [],
   "source": [
    "# 난수 고정값은 1515입니다.\n",
    "np.random.seed(1515)"
   ]
  },
  {
   "cell_type": "code",
   "execution_count": 5,
   "id": "bbf0a555",
   "metadata": {},
   "outputs": [
    {
     "name": "stdout",
     "output_type": "stream",
     "text": [
      "\n",
      "    type : <class 'numpy.ndarray'>  \n",
      "    shape : (5,)  \n",
      "    dimension : 1  \n",
      "    dtype : int32\n",
      "    data :\n",
      " [7 8 6 7 3]\n",
      "    \n"
     ]
    }
   ],
   "source": [
    "# 오름차순 정렬 테스트용 난수배열 만들기\n",
    "# 0이상 9이하 숫자 5개를 난수생성으로 만들어서 찍어주세요\n",
    "a = np.random.randint(0, 10, 5)\n",
    "np_print(a)"
   ]
  },
  {
   "cell_type": "code",
   "execution_count": 6,
   "id": "feb9eb96",
   "metadata": {},
   "outputs": [
    {
     "data": {
      "text/plain": [
       "array([3, 6, 7, 7, 8])"
      ]
     },
     "execution_count": 6,
     "metadata": {},
     "output_type": "execute_result"
    }
   ],
   "source": [
    "# np.sort(자료) -> 원본 자료에 반영되진 않음\n",
    "np.sort(a)"
   ]
  },
  {
   "cell_type": "code",
   "execution_count": 7,
   "id": "ddc12d5a",
   "metadata": {},
   "outputs": [
    {
     "data": {
      "text/plain": [
       "array([7, 8, 6, 7, 3])"
      ]
     },
     "execution_count": 7,
     "metadata": {},
     "output_type": "execute_result"
    }
   ],
   "source": [
    "a"
   ]
  },
  {
   "cell_type": "code",
   "execution_count": 8,
   "id": "e37b4051",
   "metadata": {},
   "outputs": [],
   "source": [
    "# 자료.sort() -> 원본 자료 변경\n",
    "a.sort()"
   ]
  },
  {
   "cell_type": "code",
   "execution_count": 9,
   "id": "fc891220",
   "metadata": {},
   "outputs": [
    {
     "data": {
      "text/plain": [
       "array([3, 6, 7, 7, 8])"
      ]
     },
     "execution_count": 9,
     "metadata": {},
     "output_type": "execute_result"
    }
   ],
   "source": [
    "a"
   ]
  },
  {
   "cell_type": "code",
   "execution_count": 10,
   "id": "d9e62388",
   "metadata": {},
   "outputs": [
    {
     "name": "stdout",
     "output_type": "stream",
     "text": [
      "\n",
      "    type : <class 'numpy.ndarray'>  \n",
      "    shape : (5,)  \n",
      "    dimension : 1  \n",
      "    dtype : int32\n",
      "    data :\n",
      " [2 4 9 1 7]\n",
      "    \n"
     ]
    }
   ],
   "source": [
    "b = np.random.randint(0, 10, 5)\n",
    "np_print(b)"
   ]
  },
  {
   "cell_type": "code",
   "execution_count": 11,
   "id": "b57baa79",
   "metadata": {},
   "outputs": [
    {
     "data": {
      "text/plain": [
       "array([3, 0, 1, 4, 2], dtype=int64)"
      ]
     },
     "execution_count": 11,
     "metadata": {},
     "output_type": "execute_result"
    }
   ],
   "source": [
    "# np.argsort(자료)는 내부의 아이템들을 오름차순 정렬하기 위해서는\n",
    "# 현재 몇 번 인덱스에 있는 자료를 어디에 배치해야 하는지 보여줌\n",
    "np.argsort(b)"
   ]
  },
  {
   "cell_type": "code",
   "execution_count": 12,
   "id": "af9e0bac",
   "metadata": {},
   "outputs": [
    {
     "name": "stdout",
     "output_type": "stream",
     "text": [
      "\n",
      "    type : <class 'numpy.ndarray'>  \n",
      "    shape : (3, 3)  \n",
      "    dimension : 2  \n",
      "    dtype : float64\n",
      "    data :\n",
      " [[0.49951145 0.47107893 0.72328324]\n",
      " [0.10641408 0.0314212  0.47031197]\n",
      " [0.50199779 0.23841375 0.56067134]]\n",
      "    \n",
      "\n",
      "    type : <class 'numpy.ndarray'>  \n",
      "    shape : (3, 3)  \n",
      "    dimension : 2  \n",
      "    dtype : float64\n",
      "    data :\n",
      " [[0.31397076 0.58970362 0.47431556]\n",
      " [0.04606234 0.23922061 0.81511325]\n",
      " [0.92654299 0.16002479 0.28410932]]\n",
      "    \n"
     ]
    }
   ],
   "source": [
    "# 0이상 1미만의 범위에서 무작위로 실수값을 가지는 3행 3열의 배열 2개 생성\n",
    "# np.random.random을 이용하세요\n",
    "a = np.random.random((3, 3))\n",
    "b = np.random.random(9).reshape(3, 3)\n",
    "np_print(a)\n",
    "np_print(b)"
   ]
  },
  {
   "cell_type": "markdown",
   "id": "6da9b7ad",
   "metadata": {},
   "source": [
    "##### 예) 2차원 배열의 경우\n",
    "\n",
    "기본값 axis = -1 <br>\n",
    "현재 배열의 axis = 0, 1 <br>\n",
    "마지막 axis = 1 (열별 정렬)\n",
    "\n",
    "<img src='img/sortaxis1.jpg' width='200' height='200' align='left'>"
   ]
  },
  {
   "cell_type": "code",
   "execution_count": 13,
   "id": "942c95bf",
   "metadata": {},
   "outputs": [
    {
     "name": "stdout",
     "output_type": "stream",
     "text": [
      "\n",
      "    type : <class 'numpy.ndarray'>  \n",
      "    shape : (3, 3)  \n",
      "    dimension : 2  \n",
      "    dtype : float64\n",
      "    data :\n",
      " [[0.49951145 0.47107893 0.72328324]\n",
      " [0.10641408 0.0314212  0.47031197]\n",
      " [0.50199779 0.23841375 0.56067134]]\n",
      "    \n"
     ]
    },
    {
     "data": {
      "text/plain": [
       "array([[0.47107893, 0.49951145, 0.72328324],\n",
       "       [0.0314212 , 0.10641408, 0.47031197],\n",
       "       [0.23841375, 0.50199779, 0.56067134]])"
      ]
     },
     "execution_count": 13,
     "metadata": {},
     "output_type": "execute_result"
    }
   ],
   "source": [
    "# 기본 방향(axis=-1) => 열별 정렬\n",
    "np_print(a)\n",
    "np.sort(a)"
   ]
  },
  {
   "cell_type": "markdown",
   "id": "12335fb5",
   "metadata": {},
   "source": [
    "##### axis = 0 (열별 정렬)\n",
    "\n",
    "<img src='img/sortaxis0.jpg' width='200' height='200' align='left'>`"
   ]
  },
  {
   "cell_type": "code",
   "execution_count": 14,
   "id": "d66a67b9",
   "metadata": {},
   "outputs": [
    {
     "name": "stdout",
     "output_type": "stream",
     "text": [
      "\n",
      "    type : <class 'numpy.ndarray'>  \n",
      "    shape : (3, 3)  \n",
      "    dimension : 2  \n",
      "    dtype : float64\n",
      "    data :\n",
      " [[0.49951145 0.47107893 0.72328324]\n",
      " [0.10641408 0.0314212  0.47031197]\n",
      " [0.50199779 0.23841375 0.56067134]]\n",
      "    \n"
     ]
    },
    {
     "data": {
      "text/plain": [
       "array([[0.10641408, 0.0314212 , 0.47031197],\n",
       "       [0.49951145, 0.23841375, 0.56067134],\n",
       "       [0.50199779, 0.47107893, 0.72328324]])"
      ]
     },
     "execution_count": 14,
     "metadata": {},
     "output_type": "execute_result"
    }
   ],
   "source": [
    "# 열별 정렬을 시켜보세요.\n",
    "np_print(a)\n",
    "np.sort(a, axis=0)"
   ]
  },
  {
   "cell_type": "markdown",
   "id": "d910dcbd",
   "metadata": {},
   "source": [
    "## 인덱싱(Indexing), 슬라이싱(Slicing)\n",
    "\n",
    "### 1. 인덱싱 : 하나의 요소에 대해 참조\n",
    "- 각 차원에 따라 배열이 참조하는 인덱스의 개수가 다름\n",
    "\n",
    "    - 1차원 배열 : 인덱스 1개\n",
    "    - 2차원 배열 : 인덱스 2개\n",
    "    - 3차원 배열 : 인덱스 3개\n",
    "\n",
    "- 인덱싱으로 참조한 요소에 대해 수정 가능\n",
    "\n",
    "- 인덱스 배열을 전달하여 여러 개의 요소 참조"
   ]
  },
  {
   "cell_type": "code",
   "execution_count": 15,
   "id": "299e8cc0",
   "metadata": {},
   "outputs": [
    {
     "name": "stdout",
     "output_type": "stream",
     "text": [
      "\n",
      "    type : <class 'numpy.ndarray'>  \n",
      "    shape : (24,)  \n",
      "    dimension : 1  \n",
      "    dtype : int32\n",
      "    data :\n",
      " [ 0  1  2  3  4  5  6  7  8  9 10 11 12 13 14 15 16 17 18 19 20 21 22 23]\n",
      "    \n"
     ]
    }
   ],
   "source": [
    "# 0 ~ 23 구간으로 1씩 증가하는 값을 아이템으로 가지는 1차원 배열을 생성해주세요.\n",
    "arr1 = np.arange(0, 24)\n",
    "np_print(arr1)"
   ]
  },
  {
   "cell_type": "code",
   "execution_count": 16,
   "id": "5eb02c11",
   "metadata": {},
   "outputs": [
    {
     "data": {
      "text/plain": [
       "1"
      ]
     },
     "execution_count": 16,
     "metadata": {},
     "output_type": "execute_result"
    }
   ],
   "source": [
    "# 1차원 배열 인덱싱 : 1차원 인덱스 요소 접근\n",
    "arr1[1]"
   ]
  },
  {
   "cell_type": "code",
   "execution_count": 17,
   "id": "fffe9236",
   "metadata": {},
   "outputs": [
    {
     "data": {
      "text/plain": [
       "23"
      ]
     },
     "execution_count": 17,
     "metadata": {},
     "output_type": "execute_result"
    }
   ],
   "source": [
    "# 1차원 배열 인덱싱 : 마지막 요소 접근\n",
    "arr1[-1]"
   ]
  },
  {
   "cell_type": "code",
   "execution_count": 18,
   "id": "2f891956",
   "metadata": {},
   "outputs": [
    {
     "data": {
      "text/plain": [
       "array([  0,   1,   2,   3,   4,   5,   6,   7,   8,   9,  10,  11,  12,\n",
       "        13,  14,  15,  16,  17,  18,  19,  20,  21,  22, 100])"
      ]
     },
     "execution_count": 18,
     "metadata": {},
     "output_type": "execute_result"
    }
   ],
   "source": [
    "# arr1의 마지막 값을 100으로 고쳐주세요.\n",
    "arr1[-1] = 100\n",
    "arr1"
   ]
  },
  {
   "cell_type": "code",
   "execution_count": 19,
   "id": "46b3e527",
   "metadata": {},
   "outputs": [
    {
     "name": "stdout",
     "output_type": "stream",
     "text": [
      "\n",
      "    type : <class 'numpy.ndarray'>  \n",
      "    shape : (4, 6)  \n",
      "    dimension : 2  \n",
      "    dtype : int32\n",
      "    data :\n",
      " [[  0   1   2   3   4   5]\n",
      " [  6   7   8   9  10  11]\n",
      " [ 12  13  14  15  16  17]\n",
      " [ 18  19  20  21  22 100]]\n",
      "    \n"
     ]
    }
   ],
   "source": [
    "# 배열 arr1을 이용해서 4 * 6 형태의 2차원 배열 arr2 만들기\n",
    "arr2 = arr1.reshape(4, 6)\n",
    "np_print(arr2)"
   ]
  },
  {
   "cell_type": "code",
   "execution_count": 20,
   "id": "a37e80c2",
   "metadata": {},
   "outputs": [
    {
     "data": {
      "text/plain": [
       "array([0, 1, 2, 3, 4, 5])"
      ]
     },
     "execution_count": 20,
     "metadata": {},
     "output_type": "execute_result"
    }
   ],
   "source": [
    "# 2차원 배열 인덱싱 : 2차원배열[행인덱스, (열인덱스)]\n",
    "# 하나의 행에 접근 : 1행\n",
    "arr2[0]"
   ]
  },
  {
   "cell_type": "code",
   "execution_count": 21,
   "id": "de7996a4",
   "metadata": {},
   "outputs": [
    {
     "data": {
      "text/plain": [
       "array([ 0,  6, 12, 18])"
      ]
     },
     "execution_count": 21,
     "metadata": {},
     "output_type": "execute_result"
    }
   ],
   "source": [
    "# 하나의 열에 접근 : 모든 행에 대해서 하나의 열에 접근\n",
    "# 반환값: 1d array\n",
    "arr2[:, 0]"
   ]
  },
  {
   "cell_type": "code",
   "execution_count": 22,
   "id": "e4022911",
   "metadata": {},
   "outputs": [
    {
     "data": {
      "text/plain": [
       "array([[  0,   1,   2,   3,   4,   5],\n",
       "       [  6,   7,   8,   9,  10,  11],\n",
       "       [ 12,  13,  14,  15,  16,  17],\n",
       "       [ 18,  19,  20,  21,  22, 100]])"
      ]
     },
     "execution_count": 22,
     "metadata": {},
     "output_type": "execute_result"
    }
   ],
   "source": [
    "arr2"
   ]
  },
  {
   "cell_type": "code",
   "execution_count": 23,
   "id": "c3427fd3",
   "metadata": {},
   "outputs": [
    {
     "data": {
      "text/plain": [
       "21"
      ]
     },
     "execution_count": 23,
     "metadata": {},
     "output_type": "execute_result"
    }
   ],
   "source": [
    "# 하나의 값에 접근\n",
    "# 3행 3열(0번째부터 세서 3행)\n",
    "arr2[3, 3]# arr2[3][3]"
   ]
  },
  {
   "cell_type": "code",
   "execution_count": 24,
   "id": "3e753a46",
   "metadata": {},
   "outputs": [
    {
     "data": {
      "text/plain": [
       "array([[  0,   1,   2,   3,   4,   5],\n",
       "       [ 18,  19,  20,  21,  22, 100]])"
      ]
     },
     "execution_count": 24,
     "metadata": {},
     "output_type": "execute_result"
    }
   ],
   "source": [
    "# 여러개의 행 조회(2차원배열로 조회)\n",
    "# 0번, 3번행 만 조회\n",
    "arr2[[0, 3]]"
   ]
  },
  {
   "cell_type": "code",
   "execution_count": 25,
   "id": "c39ca6d2",
   "metadata": {},
   "outputs": [
    {
     "data": {
      "text/plain": [
       "array([[ 0,  2],\n",
       "       [ 6,  8],\n",
       "       [12, 14],\n",
       "       [18, 20]])"
      ]
     },
     "execution_count": 25,
     "metadata": {},
     "output_type": "execute_result"
    }
   ],
   "source": [
    "# 여러개의 열 조회(0번째, 2번째 열만 선택해서 조회)\n",
    "arr2[:, [0, 2]]"
   ]
  },
  {
   "cell_type": "code",
   "execution_count": 26,
   "id": "34308b54",
   "metadata": {},
   "outputs": [
    {
     "data": {
      "text/plain": [
       "array([[  0,   1,   2,   3,   4,   5],\n",
       "       [  6,   7,   8,   9,  10,  11],\n",
       "       [ 12,  13,  14,  15,  16,  17],\n",
       "       [ 18,  19,  20,  21,  22, 100]])"
      ]
     },
     "execution_count": 26,
     "metadata": {},
     "output_type": "execute_result"
    }
   ],
   "source": [
    "arr2"
   ]
  },
  {
   "cell_type": "code",
   "execution_count": 27,
   "id": "55c0fe20",
   "metadata": {},
   "outputs": [
    {
     "data": {
      "text/plain": [
       "array([[  0,   1,   2,   3,   4,   5],\n",
       "       [  6,   7,   8,   9,  10,  11],\n",
       "       [  9,   9,   9,   9,   9,   9],\n",
       "       [ 18,  19,  20,  21,  22, 100]])"
      ]
     },
     "execution_count": 27,
     "metadata": {},
     "output_type": "execute_result"
    }
   ],
   "source": [
    "# 2차원 배열 인덱싱을 통한 값 수정\n",
    "# 하나의 행/열에 대해 모두 동일한 값으로 수정 : 전달하려는 값을 스칼라값으로 전달\n",
    "# 서로 다른 값으로 수정 : 배열 요소 개수에 맞춰서 전달\n",
    "# 하나의 값을 수정하는 예시\n",
    "arr2[2] = 9\n",
    "arr2"
   ]
  },
  {
   "cell_type": "code",
   "execution_count": 28,
   "id": "0d68400b",
   "metadata": {},
   "outputs": [
    {
     "data": {
      "text/plain": [
       "array([[  0,   1,   2,   3,   4,   5],\n",
       "       [  9,   9,   9,  99,  99,  99],\n",
       "       [  9,   9,   9,   9,   9,   9],\n",
       "       [ 18,  19,  20,  21,  22, 100]])"
      ]
     },
     "execution_count": 28,
     "metadata": {},
     "output_type": "execute_result"
    }
   ],
   "source": [
    "# 단일 값이 아닌 여러 값을 대입하고 싶으면 모양에 맞게 배열을 대입합니다.\n",
    "arr2[1] = [9, 9, 9, 99, 99, 99]\n",
    "arr2"
   ]
  },
  {
   "cell_type": "code",
   "execution_count": 29,
   "id": "94403bca",
   "metadata": {},
   "outputs": [
    {
     "name": "stdout",
     "output_type": "stream",
     "text": [
      "\n",
      "    type : <class 'numpy.ndarray'>  \n",
      "    shape : (2, 4, 3)  \n",
      "    dimension : 3  \n",
      "    dtype : int32\n",
      "    data :\n",
      " [[[ 0  1  2]\n",
      "  [ 3  4  5]\n",
      "  [ 6  7  8]\n",
      "  [ 9 10 11]]\n",
      "\n",
      " [[12 13 14]\n",
      "  [15 16 17]\n",
      "  [18 19 20]\n",
      "  [21 22 23]]]\n",
      "    \n"
     ]
    }
   ],
   "source": [
    "# 3차원 배열 생성\n",
    "# 구조 : 2개의 층(면), 4행 3열\n",
    "# np.arange() => 0~ 23까지 24개를 집어넣고 3차원으로 재조정해보세요.\n",
    "arr3 = np.arange(0, 24).reshape(2, 4, 3)\n",
    "np_print(arr3)"
   ]
  },
  {
   "cell_type": "code",
   "execution_count": 30,
   "id": "38d6d205",
   "metadata": {},
   "outputs": [
    {
     "data": {
      "text/plain": [
       "array([[ 0,  1,  2],\n",
       "       [ 3,  4,  5],\n",
       "       [ 6,  7,  8],\n",
       "       [ 9, 10, 11]])"
      ]
     },
     "execution_count": 30,
     "metadata": {},
     "output_type": "execute_result"
    }
   ],
   "source": [
    "# 3차원 배열 인덱싱 : arr[면, 행, 열]\n",
    "# 0번째 면(페이지)에 접근\n",
    "arr3[0]"
   ]
  },
  {
   "cell_type": "code",
   "execution_count": 31,
   "id": "702e512e",
   "metadata": {},
   "outputs": [
    {
     "data": {
      "text/plain": [
       "array([3, 4, 5])"
      ]
     },
     "execution_count": 31,
     "metadata": {},
     "output_type": "execute_result"
    }
   ],
   "source": [
    "# 0번째 면, 첫 번째 행에 접근시켜주세요\n",
    "arr3[0, 1]"
   ]
  },
  {
   "cell_type": "code",
   "execution_count": 32,
   "id": "d6aaee55",
   "metadata": {},
   "outputs": [
    {
     "data": {
      "text/plain": [
       "20"
      ]
     },
     "execution_count": 32,
     "metadata": {},
     "output_type": "execute_result"
    }
   ],
   "source": [
    "# 1번째 면, 2번 행, 2번 열에 접근\n",
    "arr3[1, 2, 2]"
   ]
  },
  {
   "cell_type": "code",
   "execution_count": 33,
   "id": "4374eb43",
   "metadata": {},
   "outputs": [
    {
     "data": {
      "text/plain": [
       "array([[[ 0,  1,  2],\n",
       "        [ 3,  4,  5],\n",
       "        [ 6,  7,  8],\n",
       "        [ 9, 10, 11]],\n",
       "\n",
       "       [[ 0,  0,  0],\n",
       "        [ 0,  0,  0],\n",
       "        [ 0,  0,  0],\n",
       "        [ 0,  0,  0]]])"
      ]
     },
     "execution_count": 33,
     "metadata": {},
     "output_type": "execute_result"
    }
   ],
   "source": [
    "# 3차원 배열 역시 배열 인덱싱으로 값 수정이 가능합니다.\n",
    "# 스칼라값을 이용한 변경\n",
    "# arr3의 2번면(0번째부터 세면 1번째)을 0으로 일괄 수정해주세요.\n",
    "arr3[1] = 0\n",
    "arr3"
   ]
  },
  {
   "cell_type": "code",
   "execution_count": 34,
   "id": "b057d32b",
   "metadata": {},
   "outputs": [
    {
     "data": {
      "text/plain": [
       "array([[[ 0,  1,  2],\n",
       "        [ 3,  4,  5],\n",
       "        [ 6,  7,  8],\n",
       "        [ 9, 10, 11]],\n",
       "\n",
       "       [[ 0,  0,  0],\n",
       "        [ 1,  2,  3],\n",
       "        [ 0,  0,  0],\n",
       "        [ 0,  0,  0]]])"
      ]
     },
     "execution_count": 34,
     "metadata": {},
     "output_type": "execute_result"
    }
   ],
   "source": [
    "# 하나의 면에 대해 서로 다른 값으로 수정 : 요소의 값을 같은 구조, 개수로 전달\n",
    "# [1, 1]의 값이 현재 0, 0, 0인데 각각 1, 2, 3으로 바꿔주세요\n",
    "arr3[1, 1] = [1, 2, 3]\n",
    "arr3"
   ]
  },
  {
   "cell_type": "code",
   "execution_count": 35,
   "id": "e7d3007d",
   "metadata": {},
   "outputs": [],
   "source": [
    "# 한 면을 통째로 바꾸고 싶다면 같은 크기의 2차원 배열을 대입해줍니다.\n",
    "arr3[0] = [[10, 20, 30],\n",
    "[40, 50, 60],\n",
    "[0, 0, 0],\n",
    "[0, 0, 0]]"
   ]
  },
  {
   "cell_type": "code",
   "execution_count": 36,
   "id": "e968b547",
   "metadata": {},
   "outputs": [
    {
     "data": {
      "text/plain": [
       "array([[[10, 20, 30],\n",
       "        [40, 50, 60],\n",
       "        [ 0,  0,  0],\n",
       "        [ 0,  0,  0]],\n",
       "\n",
       "       [[ 0,  0,  0],\n",
       "        [ 1,  2,  3],\n",
       "        [ 0,  0,  0],\n",
       "        [ 0,  0,  0]]])"
      ]
     },
     "execution_count": 36,
     "metadata": {},
     "output_type": "execute_result"
    }
   ],
   "source": [
    "arr3"
   ]
  },
  {
   "cell_type": "code",
   "execution_count": 37,
   "id": "70764b96",
   "metadata": {},
   "outputs": [
    {
     "name": "stdout",
     "output_type": "stream",
     "text": [
      "[[10 20 30]\n",
      " [40 50 60]\n",
      " [ 0  0  0]\n",
      " [ 0  0  0]]\n",
      "----------\n",
      "[[[10 20 30]\n",
      "  [40 50 60]\n",
      "  [ 0  0  0]]\n",
      "\n",
      " [[10 20 30]\n",
      "  [ 0  0  0]\n",
      "  [ 0  0  0]]]\n"
     ]
    }
   ],
   "source": [
    "# 여러개의 인덱싱을 배열로 전달\n",
    "# (행0, 열0), (행1, 열1), (행2, 열2)\n",
    "# 3차원 배열일 경우에 : [페이지, [[0, 1, 2], [0, 1, 2]]]\n",
    "# arr3[면, 행, 열] -> 만약 여러 단위를 조회할 때는 이중리스트로 입력\n",
    "# 삼중리스트 입력시 이중리스트 요소를 반복\n",
    "print(arr3[0])\n",
    "print(\"----------\")\n",
    "print(arr3[0, [[0, 1, 2], [0, 2, 3]]])"
   ]
  },
  {
   "cell_type": "code",
   "execution_count": 38,
   "id": "21d048ea",
   "metadata": {},
   "outputs": [
    {
     "data": {
      "text/plain": [
       "array([10, 50,  0])"
      ]
     },
     "execution_count": 38,
     "metadata": {},
     "output_type": "execute_result"
    }
   ],
   "source": [
    "# 내부 요소 인덱싱시 일반 리스트를 사용하는 경우\n",
    "# 줄 단위로 가져오는게 아니라 내부 요소 하나하나를 단위로 가져옴\n",
    "arr3[0, [0, 1, 2], [0, 1, 2]]"
   ]
  },
  {
   "cell_type": "code",
   "execution_count": 39,
   "id": "b7daa3d5",
   "metadata": {},
   "outputs": [
    {
     "data": {
      "text/plain": [
       "array([[[10, 20, 30],\n",
       "        [40, 50, 60],\n",
       "        [ 0,  0,  0],\n",
       "        [ 0,  0,  0]],\n",
       "\n",
       "       [[ 0,  0,  0],\n",
       "        [ 1,  2,  3],\n",
       "        [ 0,  0,  0],\n",
       "        [ 0,  0,  0]]])"
      ]
     },
     "execution_count": 39,
     "metadata": {},
     "output_type": "execute_result"
    }
   ],
   "source": [
    "arr3"
   ]
  },
  {
   "cell_type": "markdown",
   "id": "37562c8a",
   "metadata": {},
   "source": [
    "### 2. 슬라이싱 : 여러 개의 요소에 대해 참조\n",
    "- axis 별로 범위 지정\n",
    "    - from_index : 시작 인덱스(포함), 0일 경우 생략 가능\n",
    "    - to_index : 종료 인덱스(미포함), 마지막 인덱스일 경우 생략 가능\n",
    "    - step : 연속되지 않은 범위의 경우 간격 지정\n",
    "- 열만 조회하는 경우 : 전체 행에 슬라이싱으로 접근 후 특정 열을 조회"
   ]
  },
  {
   "cell_type": "code",
   "execution_count": 40,
   "id": "fc464f04",
   "metadata": {},
   "outputs": [
    {
     "name": "stdout",
     "output_type": "stream",
     "text": [
      "\n",
      "    type : <class 'numpy.ndarray'>  \n",
      "    shape : (24,)  \n",
      "    dimension : 1  \n",
      "    dtype : int32\n",
      "    data :\n",
      " [ 0  1  2  3  4  5  6  7  8  9 10 11 12 13 14 15 16 17 18 19 20 21 22 23]\n",
      "    \n"
     ]
    }
   ],
   "source": [
    "# 0부터 23까지 1씩 증가하는 정수값을 가지는 1차원배열을 변수 a에 저장해서 조회해주세요.\n",
    "a = np.arange(0, 24)\n",
    "np_print(a)"
   ]
  },
  {
   "cell_type": "code",
   "execution_count": 41,
   "id": "ef30cef0",
   "metadata": {},
   "outputs": [
    {
     "data": {
      "text/plain": [
       "array([1, 2, 3, 4])"
      ]
     },
     "execution_count": 41,
     "metadata": {},
     "output_type": "execute_result"
    }
   ],
   "source": [
    "# 1차원 배열 슬라이싱 : 1부터 4번까지 접근\n",
    "a[1:5]"
   ]
  },
  {
   "cell_type": "code",
   "execution_count": 43,
   "id": "9b28d5e9",
   "metadata": {},
   "outputs": [
    {
     "data": {
      "text/plain": [
       "array([ 1,  3,  5,  7,  9, 11, 13])"
      ]
     },
     "execution_count": 43,
     "metadata": {},
     "output_type": "execute_result"
    }
   ],
   "source": [
    "# 1번부터 14번까지 2개씩 건너뛰면서 접근해주세요.\n",
    "a[1:15:2]"
   ]
  },
  {
   "cell_type": "code",
   "execution_count": 44,
   "id": "40238f69",
   "metadata": {},
   "outputs": [
    {
     "data": {
      "text/plain": [
       "array([[ 0,  1,  2,  3],\n",
       "       [ 4,  5,  6,  7],\n",
       "       [ 8,  9, 10, 11],\n",
       "       [12, 13, 14, 15],\n",
       "       [16, 17, 18, 19],\n",
       "       [20, 21, 22, 23]])"
      ]
     },
     "execution_count": 44,
     "metadata": {},
     "output_type": "execute_result"
    }
   ],
   "source": [
    "# 2차원 배열(6 * 4)로 a의 형태를 바꿔 변수 b에 저장해주시고 화면에 찍어주세요.\n",
    "b = a.reshape(6, 4)\n",
    "b"
   ]
  },
  {
   "cell_type": "code",
   "execution_count": 45,
   "id": "9a9ad6b2",
   "metadata": {},
   "outputs": [
    {
     "data": {
      "text/plain": [
       "array([[ 0,  1,  2,  3],\n",
       "       [ 4,  5,  6,  7],\n",
       "       [ 8,  9, 10, 11],\n",
       "       [12, 13, 14, 15]])"
      ]
     },
     "execution_count": 45,
     "metadata": {},
     "output_type": "execute_result"
    }
   ],
   "source": [
    "# 2차원 배열 슬라이싱 : 1행부터 4행까지 접근\n",
    "# 2d_array[행(:열:간격)]\n",
    "b[0:4]"
   ]
  },
  {
   "cell_type": "code",
   "execution_count": 46,
   "id": "58011c56",
   "metadata": {},
   "outputs": [
    {
     "data": {
      "text/plain": [
       "array([[ 6,  7],\n",
       "       [10, 11],\n",
       "       [14, 15],\n",
       "       [18, 19]])"
      ]
     },
     "execution_count": 46,
     "metadata": {},
     "output_type": "execute_result"
    }
   ],
   "source": [
    "# 1행부터 4행에 대해서, 2열부터 3열까지 접근\n",
    "b[1:5, 2:4]"
   ]
  },
  {
   "cell_type": "code",
   "execution_count": 47,
   "id": "03f9d780",
   "metadata": {},
   "outputs": [
    {
     "data": {
      "text/plain": [
       "array([[ 6,  7],\n",
       "       [10, 11],\n",
       "       [14, 15],\n",
       "       [18, 19]])"
      ]
     },
     "execution_count": 47,
     "metadata": {},
     "output_type": "execute_result"
    }
   ],
   "source": [
    "# 2차원배열 슬라이싱을 통한 값 수정\n",
    "# 1행부터 4행에 대해 2열부터 3열까지의 모든 배열에 대해서 수정\n",
    "s_arr = b[1:5, 2:]\n",
    "s_arr"
   ]
  },
  {
   "cell_type": "code",
   "execution_count": 50,
   "id": "2d681500",
   "metadata": {},
   "outputs": [],
   "source": [
    "# s_arr의 0번째 행과 마지막 열을 제외한 모든 값을 99로 수정\n",
    "s_arr[1:, 0] = 99"
   ]
  },
  {
   "cell_type": "code",
   "execution_count": 51,
   "id": "5605693b",
   "metadata": {},
   "outputs": [
    {
     "data": {
      "text/plain": [
       "array([[ 6,  7],\n",
       "       [99, 11],\n",
       "       [99, 15],\n",
       "       [99, 19]])"
      ]
     },
     "execution_count": 51,
     "metadata": {},
     "output_type": "execute_result"
    }
   ],
   "source": [
    "s_arr"
   ]
  },
  {
   "cell_type": "code",
   "execution_count": 52,
   "id": "8e8d8662",
   "metadata": {},
   "outputs": [],
   "source": [
    "list1 = [1, 2, 3]\n",
    "list2 = list1"
   ]
  },
  {
   "cell_type": "code",
   "execution_count": 53,
   "id": "4a2ed030",
   "metadata": {},
   "outputs": [
    {
     "name": "stdout",
     "output_type": "stream",
     "text": [
      "[10, 2, 3] [10, 2, 3]\n"
     ]
    }
   ],
   "source": [
    "list2[0] = 10\n",
    "print(list1, list2)"
   ]
  },
  {
   "cell_type": "code",
   "execution_count": 54,
   "id": "3209ed66",
   "metadata": {},
   "outputs": [
    {
     "data": {
      "text/plain": [
       "array([[ 0,  1,  2,  3],\n",
       "       [ 4,  5,  6,  7],\n",
       "       [ 8,  9, 99, 11],\n",
       "       [12, 13, 99, 15],\n",
       "       [16, 17, 99, 19],\n",
       "       [20, 21, 22, 23]])"
      ]
     },
     "execution_count": 54,
     "metadata": {},
     "output_type": "execute_result"
    }
   ],
   "source": [
    "# 얕은복사로 인한 원본 배열의 변경\n",
    "b"
   ]
  },
  {
   "cell_type": "code",
   "execution_count": 57,
   "id": "ff22af89",
   "metadata": {},
   "outputs": [
    {
     "data": {
      "text/plain": [
       "array([[ 1,  3],\n",
       "       [ 5,  7],\n",
       "       [ 9, 11],\n",
       "       [13, 15],\n",
       "       [17, 19],\n",
       "       [21, 23]])"
      ]
     },
     "execution_count": 57,
     "metadata": {},
     "output_type": "execute_result"
    }
   ],
   "source": [
    "# 2차원 배열 슬라이싱 : 연속되지 않은 범위의 열(컬럼)에 대한 인덱싱\n",
    "# step1. 전체 행에 대해서 접근\n",
    "# step2. 여러 개의 열 인덱싱 배열 전달\n",
    "# b의 전체 행 + 1, 3번 열을 조회해주세요.\n",
    "b[:, [1, 3]]"
   ]
  },
  {
   "cell_type": "markdown",
   "id": "14dea5e5",
   "metadata": {},
   "source": [
    "### 연습문제\n",
    "\n",
    "아래 정보는 학생들의 학번, 영어 성적, 국어 성적, 수학 성적 정보 입니다. <br>\n",
    "해당 정보를 첫번째 행(row)에 학번, 두번째 행에 영어 성적, 세번째 행에 국어 성적, 네번째 행에 수학 성적을 저장한 배열로 만들고 학생별로 영어 성적을 오름차순 기준으로 각 열(column)을 정렬하세요.\n",
    "\n",
    "<img src='img/sort_q1.png' align='left'>"
   ]
  },
  {
   "cell_type": "code",
   "execution_count": 58,
   "id": "2da4271a",
   "metadata": {},
   "outputs": [],
   "source": [
    "data = [[1, 2, 3, 4],\n",
    "       [70, 97, 45, 56],\n",
    "       [87, 84, 33, 67],\n",
    "       [46, 80, 75, 78]]\n",
    "arr = np.array(data)"
   ]
  },
  {
   "cell_type": "code",
   "execution_count": 59,
   "id": "5e615824",
   "metadata": {},
   "outputs": [
    {
     "data": {
      "text/plain": [
       "array([[ 1,  2,  3,  4],\n",
       "       [70, 97, 45, 56],\n",
       "       [87, 84, 33, 67],\n",
       "       [46, 80, 75, 78]])"
      ]
     },
     "execution_count": 59,
     "metadata": {},
     "output_type": "execute_result"
    }
   ],
   "source": [
    "arr"
   ]
  },
  {
   "cell_type": "code",
   "execution_count": 63,
   "id": "5609f7d2",
   "metadata": {},
   "outputs": [
    {
     "data": {
      "text/plain": [
       "array([2, 3, 0, 1], dtype=int64)"
      ]
     },
     "execution_count": 63,
     "metadata": {},
     "output_type": "execute_result"
    }
   ],
   "source": [
    "# argsort()를 이용해 정렬순번을 바꿔주세요.\n",
    "# 영어성적을 기준으로 했을떄 정렬순번 얻기\n",
    "i = np.argsort(arr[1])\n",
    "i"
   ]
  },
  {
   "cell_type": "code",
   "execution_count": 66,
   "id": "8c80b9b6",
   "metadata": {},
   "outputs": [
    {
     "data": {
      "text/plain": [
       "array([[ 3,  4,  1,  2],\n",
       "       [45, 56, 70, 97],\n",
       "       [33, 67, 87, 84],\n",
       "       [75, 78, 46, 80]])"
      ]
     },
     "execution_count": 66,
     "metadata": {},
     "output_type": "execute_result"
    }
   ],
   "source": [
    "# 먼저 행(row)지정 후 열(column)지정을 합니다.\n",
    "# 현재 학번, 영어, 수학, 국어 성적을 모두 보여줘야 하므로\n",
    "# row는 전체지정을 하되, 컬럼순번이 성적순이므로, 위의 i를 활용해 컬럼을 지정하면 됩니다.\n",
    "arr[:, i]"
   ]
  },
  {
   "cell_type": "code",
   "execution_count": null,
   "id": "b3c256e4",
   "metadata": {},
   "outputs": [],
   "source": []
  }
 ],
 "metadata": {
  "kernelspec": {
   "display_name": "Python 3 (ipykernel)",
   "language": "python",
   "name": "python3"
  },
  "language_info": {
   "codemirror_mode": {
    "name": "ipython",
    "version": 3
   },
   "file_extension": ".py",
   "mimetype": "text/x-python",
   "name": "python",
   "nbconvert_exporter": "python",
   "pygments_lexer": "ipython3",
   "version": "3.9.12"
  }
 },
 "nbformat": 4,
 "nbformat_minor": 5
}
