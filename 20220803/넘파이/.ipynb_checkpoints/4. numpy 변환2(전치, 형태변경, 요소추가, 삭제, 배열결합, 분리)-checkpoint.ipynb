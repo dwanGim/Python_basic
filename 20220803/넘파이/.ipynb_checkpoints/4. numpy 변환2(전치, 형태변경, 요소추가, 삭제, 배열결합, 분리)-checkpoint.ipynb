{
 "cells": [
  {
   "cell_type": "code",
   "execution_count": 1,
   "id": "8243461c",
   "metadata": {},
   "outputs": [],
   "source": [
    "# (공통) 라이브러리 불러오기 및 사용자 함수 정의\n",
    "import numpy as np\n",
    "\n",
    "def np_print(nparr):\n",
    "    print('''\n",
    "    type : {}  \n",
    "    shape : {}  \n",
    "    dimension : {}  \n",
    "    dtype : {}\n",
    "    data :\\n {}\n",
    "    '''.format(type(nparr), nparr.shape, nparr.ndim, nparr.dtype, nparr))"
   ]
  },
  {
   "cell_type": "markdown",
   "id": "b3b96c67",
   "metadata": {},
   "source": [
    "### 조건 색인(Boolean Indexing)\n",
    "\n",
    "- 배열의 요소에 대해 조건을 적용하여 True, False로 조건에 대한 결과 반환\n",
    "- True에 해당하는 요소만 조회하여 조건을 만족하는 결과 반환"
   ]
  },
  {
   "cell_type": "code",
   "execution_count": 2,
   "id": "c18bca43",
   "metadata": {},
   "outputs": [
    {
     "name": "stdout",
     "output_type": "stream",
     "text": [
      "\n",
      "    type : <class 'numpy.ndarray'>  \n",
      "    shape : (6, 4)  \n",
      "    dimension : 2  \n",
      "    dtype : int32\n",
      "    data :\n",
      " [[ 0  1  2  3]\n",
      " [ 4  5  6  7]\n",
      " [ 8  9 10 11]\n",
      " [12 13 14 15]\n",
      " [16 17 18 19]\n",
      " [20 21 22 23]]\n",
      "    \n"
     ]
    }
   ],
   "source": [
    "# 2차원 배열 생성\n",
    "# 6 * 4로 0 ~ 23을 만들엊쉐요\n",
    "b = np.arange(0, 24).reshape(6, 4)\n",
    "np_print(b)"
   ]
  },
  {
   "cell_type": "code",
   "execution_count": 3,
   "id": "0004ecf6",
   "metadata": {},
   "outputs": [
    {
     "data": {
      "text/plain": [
       "array([[False, False, False, False],\n",
       "       [False, False, False, False],\n",
       "       [False, False, False,  True],\n",
       "       [ True,  True,  True,  True],\n",
       "       [ True,  True,  True,  True],\n",
       "       [ True,  True,  True,  True]])"
      ]
     },
     "execution_count": 3,
     "metadata": {},
     "output_type": "execute_result"
    }
   ],
   "source": [
    "# 스칼라연산을 이용해서 10보다 큰 요소 조회하기\n",
    "b > 10"
   ]
  },
  {
   "cell_type": "code",
   "execution_count": 5,
   "id": "76c765b4",
   "metadata": {},
   "outputs": [
    {
     "data": {
      "text/plain": [
       "13"
      ]
     },
     "execution_count": 5,
     "metadata": {},
     "output_type": "execute_result"
    }
   ],
   "source": [
    "# 조건색인 방법\n",
    "# 자료[자료를 포함한 조건식]\n",
    "b[b>10]\n",
    "b[b>10].size"
   ]
  },
  {
   "cell_type": "code",
   "execution_count": 10,
   "id": "f015ad5a",
   "metadata": {},
   "outputs": [
    {
     "data": {
      "text/plain": [
       "array([ 2,  4,  6,  8, 10, 12, 14, 16, 18, 20, 22])"
      ]
     },
     "execution_count": 10,
     "metadata": {},
     "output_type": "execute_result"
    }
   ],
   "source": [
    "# 조건색인을 이용해 b에서 짝수인 자료만 남겨보세요.\n",
    "# 조건색인에 2개 이상의 조건을 걸고 싶을때는 각 조건을 하나하나마다 ()로 감싸주고\n",
    "# 조건 사이를 and인 경우 &로, or인 경우는 |로 연결해준다.\n",
    "b[(b % 2 == 0) & (b != 0)]"
   ]
  },
  {
   "cell_type": "markdown",
   "id": "1164a951",
   "metadata": {},
   "source": [
    "### 연습문제\n",
    "\n",
    "조건색인을 활용해 공무원시험의 합격자 평균을 구해주세요.\n",
    "합격점수는 60점 이상입니다.\n",
    "\n",
    "아래는 시험 점수 결과입니다.<br>\n",
    "[31, 30, 55, 34, 83, 75, 86, 60, 94, 80, 42, 37, 73, 80, 30, 65, 34,\n",
    "       55, 56, 51]"
   ]
  },
  {
   "cell_type": "code",
   "execution_count": 11,
   "id": "9ea21690",
   "metadata": {},
   "outputs": [
    {
     "data": {
      "text/plain": [
       "array([31, 30, 55, 34, 83, 75, 86, 60, 94, 80, 42, 37, 73, 80, 30, 65, 34,\n",
       "       55, 56, 51])"
      ]
     },
     "execution_count": 11,
     "metadata": {},
     "output_type": "execute_result"
    }
   ],
   "source": [
    "a = np.array([31, 30, 55, 34, 83, 75, 86, 60, 94, 80, 42, 37, 73, 80, 30, 65, 34,\n",
    "       55, 56, 51])\n",
    "a"
   ]
  },
  {
   "cell_type": "code",
   "execution_count": 14,
   "id": "e0450a73",
   "metadata": {},
   "outputs": [
    {
     "data": {
      "text/plain": [
       "77.33333333333333"
      ]
     },
     "execution_count": 14,
     "metadata": {},
     "output_type": "execute_result"
    }
   ],
   "source": [
    "np.mean(a[a>=60])"
   ]
  },
  {
   "cell_type": "markdown",
   "id": "484dc65d",
   "metadata": {},
   "source": [
    "### 배열 복사\n",
    "\n",
    "- 인덱싱, 슬라이싱을 통해 반환된 배열은 원본 배열에 대해 독립적인 새로운 객체가 아닌 원본 배열과 종속적인 객체\n",
    "- 원본과 독립적인 복사본인 배열을 생성 : arr.copy() / np.copy(arr)"
   ]
  },
  {
   "cell_type": "code",
   "execution_count": 15,
   "id": "9085311d",
   "metadata": {},
   "outputs": [],
   "source": [
    "a = [1, 2, 3]\n",
    "a2 = [1, 2, 3]"
   ]
  },
  {
   "cell_type": "code",
   "execution_count": 16,
   "id": "c7959ff3",
   "metadata": {},
   "outputs": [],
   "source": [
    "# 얕은복사\n",
    "b = a"
   ]
  },
  {
   "cell_type": "code",
   "execution_count": 17,
   "id": "66082270",
   "metadata": {},
   "outputs": [],
   "source": [
    "# 깊은복사 1 : 슬라이싱(전체범위 설정)을 이용한 복사\n",
    "c = a2[:]"
   ]
  },
  {
   "cell_type": "code",
   "execution_count": 18,
   "id": "8853d4d9",
   "metadata": {},
   "outputs": [],
   "source": [
    "b[0] = 10\n",
    "c[0] = 10"
   ]
  },
  {
   "cell_type": "code",
   "execution_count": 20,
   "id": "aa8b4fd6",
   "metadata": {},
   "outputs": [
    {
     "data": {
      "text/plain": [
       "([10, 2, 3], [1, 2, 3])"
      ]
     },
     "execution_count": 20,
     "metadata": {},
     "output_type": "execute_result"
    }
   ],
   "source": [
    "a, a2"
   ]
  },
  {
   "cell_type": "code",
   "execution_count": 21,
   "id": "65f5528d",
   "metadata": {},
   "outputs": [
    {
     "name": "stdout",
     "output_type": "stream",
     "text": [
      "\n",
      "    type : <class 'numpy.ndarray'>  \n",
      "    shape : (2, 2)  \n",
      "    dimension : 2  \n",
      "    dtype : int32\n",
      "    data :\n",
      " [[0 1]\n",
      " [2 3]]\n",
      "    \n"
     ]
    }
   ],
   "source": [
    "# 0부터 3까지 범위로 1씩 증가하는 2 * 2 구조 배열 생성\n",
    "arr1 = np.arange(0, 4).reshape(2, 2)\n",
    "np_print(arr1)"
   ]
  },
  {
   "cell_type": "code",
   "execution_count": 22,
   "id": "61bf2546",
   "metadata": {},
   "outputs": [],
   "source": [
    "# 깊은복사 2: .copy()를 array 뒤에 붙이면 대입시 깊은복사가 일어납니다.\n",
    "arr2 = arr1.copy()"
   ]
  },
  {
   "cell_type": "code",
   "execution_count": 23,
   "id": "83ef96b2",
   "metadata": {},
   "outputs": [],
   "source": [
    "# 얕은복사 : array도 참조형 변수여서 그냥 대입하면 얕은복사입니다.\n",
    "arr3 = arr1"
   ]
  },
  {
   "cell_type": "code",
   "execution_count": 25,
   "id": "bd07b376",
   "metadata": {},
   "outputs": [],
   "source": [
    "arr2[0, 0] = 100"
   ]
  },
  {
   "cell_type": "code",
   "execution_count": 26,
   "id": "4af58e7c",
   "metadata": {},
   "outputs": [
    {
     "data": {
      "text/plain": [
       "array([[0, 1],\n",
       "       [2, 3]])"
      ]
     },
     "execution_count": 26,
     "metadata": {},
     "output_type": "execute_result"
    }
   ],
   "source": [
    "arr1"
   ]
  },
  {
   "cell_type": "code",
   "execution_count": 27,
   "id": "7f4701f9",
   "metadata": {},
   "outputs": [
    {
     "data": {
      "text/plain": [
       "array([[100,   1],\n",
       "       [  2,   3]])"
      ]
     },
     "execution_count": 27,
     "metadata": {},
     "output_type": "execute_result"
    }
   ],
   "source": [
    "arr2"
   ]
  },
  {
   "cell_type": "code",
   "execution_count": 28,
   "id": "882c5f28",
   "metadata": {},
   "outputs": [],
   "source": [
    "arr3[0, 0] = 100"
   ]
  },
  {
   "cell_type": "code",
   "execution_count": 29,
   "id": "3c6f5bed",
   "metadata": {},
   "outputs": [
    {
     "data": {
      "text/plain": [
       "array([[100,   1],\n",
       "       [  2,   3]])"
      ]
     },
     "execution_count": 29,
     "metadata": {},
     "output_type": "execute_result"
    }
   ],
   "source": [
    "arr3"
   ]
  },
  {
   "cell_type": "code",
   "execution_count": 30,
   "id": "797c492e",
   "metadata": {},
   "outputs": [
    {
     "data": {
      "text/plain": [
       "array([[100,   1],\n",
       "       [  2,   3]])"
      ]
     },
     "execution_count": 30,
     "metadata": {},
     "output_type": "execute_result"
    }
   ],
   "source": [
    "arr1"
   ]
  },
  {
   "cell_type": "markdown",
   "id": "6fe0783e",
   "metadata": {},
   "source": [
    "### 배열 변환\n",
    "\n",
    "#### 1. 전치(Transpose) \n",
    "- 배열의 행/열 인덱스가 바뀌는 변환\n",
    "- 배열객체.T : 행/열 인덱스가 바뀐 새로운 배열을 반환하며 원본은 변경되지 않음\n",
    "    \n",
    "<img src='img/transpose.png' width='200' height='200' align='left'>"
   ]
  },
  {
   "cell_type": "code",
   "execution_count": 31,
   "id": "fc062483",
   "metadata": {},
   "outputs": [
    {
     "data": {
      "text/plain": [
       "array([[ 1,  2,  3,  4],\n",
       "       [ 5,  6,  7,  8],\n",
       "       [ 9, 10, 11, 12]])"
      ]
     },
     "execution_count": 31,
     "metadata": {},
     "output_type": "execute_result"
    }
   ],
   "source": [
    "# 1이상 12이하의 값을 가지는 3 * 4 구조의 배열 생성\n",
    "arr1 = np.arange(1, 13).reshape(3, 4)\n",
    "arr1"
   ]
  },
  {
   "cell_type": "code",
   "execution_count": 36,
   "id": "210a870e",
   "metadata": {},
   "outputs": [
    {
     "data": {
      "text/plain": [
       "array([[ 1,  5,  9],\n",
       "       [ 2,  6, 10],\n",
       "       [ 3,  7, 11],\n",
       "       [ 4,  8, 12]])"
      ]
     },
     "execution_count": 36,
     "metadata": {},
     "output_type": "execute_result"
    }
   ],
   "source": [
    "# 전치행렬은 그냥 배열.T 라고 적으면 전치행렬이 나옵니다.\n",
    "arr1.T"
   ]
  },
  {
   "cell_type": "markdown",
   "id": "f414d56b",
   "metadata": {},
   "source": [
    "### 2. 배열 형태 변경\n",
    "- arr.ravel(), np.ravel(arr)\n",
    "    - 다차원 배열을 1차원 배열로 변환\n",
    "    - np.ravel() : 1차원으로 변환되는 결과는 원본 배열에 반영되지 않음\n",
    "    - arr.ravel() : 1차원으로 변환하는 배열의 요소가 변경되면 원본 배열에도 반영됨\n",
    "- arr.reshape(new_shape), np.reshape(arr, new_shape)\n",
    "    - 원본 배열 객체의 구조(shape)를 변경\n",
    "    - 변경하려는 구조의 전체 요소 개수와 원본 배열의 전체 요소 개수가 동일해야 함\n",
    "    - 변경하려는 구조의 튜플 중 하나의 원소는 -1로 대체할 수 있고 다른 하나의 원소를 기준으로 계산되어 사용됨\n",
    "    - reshape() 메서드가 반환하는 배열의 요소가 변경되면 원본 배열에도 반영됨"
   ]
  },
  {
   "cell_type": "code",
   "execution_count": 37,
   "id": "1356d668",
   "metadata": {},
   "outputs": [],
   "source": [
    "# 다차원 배열을 1차원 배열로 변환\n",
    "arr2 = arr1.ravel()"
   ]
  },
  {
   "cell_type": "code",
   "execution_count": 38,
   "id": "b9347f53",
   "metadata": {},
   "outputs": [
    {
     "data": {
      "text/plain": [
       "array([[ 1,  2,  3,  4],\n",
       "       [ 5,  6,  7,  8],\n",
       "       [ 9, 10, 11, 12]])"
      ]
     },
     "execution_count": 38,
     "metadata": {},
     "output_type": "execute_result"
    }
   ],
   "source": [
    "arr1"
   ]
  },
  {
   "cell_type": "code",
   "execution_count": 39,
   "id": "260a9aa9",
   "metadata": {},
   "outputs": [
    {
     "data": {
      "text/plain": [
       "array([ 1,  2,  3,  4,  5,  6,  7,  8,  9, 10, 11, 12])"
      ]
     },
     "execution_count": 39,
     "metadata": {},
     "output_type": "execute_result"
    }
   ],
   "source": [
    "arr2"
   ]
  },
  {
   "cell_type": "code",
   "execution_count": 40,
   "id": "de49f603",
   "metadata": {},
   "outputs": [],
   "source": [
    "# 변환 후 값 수정, 원본과 비교\n",
    "arr2[0] = 10"
   ]
  },
  {
   "cell_type": "code",
   "execution_count": 41,
   "id": "61cd2c70",
   "metadata": {},
   "outputs": [
    {
     "data": {
      "text/plain": [
       "array([[10,  2,  3,  4],\n",
       "       [ 5,  6,  7,  8],\n",
       "       [ 9, 10, 11, 12]])"
      ]
     },
     "execution_count": 41,
     "metadata": {},
     "output_type": "execute_result"
    }
   ],
   "source": [
    "arr1"
   ]
  },
  {
   "cell_type": "code",
   "execution_count": 42,
   "id": "453a4eeb",
   "metadata": {},
   "outputs": [
    {
     "data": {
      "text/plain": [
       "array([[10,  2],\n",
       "       [ 3,  4],\n",
       "       [ 5,  6],\n",
       "       [ 7,  8],\n",
       "       [ 9, 10],\n",
       "       [11, 12]])"
      ]
     },
     "execution_count": 42,
     "metadata": {},
     "output_type": "execute_result"
    }
   ],
   "source": [
    "# arr1을 6 * 2 바꾸되, 하나의 축은  -1을 적고 나머지 하나에 2를 적어주세요.\n",
    "arr3 = arr1.reshape(-1, 2)\n",
    "arr3"
   ]
  },
  {
   "cell_type": "code",
   "execution_count": 43,
   "id": "aff99d31",
   "metadata": {},
   "outputs": [],
   "source": [
    "# 변환 후 값 수정, 원본과 비교\n",
    "arr3[0] = [100, 200]"
   ]
  },
  {
   "cell_type": "code",
   "execution_count": 44,
   "id": "f2a65619",
   "metadata": {},
   "outputs": [
    {
     "data": {
      "text/plain": [
       "array([[100, 200,   3,   4],\n",
       "       [  5,   6,   7,   8],\n",
       "       [  9,  10,  11,  12]])"
      ]
     },
     "execution_count": 44,
     "metadata": {},
     "output_type": "execute_result"
    }
   ],
   "source": [
    "arr1"
   ]
  },
  {
   "cell_type": "code",
   "execution_count": 46,
   "id": "6eee6789",
   "metadata": {},
   "outputs": [
    {
     "ename": "ValueError",
     "evalue": "cannot reshape array of size 12 into shape (5,newaxis)",
     "output_type": "error",
     "traceback": [
      "\u001b[1;31m---------------------------------------------------------------------------\u001b[0m",
      "\u001b[1;31mValueError\u001b[0m                                Traceback (most recent call last)",
      "Input \u001b[1;32mIn [46]\u001b[0m, in \u001b[0;36m<cell line: 1>\u001b[1;34m()\u001b[0m\n\u001b[1;32m----> 1\u001b[0m \u001b[43marr1\u001b[49m\u001b[38;5;241;43m.\u001b[39;49m\u001b[43mreshape\u001b[49m\u001b[43m(\u001b[49m\u001b[38;5;241;43m5\u001b[39;49m\u001b[43m,\u001b[49m\u001b[43m \u001b[49m\u001b[38;5;241;43m-\u001b[39;49m\u001b[38;5;241;43m1\u001b[39;49m\u001b[43m)\u001b[49m\n",
      "\u001b[1;31mValueError\u001b[0m: cannot reshape array of size 12 into shape (5,newaxis)"
     ]
    }
   ],
   "source": [
    "arr1.reshape(5, -1)"
   ]
  },
  {
   "cell_type": "markdown",
   "id": "480fb7f5",
   "metadata": {},
   "source": [
    "#### 3. 요소 변경, 추가, 삭제\n",
    "\n",
    "1) 요소 변경\n",
    "- arr.resize(new_shape), np.resize(arr, new_shape)\n",
    "    - 배열 메서드를 사용하면 원본 변경, np 함수를 사용하면 새로운 배열 반환\n",
    "    - 배열의 구조(shape)를 변경하며 원본 배열의 요소 수와 동일하지 않아도 변경 가능\n",
    "    - 변경되는 배열의 요소 수가 동일할 경우 : reshape() 메서드와 동일한 결과\n",
    "    - 변경되는 배열의 요소 수가 더 많을 경우 \n",
    "        - np.resize(arr, new_shape) : 원본을 변경하지 않고, 모자란 부분을 기존 배열 값에서 복사해서 추가\n",
    "        - arr.resize(new_shape) : 원본을 변경하고, 모자란 부분을 0으로 채움\n",
    "        - 공통적으로 new_shape은 튜플로 추가\n",
    "    - 변경되는 배열의 요소 수가 더 작을 경우 : 마지막 남은 요소 삭제"
   ]
  },
  {
   "cell_type": "code",
   "execution_count": 47,
   "id": "7680c4d0",
   "metadata": {},
   "outputs": [],
   "source": [
    "# 9987\n",
    "np.random.seed(9987)"
   ]
  },
  {
   "cell_type": "code",
   "execution_count": 48,
   "id": "d4562d3f",
   "metadata": {},
   "outputs": [
    {
     "data": {
      "text/plain": [
       "array([[9, 6, 9, 7, 7],\n",
       "       [8, 6, 4, 2, 8],\n",
       "       [2, 8, 2, 6, 2]])"
      ]
     },
     "execution_count": 48,
     "metadata": {},
     "output_type": "execute_result"
    }
   ],
   "source": [
    "# 1이상 10미만의 범위의 랜덤 정수값으로 3 * 5 구조를 가진 배열 생성\n",
    "arr = np.random.randint(1, 10, (3, 5))\n",
    "arr"
   ]
  },
  {
   "cell_type": "code",
   "execution_count": 49,
   "id": "6df456a7",
   "metadata": {},
   "outputs": [
    {
     "data": {
      "text/plain": [
       "array([[4, 6, 1, 1, 5],\n",
       "       [5, 3, 3, 4, 4],\n",
       "       [4, 5, 6, 7, 7]])"
      ]
     },
     "execution_count": 49,
     "metadata": {},
     "output_type": "execute_result"
    }
   ],
   "source": [
    "# 1이상 10미만의 범위의 랜덤 정수값으로 3 * 5 구조를 가진 배열 생성\n",
    "arr2 = np.random.randint(1, 10, (3, 5))\n",
    "arr2"
   ]
  },
  {
   "cell_type": "code",
   "execution_count": null,
   "id": "6668b1b9",
   "metadata": {},
   "outputs": [],
   "source": [
    "# 변경되는 배열의 요소 수가 같은 경우 : reshape()와 동일한 결과물"
   ]
  },
  {
   "cell_type": "code",
   "execution_count": 50,
   "id": "d6c3f8a2",
   "metadata": {},
   "outputs": [
    {
     "data": {
      "text/plain": [
       "15"
      ]
     },
     "execution_count": 50,
     "metadata": {},
     "output_type": "execute_result"
    }
   ],
   "source": [
    "arr.size"
   ]
  },
  {
   "cell_type": "code",
   "execution_count": 51,
   "id": "a13894c3",
   "metadata": {},
   "outputs": [],
   "source": [
    "arr.resize(5, 3)"
   ]
  },
  {
   "cell_type": "code",
   "execution_count": 52,
   "id": "371949cf",
   "metadata": {},
   "outputs": [
    {
     "data": {
      "text/plain": [
       "array([[9, 6, 9],\n",
       "       [7, 7, 8],\n",
       "       [6, 4, 2],\n",
       "       [8, 2, 8],\n",
       "       [2, 6, 2]])"
      ]
     },
     "execution_count": 52,
     "metadata": {},
     "output_type": "execute_result"
    }
   ],
   "source": [
    "arr"
   ]
  },
  {
   "cell_type": "code",
   "execution_count": null,
   "id": "8fbc7e2c",
   "metadata": {},
   "outputs": [],
   "source": [
    "# 변경 후 배열의 요소 개수가 더 많은 경우"
   ]
  },
  {
   "cell_type": "code",
   "execution_count": 53,
   "id": "8ffea86d",
   "metadata": {},
   "outputs": [
    {
     "data": {
      "text/plain": [
       "array([[4, 6, 1],\n",
       "       [1, 5, 5],\n",
       "       [3, 3, 4],\n",
       "       [4, 4, 5],\n",
       "       [6, 7, 7],\n",
       "       [4, 6, 1]])"
      ]
     },
     "execution_count": 53,
     "metadata": {},
     "output_type": "execute_result"
    }
   ],
   "source": [
    "arr3 = np.resize(arr2, (6, 3))\n",
    "arr3"
   ]
  },
  {
   "cell_type": "code",
   "execution_count": 54,
   "id": "37df51cd",
   "metadata": {},
   "outputs": [
    {
     "data": {
      "text/plain": [
       "array([[9, 6, 9],\n",
       "       [7, 7, 8],\n",
       "       [6, 4, 2],\n",
       "       [8, 2, 8],\n",
       "       [2, 6, 2],\n",
       "       [0, 0, 0]])"
      ]
     },
     "execution_count": 54,
     "metadata": {},
     "output_type": "execute_result"
    }
   ],
   "source": [
    "# refcheck = False인 경우만 크기가 다를 때 0으로 남는 자리를 채워줌\n",
    "arr.resize((6, 3), refcheck=False)\n",
    "arr"
   ]
  },
  {
   "cell_type": "code",
   "execution_count": 57,
   "id": "c37231e8",
   "metadata": {},
   "outputs": [],
   "source": [
    "# 변경되는 배열의 요소 수가 더 적은 경우 : 마지막 남은 요소를 삭제\n",
    "# 크리가 원본과 resize를 이용했을때 다르다면 refcheck=False를 반드시 넣는다.\n",
    "# resize로, 원래 3 * 5인 arr을 3 * 3형태로 바꿔보세요\n",
    "arr.resize((3, 3), refcheck=False)"
   ]
  },
  {
   "cell_type": "code",
   "execution_count": 58,
   "id": "c7d0f7b9",
   "metadata": {},
   "outputs": [
    {
     "data": {
      "text/plain": [
       "array([[9, 6, 9],\n",
       "       [7, 7, 8],\n",
       "       [6, 4, 2]])"
      ]
     },
     "execution_count": 58,
     "metadata": {},
     "output_type": "execute_result"
    }
   ],
   "source": [
    "arr"
   ]
  },
  {
   "cell_type": "markdown",
   "id": "bc083093",
   "metadata": {},
   "source": [
    "2) 요소 추가\n",
    "- np.append(arr, values, axis=None)\n",
    "    - arr 마지막에 values를 추가\n",
    "    - axis 지정하지 않는 경우(기본값) : 1차원 배열로 변형되어 결합\n",
    "    - axis = 0 : 행 방향으로 결합 (단, 열의 개수가 동일해야 함)\n",
    "    - axis = 1 : 열 방향으로 결합 (단, 행의 개수가 동일해야 함)\n",
    "    - 원본 배열들에 반영되지 않음"
   ]
  },
  {
   "cell_type": "code",
   "execution_count": 65,
   "id": "3aa3d56d",
   "metadata": {},
   "outputs": [
    {
     "data": {
      "text/plain": [
       "(array([[1, 2, 3],\n",
       "        [4, 5, 6],\n",
       "        [7, 8, 9]]),\n",
       " array([[10, 11, 12],\n",
       "        [13, 14, 15],\n",
       "        [16, 17, 18]]))"
      ]
     },
     "execution_count": 65,
     "metadata": {},
     "output_type": "execute_result"
    }
   ],
   "source": [
    "# 1이상 10미만의 범위에서 1씩 증가하는 숫자로 3 * 3 구조의 배열 a 생성\n",
    "# 10이상 19미만의 범위에서 1씩 증가하는 숫자로 3 * 3 구조의 배열 b 생성\n",
    "a = np.arange(1, 10).reshape(3, 3) \n",
    "b = np.arange(10, 19).reshape(3, 3)\n",
    "a, b"
   ]
  },
  {
   "cell_type": "code",
   "execution_count": 66,
   "id": "99187a9e",
   "metadata": {},
   "outputs": [
    {
     "data": {
      "text/plain": [
       "array([ 1,  2,  3,  4,  5,  6,  7,  8,  9, 10, 11, 12, 13, 14, 15, 16, 17,\n",
       "       18])"
      ]
     },
     "execution_count": 66,
     "metadata": {},
     "output_type": "execute_result"
    }
   ],
   "source": [
    "# 2개의 배열 결합\n",
    "# axis를 지정하지 않는 경우 : np.append(arr1, arr2) => axis=None\n",
    "# axis=None인 경우는 1차원으로 뭉개서 합쳐줍니다.\n",
    "np.append(a, b)"
   ]
  },
  {
   "cell_type": "code",
   "execution_count": 67,
   "id": "a90be819",
   "metadata": {},
   "outputs": [
    {
     "data": {
      "text/plain": [
       "array([[ 1,  2,  3],\n",
       "       [ 4,  5,  6],\n",
       "       [ 7,  8,  9],\n",
       "       [10, 11, 12],\n",
       "       [13, 14, 15],\n",
       "       [16, 17, 18]])"
      ]
     },
     "execution_count": 67,
     "metadata": {},
     "output_type": "execute_result"
    }
   ],
   "source": [
    "# 2개의 배열 결합\n",
    "# axis = 0 : 행 단위 결합(row 개수가 늘어남) / 열(column)개수는 3개로 유지\n",
    "np.append(a, b, axis=0)"
   ]
  },
  {
   "cell_type": "code",
   "execution_count": 68,
   "id": "d92dca10",
   "metadata": {},
   "outputs": [
    {
     "data": {
      "text/plain": [
       "array([[ 1,  2,  3, 10, 11, 12],\n",
       "       [ 4,  5,  6, 13, 14, 15],\n",
       "       [ 7,  8,  9, 16, 17, 18]])"
      ]
     },
     "execution_count": 68,
     "metadata": {},
     "output_type": "execute_result"
    }
   ],
   "source": [
    "# 2개의 배열 결합\n",
    "# axis = 1 :열 방향으로 결합 / 행 개수는 동일\n",
    "np.append(a, b, axis=1)"
   ]
  },
  {
   "cell_type": "code",
   "execution_count": 72,
   "id": "46316b6a",
   "metadata": {},
   "outputs": [
    {
     "data": {
      "text/plain": [
       "array([[30, 31, 32, 33, 34],\n",
       "       [35, 36, 37, 38, 39],\n",
       "       [40, 41, 42, 43, 44]])"
      ]
     },
     "execution_count": 72,
     "metadata": {},
     "output_type": "execute_result"
    }
   ],
   "source": [
    "# 열의 개수가 다른 배열(3 * 5)와 (3 * 3)을 붙여보겠습니다.\n",
    "# 30 ~ 44까지, 3 * 5형태로 만들어주세요.\n",
    "c = np.arange(30, 45).reshape(3, 5)\n",
    "c"
   ]
  },
  {
   "cell_type": "code",
   "execution_count": 73,
   "id": "fef6e374",
   "metadata": {},
   "outputs": [
    {
     "data": {
      "text/plain": [
       "array([[1, 2, 3],\n",
       "       [4, 5, 6],\n",
       "       [7, 8, 9]])"
      ]
     },
     "execution_count": 73,
     "metadata": {},
     "output_type": "execute_result"
    }
   ],
   "source": [
    "a"
   ]
  },
  {
   "cell_type": "code",
   "execution_count": 74,
   "id": "590c7533",
   "metadata": {},
   "outputs": [
    {
     "ename": "ValueError",
     "evalue": "all the input array dimensions for the concatenation axis must match exactly, but along dimension 1, the array at index 0 has size 5 and the array at index 1 has size 3",
     "output_type": "error",
     "traceback": [
      "\u001b[1;31m---------------------------------------------------------------------------\u001b[0m",
      "\u001b[1;31mValueError\u001b[0m                                Traceback (most recent call last)",
      "Input \u001b[1;32mIn [74]\u001b[0m, in \u001b[0;36m<cell line: 2>\u001b[1;34m()\u001b[0m\n\u001b[0;32m      1\u001b[0m \u001b[38;5;66;03m# 열 개수가 맞지 않으면 axis=0으로 추가할 수 없습니다.\u001b[39;00m\n\u001b[1;32m----> 2\u001b[0m \u001b[43mnp\u001b[49m\u001b[38;5;241;43m.\u001b[39;49m\u001b[43mappend\u001b[49m\u001b[43m(\u001b[49m\u001b[43mc\u001b[49m\u001b[43m,\u001b[49m\u001b[43m \u001b[49m\u001b[43ma\u001b[49m\u001b[43m,\u001b[49m\u001b[43m \u001b[49m\u001b[43maxis\u001b[49m\u001b[38;5;241;43m=\u001b[39;49m\u001b[38;5;241;43m0\u001b[39;49m\u001b[43m)\u001b[49m\n",
      "File \u001b[1;32m<__array_function__ internals>:5\u001b[0m, in \u001b[0;36mappend\u001b[1;34m(*args, **kwargs)\u001b[0m\n",
      "File \u001b[1;32mC:\\ProgramData\\Anaconda3\\lib\\site-packages\\numpy\\lib\\function_base.py:4817\u001b[0m, in \u001b[0;36mappend\u001b[1;34m(arr, values, axis)\u001b[0m\n\u001b[0;32m   4815\u001b[0m     values \u001b[38;5;241m=\u001b[39m ravel(values)\n\u001b[0;32m   4816\u001b[0m     axis \u001b[38;5;241m=\u001b[39m arr\u001b[38;5;241m.\u001b[39mndim\u001b[38;5;241m-\u001b[39m\u001b[38;5;241m1\u001b[39m\n\u001b[1;32m-> 4817\u001b[0m \u001b[38;5;28;01mreturn\u001b[39;00m \u001b[43mconcatenate\u001b[49m\u001b[43m(\u001b[49m\u001b[43m(\u001b[49m\u001b[43marr\u001b[49m\u001b[43m,\u001b[49m\u001b[43m \u001b[49m\u001b[43mvalues\u001b[49m\u001b[43m)\u001b[49m\u001b[43m,\u001b[49m\u001b[43m \u001b[49m\u001b[43maxis\u001b[49m\u001b[38;5;241;43m=\u001b[39;49m\u001b[43maxis\u001b[49m\u001b[43m)\u001b[49m\n",
      "File \u001b[1;32m<__array_function__ internals>:5\u001b[0m, in \u001b[0;36mconcatenate\u001b[1;34m(*args, **kwargs)\u001b[0m\n",
      "\u001b[1;31mValueError\u001b[0m: all the input array dimensions for the concatenation axis must match exactly, but along dimension 1, the array at index 0 has size 5 and the array at index 1 has size 3"
     ]
    }
   ],
   "source": [
    "# 열 개수가 맞지 않으면 axis=0으로 추가할 수 없습니다.\n",
    "np.append(c, a, axis=0)"
   ]
  },
  {
   "cell_type": "code",
   "execution_count": 75,
   "id": "bdbf27df",
   "metadata": {},
   "outputs": [
    {
     "data": {
      "text/plain": [
       "array([[30, 31, 32, 33, 34,  1,  2,  3],\n",
       "       [35, 36, 37, 38, 39,  4,  5,  6],\n",
       "       [40, 41, 42, 43, 44,  7,  8,  9]])"
      ]
     },
     "execution_count": 75,
     "metadata": {},
     "output_type": "execute_result"
    }
   ],
   "source": [
    "# 붙는 방향으로 붙여주세요.\n",
    "np.append(c, a, axis=1)"
   ]
  },
  {
   "cell_type": "code",
   "execution_count": 79,
   "id": "8e23e379",
   "metadata": {},
   "outputs": [
    {
     "data": {
      "text/plain": [
       "array([[30, 31, 32],\n",
       "       [33, 34, 35],\n",
       "       [36, 37, 38],\n",
       "       [39, 40, 41],\n",
       "       [42, 43, 44],\n",
       "       [ 1,  2,  3],\n",
       "       [ 4,  5,  6],\n",
       "       [ 7,  8,  9]])"
      ]
     },
     "execution_count": 79,
     "metadata": {},
     "output_type": "execute_result"
    }
   ],
   "source": [
    "# 어쩔 수 없이 세로로 붙이고 싶다면 3 * 5 -> 5 * 3 으로 변경하고 붙이면 또 세로방향으로 가능합니다.\n",
    "# 전치행렬을 이용해서 붙여주세요.\n",
    "# 전치행렬이 어렵다면 .reshape()를 써서 붙여주세요.\n",
    "np.append(c.reshape(5, 3), a, axis=0)"
   ]
  },
  {
   "cell_type": "markdown",
   "id": "62d8bea7",
   "metadata": {},
   "source": [
    "- np.insert(arr, idx, values, axis=None)\n",
    "    - 지정한 인덱스(idx)에 value를 추가\n",
    "    - axis 지정하지 않는 경우(기본값) : 1차원 배열의 변형되고 해당 인덱스에 추가\n",
    "    - axis = 0 : 행 방향으로 n번째 행에 추가 \n",
    "    - axis = 1 : 열 방향으로 n번째 열에 추가\n",
    "    - 원본 배열에 반영되지 않음"
   ]
  },
  {
   "cell_type": "code",
   "execution_count": 80,
   "id": "3513fdb7",
   "metadata": {},
   "outputs": [
    {
     "name": "stdout",
     "output_type": "stream",
     "text": [
      "\n",
      "    type : <class 'numpy.ndarray'>  \n",
      "    shape : (3, 3)  \n",
      "    dimension : 2  \n",
      "    dtype : int32\n",
      "    data :\n",
      " [[1 2 3]\n",
      " [4 5 6]\n",
      " [7 8 9]]\n",
      "    \n"
     ]
    }
   ],
   "source": [
    "# 1이상 10미만의 범위에서 1씩 증가하는 숫자로 3 * 3 구조의 배열을 생성해주세요.\n",
    "arr = np.arange(1, 10).reshape(3, 3)\n",
    "np_print(arr)"
   ]
  },
  {
   "cell_type": "code",
   "execution_count": null,
   "id": "7e918cb4",
   "metadata": {},
   "outputs": [],
   "source": [
    "# axis를 지정하지 않는 경우 : arr를 1차원으로 변형한 후\n",
    "# 변형된 배열의 지정 index에 값 추가\n",
    "# 2d array를 1d array로 변형, 1번 인덱스에 100 추가\n",
    "np.insert(arr, 1, 100)"
   ]
  },
  {
   "cell_type": "code",
   "execution_count": 81,
   "id": "dfe92997",
   "metadata": {},
   "outputs": [
    {
     "data": {
      "text/plain": [
       "array([[1, 2, 3],\n",
       "       [4, 5, 6],\n",
       "       [7, 8, 9]])"
      ]
     },
     "execution_count": 81,
     "metadata": {},
     "output_type": "execute_result"
    }
   ],
   "source": [
    "# arr 원본은 유지\n",
    "arr"
   ]
  },
  {
   "cell_type": "code",
   "execution_count": 82,
   "id": "0f5d3902",
   "metadata": {},
   "outputs": [
    {
     "data": {
      "text/plain": [
       "array([[  1,   2,   3],\n",
       "       [100, 100, 100],\n",
       "       [  4,   5,   6],\n",
       "       [  7,   8,   9]])"
      ]
     },
     "execution_count": 82,
     "metadata": {},
     "output_type": "execute_result"
    }
   ],
   "source": [
    "# axis=0 : 행 방향으로 index번째 행을 추가\n",
    "# a 배열의 1번 인덱스 행에 100을 추가 => 행의 요소 개수(열 개수) 만큼 100이 추가됨\n",
    "np.insert(arr, 1, 100, axis=0)"
   ]
  },
  {
   "cell_type": "code",
   "execution_count": 83,
   "id": "018648eb",
   "metadata": {},
   "outputs": [
    {
     "data": {
      "text/plain": [
       "array([[  1,   2, 200,   3],\n",
       "       [  4,   5, 200,   6],\n",
       "       [  7,   8, 200,   9]])"
      ]
     },
     "execution_count": 83,
     "metadata": {},
     "output_type": "execute_result"
    }
   ],
   "source": [
    "# axis=1: 열 방향으로 index번째 행을 추가\n",
    "# a 배열의 2번 인덱스 열에 200을 추가\n",
    "np.insert(arr, 2, 200, axis=1)"
   ]
  },
  {
   "cell_type": "code",
   "execution_count": 84,
   "id": "a69ced1f",
   "metadata": {},
   "outputs": [
    {
     "data": {
      "text/plain": [
       "array([[ 1,  2, 10,  3],\n",
       "       [ 4,  5, 20,  6],\n",
       "       [ 7,  8, 30,  9]])"
      ]
     },
     "execution_count": 84,
     "metadata": {},
     "output_type": "execute_result"
    }
   ],
   "source": [
    "# 각 위치마다 다른 값을 주고싶다면\n",
    "# 갯수를 맞춰서 리스트로 넣어줍니다.\n",
    "# arr의 2번 열에, 10, 20, 30을 각각 넣어주시면 됩니다.\n",
    "np.insert(arr, 2, [10, 20, 30], axis=1)"
   ]
  },
  {
   "cell_type": "markdown",
   "id": "9bbca808",
   "metadata": {},
   "source": [
    "3) 요소 삭제\n",
    "- np.delete(arr, idx, axis=None)\n",
    "    - 지정한 인덱스(idx)에 해당하는 요소를 삭제\n",
    "    - axis 지정하지 않는 경우(기본값) : 1차원 배열로 변형되어 해당 인덱스에 해당하는 요소를 삭제\n",
    "    - axis = 0 : 행 방향으로 n번째 행을 삭제\n",
    "    - axis = 1 : 열 방향으로 n번째 열을 삭제\n",
    "    - 원본 배열에 반영되지 않음"
   ]
  },
  {
   "cell_type": "code",
   "execution_count": 85,
   "id": "a685106d",
   "metadata": {},
   "outputs": [
    {
     "data": {
      "text/plain": [
       "array([[1, 2, 3],\n",
       "       [4, 5, 6],\n",
       "       [7, 8, 9]])"
      ]
     },
     "execution_count": 85,
     "metadata": {},
     "output_type": "execute_result"
    }
   ],
   "source": [
    "a"
   ]
  },
  {
   "cell_type": "code",
   "execution_count": 86,
   "id": "523252ef",
   "metadata": {},
   "outputs": [
    {
     "data": {
      "text/plain": [
       "array([1, 2, 3, 4, 5, 6, 7, 8, 9])"
      ]
     },
     "execution_count": 86,
     "metadata": {},
     "output_type": "execute_result"
    }
   ],
   "source": [
    "# ravel을 이용해 1차원으로 만들어서 조회해주세요.\n",
    "np.ravel(a)"
   ]
  },
  {
   "cell_type": "code",
   "execution_count": 87,
   "id": "b84f5f28",
   "metadata": {},
   "outputs": [
    {
     "data": {
      "text/plain": [
       "array([1, 3, 4, 5, 6, 7, 8, 9])"
      ]
     },
     "execution_count": 87,
     "metadata": {},
     "output_type": "execute_result"
    }
   ],
   "source": [
    "# axis를 지정 안 하는 경우 : 1차원으로 변환 -> 지정한 index에 해당하는 요소를 삭제\n",
    "# a배열에 대해 1번 인덱스요소를 삭제\n",
    "np.delete(a, 1)"
   ]
  },
  {
   "cell_type": "code",
   "execution_count": 88,
   "id": "3369447e",
   "metadata": {},
   "outputs": [
    {
     "data": {
      "text/plain": [
       "array([[1, 2, 3],\n",
       "       [4, 5, 6],\n",
       "       [7, 8, 9]])"
      ]
     },
     "execution_count": 88,
     "metadata": {},
     "output_type": "execute_result"
    }
   ],
   "source": [
    "# 원본에는 바로 반영되지 않습니다.\n",
    "a"
   ]
  },
  {
   "cell_type": "code",
   "execution_count": 90,
   "id": "7d2c2bf9",
   "metadata": {},
   "outputs": [
    {
     "data": {
      "text/plain": [
       "array([[4, 5, 6],\n",
       "       [7, 8, 9]])"
      ]
     },
     "execution_count": 90,
     "metadata": {},
     "output_type": "execute_result"
    }
   ],
   "source": [
    "# a배열의 0번 행을 삭제(axis=0)\n",
    "np.delete(a, 0, axis=0)"
   ]
  },
  {
   "cell_type": "code",
   "execution_count": 91,
   "id": "4da4ceda",
   "metadata": {},
   "outputs": [
    {
     "data": {
      "text/plain": [
       "array([[1, 3],\n",
       "       [4, 6],\n",
       "       [7, 9]])"
      ]
     },
     "execution_count": 91,
     "metadata": {},
     "output_type": "execute_result"
    }
   ],
   "source": [
    "# a배열의 1번 열(column)을 삭제해주세요(axis=1)\n",
    "np.delete(a, 1, axis=1)"
   ]
  },
  {
   "cell_type": "markdown",
   "id": "312b58a1",
   "metadata": {},
   "source": [
    "4) 배열 결합\n",
    "- np.concatenate((arr1, arr2, ...), axis=0)\n",
    "    - axis = 0(기본값) : 행 방향으로 두 배열 결합 (단, 열의 개수가 동일)\n",
    "    - axis = 1 : 열 방향으로 두 배열 결합 (단, 행의 개수가 동일)\n",
    "    - 원본 배열들은 변경되지 않음"
   ]
  },
  {
   "cell_type": "code",
   "execution_count": 92,
   "id": "8ff43e0d",
   "metadata": {},
   "outputs": [],
   "source": [
    "# 1이상 7미만의 범위에서 1씩 증가하는 숫자로 2 x 3 구조의 배열 a 생성\n",
    "# 7이상 13미만의 범위에서 1씩 증가하는 숫자로 2 x 3 구조의 배열 b 생성\n",
    "# 13이상 23미만의 범위에서 1씩 증가하는 숫자로 2 x 5 구조의 배열 c 생성(열개수 다름)\n",
    "# 23이상 38미만의 범위에서 1씩 증가하는 숫자로 5 x 3 구조읩 배열 d 생성(행개수 다름)\n",
    "a = np.arange(1, 7).reshape(2, 3)\n",
    "b = np.arange(7, 13).reshape(2, 3)\n",
    "c = np.arange(13, 23).reshape(2, 5)\n",
    "d = np.arange(23, 38).reshape(5, 3)"
   ]
  },
  {
   "cell_type": "code",
   "execution_count": 93,
   "id": "cf6e79d4",
   "metadata": {},
   "outputs": [
    {
     "name": "stdout",
     "output_type": "stream",
     "text": [
      "[[1 2 3]\n",
      " [4 5 6]]\n",
      "[[ 7  8  9]\n",
      " [10 11 12]]\n",
      "[[13 14 15 16 17]\n",
      " [18 19 20 21 22]]\n",
      "[[23 24 25]\n",
      " [26 27 28]\n",
      " [29 30 31]\n",
      " [32 33 34]\n",
      " [35 36 37]]\n"
     ]
    }
   ],
   "source": [
    "print(a)\n",
    "print(b)\n",
    "print(c)\n",
    "print(d)"
   ]
  },
  {
   "cell_type": "code",
   "execution_count": 94,
   "id": "fb4fe9e7",
   "metadata": {},
   "outputs": [
    {
     "data": {
      "text/plain": [
       "array([[ 1,  2,  3],\n",
       "       [ 4,  5,  6],\n",
       "       [ 7,  8,  9],\n",
       "       [10, 11, 12]])"
      ]
     },
     "execution_count": 94,
     "metadata": {},
     "output_type": "execute_result"
    }
   ],
   "source": [
    "# axis=0(기본값) : 행 방향으로 두 배열 결합\n",
    "# np.append(a, b, axis=0)\n",
    "# [1, 2, 3, 4, 5, 6, 7, 8, 9, 10, 11, 12]\n",
    "np.concatenate((a, b))"
   ]
  },
  {
   "cell_type": "code",
   "execution_count": 95,
   "id": "b1334a7b",
   "metadata": {},
   "outputs": [
    {
     "data": {
      "text/plain": [
       "array([[ 1,  2,  3,  7,  8,  9],\n",
       "       [ 4,  5,  6, 10, 11, 12]])"
      ]
     },
     "execution_count": 95,
     "metadata": {},
     "output_type": "execute_result"
    }
   ],
   "source": [
    "# axis=1 : 열 방향으로 두 배열 결합\n",
    "np.concatenate((a, b), axis=1)"
   ]
  },
  {
   "cell_type": "code",
   "execution_count": 96,
   "id": "73729417",
   "metadata": {},
   "outputs": [
    {
     "ename": "ValueError",
     "evalue": "all the input array dimensions for the concatenation axis must match exactly, but along dimension 1, the array at index 0 has size 3 and the array at index 1 has size 5",
     "output_type": "error",
     "traceback": [
      "\u001b[1;31m---------------------------------------------------------------------------\u001b[0m",
      "\u001b[1;31mValueError\u001b[0m                                Traceback (most recent call last)",
      "Input \u001b[1;32mIn [96]\u001b[0m, in \u001b[0;36m<cell line: 2>\u001b[1;34m()\u001b[0m\n\u001b[0;32m      1\u001b[0m \u001b[38;5;66;03m# 행 방향으로 결합시 열 개수가 동일해야함\u001b[39;00m\n\u001b[1;32m----> 2\u001b[0m \u001b[43mnp\u001b[49m\u001b[38;5;241;43m.\u001b[39;49m\u001b[43mconcatenate\u001b[49m\u001b[43m(\u001b[49m\u001b[43m(\u001b[49m\u001b[43ma\u001b[49m\u001b[43m,\u001b[49m\u001b[43m \u001b[49m\u001b[43mc\u001b[49m\u001b[43m)\u001b[49m\u001b[43m)\u001b[49m\n",
      "File \u001b[1;32m<__array_function__ internals>:5\u001b[0m, in \u001b[0;36mconcatenate\u001b[1;34m(*args, **kwargs)\u001b[0m\n",
      "\u001b[1;31mValueError\u001b[0m: all the input array dimensions for the concatenation axis must match exactly, but along dimension 1, the array at index 0 has size 3 and the array at index 1 has size 5"
     ]
    }
   ],
   "source": [
    "# 행 방향으로 결합시 열 개수가 동일해야함\n",
    "np.concatenate((a, c))"
   ]
  },
  {
   "cell_type": "code",
   "execution_count": 98,
   "id": "eaabd9a9",
   "metadata": {},
   "outputs": [
    {
     "data": {
      "text/plain": [
       "array([[ 1,  2,  3, 13, 14, 15, 16, 17],\n",
       "       [ 4,  5,  6, 18, 19, 20, 21, 22]])"
      ]
     },
     "execution_count": 98,
     "metadata": {},
     "output_type": "execute_result"
    }
   ],
   "source": [
    "# 위쪽과 결합방향을 다르게 해서 합쳐보세요.\n",
    "np.concatenate((a, c), axis=1)"
   ]
  },
  {
   "cell_type": "code",
   "execution_count": null,
   "id": "0dfed9cd",
   "metadata": {},
   "outputs": [],
   "source": [
    "# a, d를 적합한 방향으로 합쳐주세요."
   ]
  },
  {
   "cell_type": "code",
   "execution_count": 100,
   "id": "ed59674a",
   "metadata": {},
   "outputs": [
    {
     "data": {
      "text/plain": [
       "array([[ 1,  2,  3],\n",
       "       [ 4,  5,  6],\n",
       "       [23, 24, 25],\n",
       "       [26, 27, 28],\n",
       "       [29, 30, 31],\n",
       "       [32, 33, 34],\n",
       "       [35, 36, 37]])"
      ]
     },
     "execution_count": 100,
     "metadata": {},
     "output_type": "execute_result"
    }
   ],
   "source": [
    "np.concatenate((a, d))"
   ]
  },
  {
   "cell_type": "code",
   "execution_count": null,
   "id": "677bed24",
   "metadata": {},
   "outputs": [],
   "source": []
  }
 ],
 "metadata": {
  "kernelspec": {
   "display_name": "Python 3 (ipykernel)",
   "language": "python",
   "name": "python3"
  },
  "language_info": {
   "codemirror_mode": {
    "name": "ipython",
    "version": 3
   },
   "file_extension": ".py",
   "mimetype": "text/x-python",
   "name": "python",
   "nbconvert_exporter": "python",
   "pygments_lexer": "ipython3",
   "version": "3.9.12"
  }
 },
 "nbformat": 4,
 "nbformat_minor": 5
}
