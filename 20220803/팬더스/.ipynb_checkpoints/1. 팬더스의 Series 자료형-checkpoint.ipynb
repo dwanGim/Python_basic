{
 "cells": [
  {
   "cell_type": "markdown",
   "id": "a575223e",
   "metadata": {},
   "source": [
    "### Pandas\n",
    "\n",
    "- 데이터 처리 및 분석을 위한 라이브러리\n",
    "- 대용량 데이터를 안정적이면서도 간편하게 처리\n",
    "- 서로 다른 데이터타입으로 열을 구성할 수 있음 <br>\n",
    "(참고) Numpy : 전체 배열 원소를 동일한 타입으로 제한\n",
    "- 주요 기능\n",
    "    - 데이터 입출력 : csv, excel, RDB, JSON 등 다양한 포맷의 데이터를 효율적으로 처리할 수 있는 형식을 사용\n",
    "    - 데이터 가공 : 분리, 결합, 계층, 피봇 등\n",
    "    - 통계 분석 처리\n",
    "\n",
    "#### 자료형\n",
    "- Series <br>\n",
    "\n",
    "    - 1차원 배열과 유사한 자료형\n",
    "    - 색인(index) : 행 번호\n",
    "        - 각각의 데이터에 부여하는 속성으로 기본값은 0부터 1씩 증가하는 숫자 지정\n",
    "        - index 파라미터를 통해 새로운 값으로 변경 가능\n",
    "        - 리스트, 튜플 타입으로 새로운 값을 전달해야하며 다차원 자료형은 사용할 수 없음\n",
    "        - 전달하는 색인의 개수와 데이터의 개수가 일치해야 함\n",
    "    - 각각의 색인과 데이터가 매핑되어 있으므로 dictionary 자료형과 유사\n",
    "    - 여러 가지 데이터 타입 사용 가능\n",
    "\n",
    "<img src=\"img/series_example.png\" width=\"250\" align=\"center\">"
   ]
  },
  {
   "cell_type": "code",
   "execution_count": 1,
   "id": "a4899c7e",
   "metadata": {},
   "outputs": [],
   "source": [
    "# pandas 라이브러리 및 Series, DataFrame 네임스페이스 불러오기\n",
    "import pandas as pd"
   ]
  },
  {
   "cell_type": "code",
   "execution_count": 2,
   "id": "43fdaec2",
   "metadata": {},
   "outputs": [
    {
     "name": "stderr",
     "output_type": "stream",
     "text": [
      "C:\\Users\\user\\AppData\\Local\\Temp\\ipykernel_19808\\1418016953.py:2: FutureWarning: The default dtype for empty Series will be 'object' instead of 'float64' in a future version. Specify a dtype explicitly to silence this warning.\n",
      "  pd.Series()\n"
     ]
    },
    {
     "data": {
      "text/plain": [
       "Series([], dtype: float64)"
      ]
     },
     "execution_count": 2,
     "metadata": {},
     "output_type": "execute_result"
    }
   ],
   "source": [
    "# Series 생성\n",
    "pd.Series()"
   ]
  },
  {
   "cell_type": "markdown",
   "id": "f692cdc6",
   "metadata": {},
   "source": [
    "### Series 생성\n",
    "\n",
    "- 하나의 값(숫자, 문자) 또는 자료형(리스트, 튜플, np 배열)으로 데이터 전달\n",
    "\n",
    "### Series 속성\n",
    "\n",
    "- 속성은 소괄호를 붙이지 않음\n",
    "- index : series 객체의 인덱스 배열을 반환\n",
    "- values : series 객체의 데이터(값) 배열을 반환\n",
    "- name : series 객체의 이름을 반환 \n",
    "- dtype : series 객체의 데이터 타입을 반환\n",
    "- size : series 객체의 데이터 개수(길이)를 반환\n",
    "- shape : series 객체의 구조(행, 열, 차원)를 반환"
   ]
  },
  {
   "cell_type": "code",
   "execution_count": 3,
   "id": "24bb0ef9",
   "metadata": {},
   "outputs": [
    {
     "data": {
      "text/plain": [
       "0    10\n",
       "dtype: int64"
      ]
     },
     "execution_count": 3,
     "metadata": {},
     "output_type": "execute_result"
    }
   ],
   "source": [
    "# 숫자 10을 데이터로 가지고 있는 Series\n",
    "# 결과 해석\n",
    "# 왼쪽 0 : 자동으로 생성되는 기본 인덱스번호(0번부터 시작)\n",
    "# 오른쪽 10 : 입력한 데이터 값\n",
    "s1 = pd.Series(10)\n",
    "s1"
   ]
  },
  {
   "cell_type": "code",
   "execution_count": 4,
   "id": "9eceea5d",
   "metadata": {},
   "outputs": [
    {
     "data": {
      "text/plain": [
       "array([10], dtype=int64)"
      ]
     },
     "execution_count": 4,
     "metadata": {},
     "output_type": "execute_result"
    }
   ],
   "source": [
    "# 데이터 내부에 저장된 값 확인\n",
    "s1.values"
   ]
  },
  {
   "cell_type": "code",
   "execution_count": 5,
   "id": "7903b82f",
   "metadata": {},
   "outputs": [
    {
     "data": {
      "text/plain": [
       "RangeIndex(start=0, stop=1, step=1)"
      ]
     },
     "execution_count": 5,
     "metadata": {},
     "output_type": "execute_result"
    }
   ],
   "source": [
    "# 인덱스 번호 확인\n",
    "# RangeIndex : 기본적으로 부여되는 인덱스번호가 사용되고 있을때 지정되는 자료형\n",
    "s1.index"
   ]
  },
  {
   "cell_type": "code",
   "execution_count": 6,
   "id": "baeb62aa",
   "metadata": {},
   "outputs": [
    {
     "data": {
      "text/plain": [
       "0    abc\n",
       "dtype: object"
      ]
     },
     "execution_count": 6,
     "metadata": {},
     "output_type": "execute_result"
    }
   ],
   "source": [
    "# 문자\n",
    "s2 = pd.Series('abc')\n",
    "s2"
   ]
  },
  {
   "cell_type": "code",
   "execution_count": 7,
   "id": "45041c23",
   "metadata": {},
   "outputs": [
    {
     "data": {
      "text/plain": [
       "RangeIndex(start=0, stop=1, step=1)"
      ]
     },
     "execution_count": 7,
     "metadata": {},
     "output_type": "execute_result"
    }
   ],
   "source": [
    "# 인덱스 확인\n",
    "s2.index"
   ]
  },
  {
   "cell_type": "code",
   "execution_count": 8,
   "id": "fbc630f5",
   "metadata": {},
   "outputs": [
    {
     "data": {
      "text/plain": [
       "0    10\n",
       "1    20\n",
       "2    30\n",
       "dtype: int64"
      ]
     },
     "execution_count": 8,
     "metadata": {},
     "output_type": "execute_result"
    }
   ],
   "source": [
    "# 리스트 자료형\n",
    "s3 = pd.Series([10, 20, 30])\n",
    "s3"
   ]
  },
  {
   "cell_type": "code",
   "execution_count": 9,
   "id": "81ca11a1",
   "metadata": {},
   "outputs": [
    {
     "data": {
      "text/plain": [
       "0         10.3\n",
       "1         test\n",
       "2          200\n",
       "3    [1, 2, 3]\n",
       "dtype: object"
      ]
     },
     "execution_count": 9,
     "metadata": {},
     "output_type": "execute_result"
    }
   ],
   "source": [
    "# 데이터타입이 서로 다른 리스트 자료형\n",
    "s4 = pd.Series([10.3, 'test', 200, [1, 2, 3]])\n",
    "s4"
   ]
  },
  {
   "cell_type": "code",
   "execution_count": 10,
   "id": "fafe146e",
   "metadata": {},
   "outputs": [
    {
     "data": {
      "text/plain": [
       "array([10.3, 'test', 200, list([1, 2, 3])], dtype=object)"
      ]
     },
     "execution_count": 10,
     "metadata": {},
     "output_type": "execute_result"
    }
   ],
   "source": [
    "# 데이터 확인\n",
    "s4.values"
   ]
  },
  {
   "cell_type": "code",
   "execution_count": 11,
   "id": "aa48b2a1",
   "metadata": {},
   "outputs": [
    {
     "data": {
      "text/plain": [
       "RangeIndex(start=0, stop=4, step=1)"
      ]
     },
     "execution_count": 11,
     "metadata": {},
     "output_type": "execute_result"
    }
   ],
   "source": [
    "# 인덱스 확인\n",
    "s4.index"
   ]
  },
  {
   "cell_type": "code",
   "execution_count": 12,
   "id": "fc4031bf",
   "metadata": {},
   "outputs": [
    {
     "data": {
      "text/plain": [
       "0    1.0\n",
       "1    2.0\n",
       "2    3.0\n",
       "3    4.0\n",
       "4    5.0\n",
       "dtype: float64"
      ]
     },
     "execution_count": 12,
     "metadata": {},
     "output_type": "execute_result"
    }
   ],
   "source": [
    "# 튜플도 리스트처럼 1차원 자료로 주면 각각 내부자료를 풀어서 집어넣습니다.\n",
    "s5 = pd.Series((1, 2, 3, 4, 5.0))\n",
    "s5"
   ]
  },
  {
   "cell_type": "code",
   "execution_count": 13,
   "id": "3e1c1c95",
   "metadata": {},
   "outputs": [
    {
     "data": {
      "text/plain": [
       "array([1., 2., 3., 4., 5.])"
      ]
     },
     "execution_count": 13,
     "metadata": {},
     "output_type": "execute_result"
    }
   ],
   "source": [
    "# 데이터 확인\n",
    "s5.values"
   ]
  },
  {
   "cell_type": "code",
   "execution_count": 14,
   "id": "e7a7a244",
   "metadata": {},
   "outputs": [
    {
     "data": {
      "text/plain": [
       "RangeIndex(start=0, stop=5, step=1)"
      ]
     },
     "execution_count": 14,
     "metadata": {},
     "output_type": "execute_result"
    }
   ],
   "source": [
    "# 인덱스 확인\n",
    "s5.index"
   ]
  },
  {
   "cell_type": "code",
   "execution_count": 15,
   "id": "6ec82e0d",
   "metadata": {},
   "outputs": [
    {
     "data": {
      "text/plain": [
       "a    10\n",
       "b    20\n",
       "c    30\n",
       "dtype: int64"
      ]
     },
     "execution_count": 15,
     "metadata": {},
     "output_type": "execute_result"
    }
   ],
   "source": [
    "# 딕셔너리 자료형(자동으로 라벨 부여, key가 index, value가 실제 데이터)\n",
    "s6 = pd.Series({'a':10, 'b':20, 'c':30})\n",
    "s6"
   ]
  },
  {
   "cell_type": "code",
   "execution_count": 16,
   "id": "44849116",
   "metadata": {},
   "outputs": [
    {
     "data": {
      "text/plain": [
       "RangeIndex(start=0, stop=5, step=1)"
      ]
     },
     "execution_count": 16,
     "metadata": {},
     "output_type": "execute_result"
    }
   ],
   "source": [
    "# 인덱스 새롭게 지정하기\n",
    "# 인덱스 속성(길이)를 참조하여 리스트, 튜플 타입으로 전달\n",
    "# 라벨 인덱스가 없던 경우 => 새롭게 라벨 인덱스 부여\n",
    "# 라벨 인덱스가 있던 경우 => 기존에 있던 라벨 인덱스에 덮어씌우기\n",
    "s5.index"
   ]
  },
  {
   "cell_type": "code",
   "execution_count": 17,
   "id": "9ede7a22",
   "metadata": {},
   "outputs": [],
   "source": [
    "# 인덱스를 새롭게 지정할때는 RangeIndex이 범위만큼 길이를 가지는 리스트를 대입해줍니다.\n",
    "# 행 개수(데이터 개수)와 동일한 길이의 리스트를 전달해야 합니다.\n",
    "s5.index = [2020, 2021, 2022, 2023, 2024]"
   ]
  },
  {
   "cell_type": "code",
   "execution_count": 18,
   "id": "98612f45",
   "metadata": {},
   "outputs": [
    {
     "data": {
      "text/plain": [
       "2020    1.0\n",
       "2021    2.0\n",
       "2022    3.0\n",
       "2023    4.0\n",
       "2024    5.0\n",
       "dtype: float64"
      ]
     },
     "execution_count": 18,
     "metadata": {},
     "output_type": "execute_result"
    }
   ],
   "source": [
    "s5"
   ]
  },
  {
   "cell_type": "code",
   "execution_count": 19,
   "id": "2d9b2888",
   "metadata": {},
   "outputs": [
    {
     "data": {
      "text/plain": [
       "Int64Index([2020, 2021, 2022, 2023, 2024], dtype='int64')"
      ]
     },
     "execution_count": 19,
     "metadata": {},
     "output_type": "execute_result"
    }
   ],
   "source": [
    "# 인덱스를 지정하여 객체 생성\n",
    "# 인덱스 객체에 대해서 아이템 참조는 가능\n",
    "s5.index"
   ]
  },
  {
   "cell_type": "code",
   "execution_count": 20,
   "id": "ccc6a75a",
   "metadata": {},
   "outputs": [
    {
     "ename": "TypeError",
     "evalue": "Index does not support mutable operations",
     "output_type": "error",
     "traceback": [
      "\u001b[1;31m---------------------------------------------------------------------------\u001b[0m",
      "\u001b[1;31mTypeError\u001b[0m                                 Traceback (most recent call last)",
      "Input \u001b[1;32mIn [20]\u001b[0m, in \u001b[0;36m<cell line: 2>\u001b[1;34m()\u001b[0m\n\u001b[0;32m      1\u001b[0m \u001b[38;5;66;03m# 인덱스 객체 내부의 단일 라벨 인덱스만 하나 딱 잘라서 변경하는것은 불가능\u001b[39;00m\n\u001b[1;32m----> 2\u001b[0m s5\u001b[38;5;241m.\u001b[39mindex[\u001b[38;5;241m-\u001b[39m\u001b[38;5;241m1\u001b[39m] \u001b[38;5;241m=\u001b[39m \u001b[38;5;241m2025\u001b[39m\n",
      "File \u001b[1;32mC:\\anaconda\\lib\\site-packages\\pandas\\core\\indexes\\base.py:5021\u001b[0m, in \u001b[0;36mIndex.__setitem__\u001b[1;34m(self, key, value)\u001b[0m\n\u001b[0;32m   5019\u001b[0m \u001b[38;5;129m@final\u001b[39m\n\u001b[0;32m   5020\u001b[0m \u001b[38;5;28;01mdef\u001b[39;00m \u001b[38;5;21m__setitem__\u001b[39m(\u001b[38;5;28mself\u001b[39m, key, value):\n\u001b[1;32m-> 5021\u001b[0m     \u001b[38;5;28;01mraise\u001b[39;00m \u001b[38;5;167;01mTypeError\u001b[39;00m(\u001b[38;5;124m\"\u001b[39m\u001b[38;5;124mIndex does not support mutable operations\u001b[39m\u001b[38;5;124m\"\u001b[39m)\n",
      "\u001b[1;31mTypeError\u001b[0m: Index does not support mutable operations"
     ]
    }
   ],
   "source": [
    "# 인덱스 객체 내부의 단일 라벨 인덱스만 하나 딱 잘라서 변경하는것은 불가능\n",
    "s5.index[-1] = 2025"
   ]
  },
  {
   "cell_type": "code",
   "execution_count": null,
   "id": "8952940f",
   "metadata": {},
   "outputs": [],
   "source": [
    "# 인덱스 라벨링 수정시 바꿀 부분만 변경한 전체 인덱스 자료를 대입해야합니다.\n",
    "s5.index=[2020, 2021, 2022, 2023, 2025]\n",
    "s5"
   ]
  },
  {
   "cell_type": "code",
   "execution_count": null,
   "id": "717e94df",
   "metadata": {},
   "outputs": [],
   "source": [
    "# Series 함수의 index 파라미터를 이용해 생성과 동시에 인덱스 라벨 부여 가능\n",
    "# pd.Series(data, index=[......])\n",
    "s7 = pd.Series([10, 20, 30, 40], index=['mon', 'tue', 'wed', 'thu'])\n",
    "s7"
   ]
  },
  {
   "cell_type": "code",
   "execution_count": null,
   "id": "234f9f73",
   "metadata": {},
   "outputs": [],
   "source": [
    "# 데이터 확인\n",
    "s7.values"
   ]
  },
  {
   "cell_type": "code",
   "execution_count": null,
   "id": "6e53172f",
   "metadata": {},
   "outputs": [],
   "source": [
    "# 인덱스 확인\n",
    "s7.index"
   ]
  },
  {
   "cell_type": "markdown",
   "id": "3c64d037",
   "metadata": {},
   "source": [
    "### dictionary 자료형과 유사한 Series 자료형"
   ]
  },
  {
   "cell_type": "code",
   "execution_count": null,
   "id": "778aeebe",
   "metadata": {},
   "outputs": [],
   "source": [
    "# dictionary 자료형으로 Series 생성\n",
    "data = {'서울':100, '경기':200, '강원':300, '부산':400}\n",
    "sample = pd.Series(data)\n",
    "print(data)\n",
    "print(sample)"
   ]
  },
  {
   "cell_type": "code",
   "execution_count": null,
   "id": "d861bc77",
   "metadata": {},
   "outputs": [],
   "source": [
    "# Series 객체와 in 연산자\n",
    "# dicionary와 유사 : in 연산자를 사용ㅎ 내부 요소 검사시\n",
    "# key값에 해당하는 라벨을 이용해 해당 요소가 있는지 없는지 여부를 True, False로 출력\n",
    "print(100 in data)\n",
    "print(100 in sample)"
   ]
  },
  {
   "cell_type": "code",
   "execution_count": null,
   "id": "d43ddabd",
   "metadata": {},
   "outputs": [],
   "source": [
    "# for문에서 in 연산자로 접근 : Series의 value값을 참조\n",
    "for key in data:\n",
    "    print(key)\n",
    "print(\"-----------------------\")\n",
    "for index in sample.values:\n",
    "    print(index)"
   ]
  },
  {
   "cell_type": "code",
   "execution_count": null,
   "id": "6781bd5f",
   "metadata": {},
   "outputs": [],
   "source": [
    "# sample의 인덱스 : 서울, 경기, 강원, 부산 =>  서울, 경기, 강원, 제주로 변경해주세요.\n",
    "# 지정한 index 기준으로 Series 생성\n",
    "# 사용하는 인덱스에 없는 값은 Series에 NaN으로 저장\n",
    "# NaN : Not a Number(결측치) -> numpy에서 해당 위치에 값이 없을을 나타낼떄 사용하는 자료\n",
    "# None :파이썬 기본자료형에서 null처럼 쓰이는 자료\n",
    "sample.index = ['서울', '경기', '강원', '제주']\n",
    "sample"
   ]
  },
  {
   "cell_type": "markdown",
   "id": "a0cef7fe",
   "metadata": {},
   "source": [
    "### Series s6의 첫 번째 데이터 -> 인덱스 0으로 조회\n",
    "### Series객체[인덱스번호 or 라벨숫자]\n"
   ]
  },
  {
   "cell_type": "code",
   "execution_count": 22,
   "id": "809d707a",
   "metadata": {},
   "outputs": [
    {
     "name": "stdout",
     "output_type": "stream",
     "text": [
      "a\n",
      "10\n"
     ]
    }
   ],
   "source": [
    "print(s6.index[0])\n",
    "print(s6[0])"
   ]
  },
  {
   "cell_type": "code",
   "execution_count": 23,
   "id": "803a8ce8",
   "metadata": {},
   "outputs": [
    {
     "data": {
      "text/plain": [
       "10"
      ]
     },
     "execution_count": 23,
     "metadata": {},
     "output_type": "execute_result"
    }
   ],
   "source": [
    "# Series s6의 인덱스 a에 매칭된 데이터 조회\n",
    "s6['a']"
   ]
  },
  {
   "cell_type": "code",
   "execution_count": null,
   "id": "f775702c",
   "metadata": {},
   "outputs": [],
   "source": []
  },
  {
   "cell_type": "code",
   "execution_count": null,
   "id": "923e9db6",
   "metadata": {},
   "outputs": [],
   "source": []
  },
  {
   "cell_type": "code",
   "execution_count": null,
   "id": "1033d5e4",
   "metadata": {},
   "outputs": [],
   "source": []
  },
  {
   "cell_type": "code",
   "execution_count": null,
   "id": "232d113d",
   "metadata": {},
   "outputs": [],
   "source": []
  },
  {
   "cell_type": "code",
   "execution_count": null,
   "id": "a8cfbd72",
   "metadata": {},
   "outputs": [],
   "source": []
  },
  {
   "cell_type": "code",
   "execution_count": null,
   "id": "68f0f1d4",
   "metadata": {},
   "outputs": [],
   "source": []
  },
  {
   "cell_type": "code",
   "execution_count": null,
   "id": "baa3f438",
   "metadata": {},
   "outputs": [],
   "source": []
  }
 ],
 "metadata": {
  "kernelspec": {
   "display_name": "Python 3 (ipykernel)",
   "language": "python",
   "name": "python3"
  },
  "language_info": {
   "codemirror_mode": {
    "name": "ipython",
    "version": 3
   },
   "file_extension": ".py",
   "mimetype": "text/x-python",
   "name": "python",
   "nbconvert_exporter": "python",
   "pygments_lexer": "ipython3",
   "version": "3.9.12"
  }
 },
 "nbformat": 4,
 "nbformat_minor": 5
}
