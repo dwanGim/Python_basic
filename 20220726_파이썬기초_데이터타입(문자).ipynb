{
 "cells": [
  {
   "cell_type": "code",
   "execution_count": 1,
   "id": "534b3447",
   "metadata": {},
   "outputs": [],
   "source": [
    "# 데이터타입\n",
    "# 문자형"
   ]
  },
  {
   "cell_type": "code",
   "execution_count": 2,
   "id": "2ebfe815",
   "metadata": {},
   "outputs": [
    {
     "ename": "SyntaxError",
     "evalue": "invalid syntax (1016815876.py, line 2)",
     "output_type": "error",
     "traceback": [
      "\u001b[1;36m  Input \u001b[1;32mIn [2]\u001b[1;36m\u001b[0m\n\u001b[1;33m    > 여닫는 따옴표는 반드시 문자의 앞 뒤에 한 쌍으로 완성해야 합니다.\u001b[0m\n\u001b[1;37m    ^\u001b[0m\n\u001b[1;31mSyntaxError\u001b[0m\u001b[1;31m:\u001b[0m invalid syntax\n"
     ]
    }
   ],
   "source": [
    "#> 생성하기\n",
    "> 여닫는 따옴표는 반드시 문자의 앞 뒤에 한 쌍으로 완성해야 합니다.\n",
    "### 1) 한 줄 문자열 : '',\"\""
   ]
  },
  {
   "cell_type": "code",
   "execution_count": 3,
   "id": "d0367305",
   "metadata": {},
   "outputs": [
    {
     "data": {
      "text/plain": [
       "'10'"
      ]
     },
     "execution_count": 3,
     "metadata": {},
     "output_type": "execute_result"
    }
   ],
   "source": [
    "10\n",
    "\"10\""
   ]
  },
  {
   "cell_type": "code",
   "execution_count": 7,
   "id": "e25ee771",
   "metadata": {},
   "outputs": [
    {
     "ename": "SyntaxError",
     "evalue": "EOL while scanning string literal (3876034167.py, line 1)",
     "output_type": "error",
     "traceback": [
      "\u001b[1;36m  Input \u001b[1;32mIn [7]\u001b[1;36m\u001b[0m\n\u001b[1;33m    a = \"HelloWorld\u001b[0m\n\u001b[1;37m                   ^\u001b[0m\n\u001b[1;31mSyntaxError\u001b[0m\u001b[1;31m:\u001b[0m EOL while scanning string literal\n"
     ]
    }
   ],
   "source": [
    "a = \"HelloWorld\n",
    "반갑습니다\"\n",
    "# 같은 줄에 있지 않고 내려가면 에러 발생"
   ]
  },
  {
   "cell_type": "code",
   "execution_count": 10,
   "id": "ae400a27",
   "metadata": {},
   "outputs": [
    {
     "data": {
      "text/plain": [
       "'HelloWorldHelloWorldHelloWorldHelloWorldHelloWorldHelloWorldHelloWorldHelloWorldHelloWorldHelloWorldHelloWorldHelloWorldHelloWorldHelloWorldHelloWorldHelloWorldHelloWorldHelloWorldHelloWorldHelloWorldHelloWorldHelloWorldHelloWorldHelloWorldHelloWorldHelloWorldHelloWorld'"
      ]
     },
     "execution_count": 10,
     "metadata": {},
     "output_type": "execute_result"
    }
   ],
   "source": [
    "# 한줄 문자열인데 여러가지 이유로 다른줄에 작성해야 하는 경우 \\\n",
    "b = 'HelloWorldHelloWorldHelloWorldHelloWorldHelloWorldHelloWorldHelloWorldHelloWorldHelloWorldHelloWorldHelloWorldHelloWorldHelloWorldHelloWorldHelloWorldHelloWorldHelloWorldHelloWorldHelloWorldHelloWorldHelloWorldHelloWorld\\\n",
    "HelloWorldHelloWorldHelloWorld\\\n",
    "HelloWorldHelloWorld'\n",
    "b"
   ]
  },
  {
   "cell_type": "code",
   "execution_count": 11,
   "id": "dbc26442",
   "metadata": {},
   "outputs": [
    {
     "ename": "SyntaxError",
     "evalue": "invalid syntax (3586463499.py, line 2)",
     "output_type": "error",
     "traceback": [
      "\u001b[1;36m  Input \u001b[1;32mIn [11]\u001b[1;36m\u001b[0m\n\u001b[1;33m    - print()를 했을 때 줄바꾼(enter)가\u001b[0m\n\u001b[1;37m             ^\u001b[0m\n\u001b[1;31mSyntaxError\u001b[0m\u001b[1;31m:\u001b[0m invalid syntax\n"
     ]
    }
   ],
   "source": [
    "#2) 여러 줄 문자열 : ''',\"\"\"\n",
    "- print()를 했을 때 줄바꾼(enter)가 "
   ]
  },
  {
   "cell_type": "code",
   "execution_count": 12,
   "id": "5d05f612",
   "metadata": {},
   "outputs": [
    {
     "ename": "SyntaxError",
     "evalue": "invalid syntax (1525093476.py, line 2)",
     "output_type": "error",
     "traceback": [
      "\u001b[1;36m  Input \u001b[1;32mIn [12]\u001b[1;36m\u001b[0m\n\u001b[1;33m    - 문자열에서 자주 쓰는 기호 : ' ,\u001b[0m\n\u001b[1;37m            ^\u001b[0m\n\u001b[1;31mSyntaxError\u001b[0m\u001b[1;31m:\u001b[0m invalid syntax\n"
     ]
    }
   ],
   "source": [
    "#3) 문자 속에 문자열 기호 사용하기\n",
    "- 문자열에서 자주 쓰는 기호 : ' , "
   ]
  },
  {
   "cell_type": "code",
   "execution_count": 14,
   "id": "7a1ae772",
   "metadata": {},
   "outputs": [
    {
     "name": "stdout",
     "output_type": "stream",
     "text": [
      "She's happy\n"
     ]
    }
   ],
   "source": [
    "# 언어, 문자에서 많이 쓰이는 기호 : she's , \"설렁탕을 사왔는데 왜 먹지를 못하나\"\n",
    "# 여닫는 용도로 쓰는 기호를 다른 따옴표로 \n",
    "\n",
    "a = \"She's happy\"\n",
    "print(a)"
   ]
  },
  {
   "cell_type": "code",
   "execution_count": 15,
   "id": "dfe257c4",
   "metadata": {},
   "outputs": [
    {
     "name": "stdout",
     "output_type": "stream",
     "text": [
      "오늘은 \"미세먼지\" 좋음.\n"
     ]
    }
   ],
   "source": [
    "title = '오늘은 \"미세먼지\" 좋음.'\n",
    "print(title)"
   ]
  },
  {
   "cell_type": "code",
   "execution_count": 16,
   "id": "4fab4859",
   "metadata": {},
   "outputs": [
    {
     "name": "stdout",
     "output_type": "stream",
     "text": [
      "She's happy\n"
     ]
    }
   ],
   "source": [
    "# 여닫는 용도로 쓰는 따옴표와, 내부에서 문자로 쓰는 따옴표 종류를 같게 하고 싶은 경우\n",
    "# 여닫는 용도가 아닌 따옴표 왼쪽에 \\를 붙이면 해당 따옴표는 여닫는 기능으로 인식되지 않습니다.\n",
    "b = 'She\\'s happy'\n",
    "print(b)"
   ]
  },
  {
   "cell_type": "markdown",
   "id": "4a42bf47",
   "metadata": {},
   "source": [
    "# <<연습문제>>\n",
    "### 1. 아래와 같은 여러 줄의 문장을 문자열로 만들어서 lines라는 변수에 할당하세요\n",
    ">파이썬도 배우고\n",
    ">장고도 배우고\n",
    "> 할 게 너무 많아\n",
    "\n",
    "방법 1) 여러 줄 문자열 활용하기(lines 변수에 할당)\n",
    "방법 2) 한 줄 문자열 내부에 \\n을 사이사이에 활용하기\n"
   ]
  },
  {
   "cell_type": "code",
   "execution_count": 17,
   "id": "60498161",
   "metadata": {},
   "outputs": [
    {
     "name": "stdout",
     "output_type": "stream",
     "text": [
      "파이썬도 배우고 장고도 배우고할 게 너무 많아\n"
     ]
    }
   ],
   "source": [
    "# 방법 1\n",
    "c = '파이썬도 배우고 \\\n",
    "장고도 배우고\\\n",
    "할 게 너무 많아'\n",
    "\n",
    "print(c)"
   ]
  },
  {
   "cell_type": "code",
   "execution_count": 18,
   "id": "282561d9",
   "metadata": {},
   "outputs": [
    {
     "name": "stdout",
     "output_type": "stream",
     "text": [
      "파이썬도 배우고 \n",
      "장고도 배우고 \n",
      "할 게 너무 많아\n"
     ]
    }
   ],
   "source": [
    "# 방법 2\n",
    "lines = '''파이썬도 배우고 \n",
    "장고도 배우고 \n",
    "할 게 너무 많아'''\n",
    "\n",
    "print(lines)"
   ]
  },
  {
   "cell_type": "markdown",
   "id": "07c9100b",
   "metadata": {},
   "source": [
    "1) 산술 연산자 : 문자, 숫자를 함꼐 연산하기 위한 문법 기호\n",
    "\n",
    "1. 문자와 문자를 연결\n",
    "2. 동일한 문자를 반복해서 연결\n"
   ]
  },
  {
   "cell_type": "code",
   "execution_count": 19,
   "id": "585b6864",
   "metadata": {},
   "outputs": [
    {
     "data": {
      "text/plain": [
       "'가나'"
      ]
     },
     "execution_count": 19,
     "metadata": {},
     "output_type": "execute_result"
    }
   ],
   "source": [
    "# 문자와 문자\n",
    "'가' + '나'"
   ]
  },
  {
   "cell_type": "code",
   "execution_count": 20,
   "id": "e8874f69",
   "metadata": {},
   "outputs": [
    {
     "data": {
      "text/plain": [
       "'가 나'"
      ]
     },
     "execution_count": 20,
     "metadata": {},
     "output_type": "execute_result"
    }
   ],
   "source": [
    "# 문자 자체에 공백 추가 하기\n",
    "'가'+ ' ' + '나'"
   ]
  },
  {
   "cell_type": "code",
   "execution_count": 21,
   "id": "3f7f16d0",
   "metadata": {},
   "outputs": [
    {
     "ename": "TypeError",
     "evalue": "can only concatenate str (not \"int\") to str",
     "output_type": "error",
     "traceback": [
      "\u001b[1;31m---------------------------------------------------------------------------\u001b[0m",
      "\u001b[1;31mTypeError\u001b[0m                                 Traceback (most recent call last)",
      "Input \u001b[1;32mIn [21]\u001b[0m, in \u001b[0;36m<cell line: 2>\u001b[1;34m()\u001b[0m\n\u001b[0;32m      1\u001b[0m \u001b[38;5;66;03m#2. 문자 + 문자가 아닌 자료형\u001b[39;00m\n\u001b[1;32m----> 2\u001b[0m \u001b[38;5;124;43m'\u001b[39;49m\u001b[38;5;124;43m가 \u001b[39;49m\u001b[38;5;124;43m'\u001b[39;49m\u001b[38;5;241;43m+\u001b[39;49m\u001b[38;5;241;43m1\u001b[39;49m\n",
      "\u001b[1;31mTypeError\u001b[0m: can only concatenate str (not \"int\") to str"
     ]
    }
   ],
   "source": [
    "#2. 문자 + 문자가 아닌 자료형\n",
    "'가 '+ 1"
   ]
  },
  {
   "cell_type": "code",
   "execution_count": 22,
   "id": "da2071b1",
   "metadata": {},
   "outputs": [
    {
     "data": {
      "text/plain": [
       "'abcabcabc'"
      ]
     },
     "execution_count": 22,
     "metadata": {},
     "output_type": "execute_result"
    }
   ],
   "source": [
    "#3. 문자를 여러 번 반복하기 : \n",
    "# 동일한 문자열을 여러 번 반복 연결시켜줌\n",
    "'abc' + 'abc' +'abc'"
   ]
  },
  {
   "cell_type": "code",
   "execution_count": 23,
   "id": "57e3d1cd",
   "metadata": {},
   "outputs": [
    {
     "data": {
      "text/plain": [
       "'abcabcabc'"
      ]
     },
     "execution_count": 23,
     "metadata": {},
     "output_type": "execute_result"
    }
   ],
   "source": [
    "'abc' * 3"
   ]
  },
  {
   "cell_type": "code",
   "execution_count": 24,
   "id": "3359a395",
   "metadata": {},
   "outputs": [
    {
     "ename": "TypeError",
     "evalue": "can't multiply sequence by non-int of type 'str'",
     "output_type": "error",
     "traceback": [
      "\u001b[1;31m---------------------------------------------------------------------------\u001b[0m",
      "\u001b[1;31mTypeError\u001b[0m                                 Traceback (most recent call last)",
      "Input \u001b[1;32mIn [24]\u001b[0m, in \u001b[0;36m<cell line: 2>\u001b[1;34m()\u001b[0m\n\u001b[0;32m      1\u001b[0m \u001b[38;5;66;03m# 문자 * 문자 = Error\u001b[39;00m\n\u001b[1;32m----> 2\u001b[0m \u001b[38;5;124;43m'\u001b[39;49m\u001b[38;5;124;43mabc\u001b[39;49m\u001b[38;5;124;43m'\u001b[39;49m\u001b[43m \u001b[49m\u001b[38;5;241;43m*\u001b[39;49m\u001b[43m \u001b[49m\u001b[43ma\u001b[49m\n",
      "\u001b[1;31mTypeError\u001b[0m: can't multiply sequence by non-int of type 'str'"
     ]
    }
   ],
   "source": [
    "# 문자 * 문자 = Error\n",
    "'abc' * a"
   ]
  },
  {
   "cell_type": "markdown",
   "id": "1245a082",
   "metadata": {},
   "source": [
    "### 2) 비교연산자 : 문자의 크기를 비교하기 위한 문법 기호\n",
    "> 문자의 비교\n",
    "\n",
    "* 대문자 vs 소문자 : 대문자 < 소문자 크기가 더 크다(아스키코드 : A = 65, a = 97)\n",
    "* 알파벳 : 알파벳 순서가 뒤에 있을수록(a보다는 z가) 크기가 더 크다\n",
    "* 문자 길이 : 문자열의 길이가 길수록 크기가 더 크다 -> len()으로 찍어서 확인 가능\n"
   ]
  },
  {
   "cell_type": "code",
   "execution_count": 25,
   "id": "9be0345d",
   "metadata": {},
   "outputs": [
    {
     "data": {
      "text/plain": [
       "True"
      ]
     },
     "execution_count": 25,
     "metadata": {},
     "output_type": "execute_result"
    }
   ],
   "source": [
    "# 대문자 vs 소문자 : 비교연산\n",
    "'A' < 'a'"
   ]
  },
  {
   "cell_type": "code",
   "execution_count": 26,
   "id": "5d43c846",
   "metadata": {},
   "outputs": [
    {
     "data": {
      "text/plain": [
       "False"
      ]
     },
     "execution_count": 26,
     "metadata": {},
     "output_type": "execute_result"
    }
   ],
   "source": [
    "# 문자열을 대상으로 할 떄에는 무조건 첫 글자끼리만 비교한다\n",
    "# 문자 길이는 실제 크기 비교에 영향을 미치지 않습니다.\n",
    "'b' < 'BUS'"
   ]
  },
  {
   "cell_type": "code",
   "execution_count": 27,
   "id": "82ec5908",
   "metadata": {},
   "outputs": [
    {
     "data": {
      "text/plain": [
       "True"
      ]
     },
     "execution_count": 27,
     "metadata": {},
     "output_type": "execute_result"
    }
   ],
   "source": [
    "# 문자 길이는 len(문자열)형식으로 확인\n",
    "len('b') < len('BUS')"
   ]
  },
  {
   "cell_type": "code",
   "execution_count": 28,
   "id": "a8383835",
   "metadata": {},
   "outputs": [
    {
     "data": {
      "text/plain": [
       "True"
      ]
     },
     "execution_count": 28,
     "metadata": {},
     "output_type": "execute_result"
    }
   ],
   "source": [
    "#영문자와 영문자 이외의 다른 문자 간 비교는 무조건 영문자가 작게 나옵니다.\n",
    "# ascii code VS Unicode\n",
    "'B' < '가'"
   ]
  },
  {
   "cell_type": "markdown",
   "id": "dd2577cf",
   "metadata": {},
   "source": [
    "#> 인덱스\n",
    "- 아이템 (대상이 가지고 있는 최소 단위의 값)의 위치를 나타내는 고유한 번호\n",
    "- 첫번쨰 위치는 0부터 시작\n",
    "- 마지막 위치는 -1부터 시작(파이썬의 특징)"
   ]
  },
  {
   "cell_type": "code",
   "execution_count": 29,
   "id": "a7087984",
   "metadata": {},
   "outputs": [],
   "source": [
    "#banana라는 문자열에 대해 인덱싱\n",
    "text = 'banana'"
   ]
  },
  {
   "cell_type": "code",
   "execution_count": 30,
   "id": "f8cd7839",
   "metadata": {},
   "outputs": [
    {
     "data": {
      "text/plain": [
       "'b'"
      ]
     },
     "execution_count": 30,
     "metadata": {},
     "output_type": "execute_result"
    }
   ],
   "source": [
    "# banana라는 문자열에서 첫번째 아이템 = 0번째 인덱스 번호로 접근\n",
    "text[0]"
   ]
  },
  {
   "cell_type": "code",
   "execution_count": 35,
   "id": "d81fe95e",
   "metadata": {},
   "outputs": [
    {
     "data": {
      "text/plain": [
       "'a'"
      ]
     },
     "execution_count": 35,
     "metadata": {},
     "output_type": "execute_result"
    }
   ],
   "source": [
    "# 마지막 아이템인 'a'에 접근\n",
    "text[5]\n"
   ]
  },
  {
   "cell_type": "code",
   "execution_count": 36,
   "id": "eef3436c",
   "metadata": {},
   "outputs": [
    {
     "data": {
      "text/plain": [
       "'a'"
      ]
     },
     "execution_count": 36,
     "metadata": {},
     "output_type": "execute_result"
    }
   ],
   "source": [
    "text[-1]"
   ]
  },
  {
   "cell_type": "markdown",
   "id": "9c21a3e8",
   "metadata": {},
   "source": [
    "### 2) 슬라이싱 : 연속된 범위의 여러 아이템에 접근\n",
    "\n",
    "* 대상객체 [처음인덱스 : 마지막 인덱스 (: 간격)]\n",
    "* 처음 인덱스 번호는 포함(n부터 ~)\n",
    "* 마지막 인덱스 번호는 포함하지 않음 (m-1까지)\n",
    "* 간격조정은 할 수도 있고 하지 않을 수도 있습니다.(기본은 1씩 증가)"
   ]
  },
  {
   "cell_type": "code",
   "execution_count": 37,
   "id": "722f43d5",
   "metadata": {},
   "outputs": [],
   "source": [
    "# 문자열 생성\n",
    "text = 'hello python world'"
   ]
  },
  {
   "cell_type": "code",
   "execution_count": 38,
   "id": "6448eb83",
   "metadata": {},
   "outputs": [
    {
     "data": {
      "text/plain": [
       "'hello python'"
      ]
     },
     "execution_count": 38,
     "metadata": {},
     "output_type": "execute_result"
    }
   ],
   "source": [
    "# 처음부터 특정 위치까지 : ~ python\n",
    "# 처음인덱스 0\n",
    "# 마지막 인덱스 : python의 n다음 문자가 몇 번째인지 확인\n",
    "text[0:12]"
   ]
  },
  {
   "cell_type": "code",
   "execution_count": 39,
   "id": "df9c4401",
   "metadata": {},
   "outputs": [
    {
     "data": {
      "text/plain": [
       "'hello python'"
      ]
     },
     "execution_count": 39,
     "metadata": {},
     "output_type": "execute_result"
    }
   ],
   "source": [
    "# 마지막 인덱스 : -7(뒤에서 7번째니까 -6으로 착각하면 안됩니다.)\n",
    "text[0:-6]"
   ]
  },
  {
   "cell_type": "code",
   "execution_count": 40,
   "id": "49198e16",
   "metadata": {},
   "outputs": [
    {
     "data": {
      "text/plain": [
       "'hello python'"
      ]
     },
     "execution_count": 40,
     "metadata": {},
     "output_type": "execute_result"
    }
   ],
   "source": [
    "# 첫 인덱스가 0으로 시작한다면 생략가능\n",
    "text[:-6]"
   ]
  },
  {
   "cell_type": "code",
   "execution_count": 41,
   "id": "7bafc9b3",
   "metadata": {},
   "outputs": [
    {
     "data": {
      "text/plain": [
       "'python'"
      ]
     },
     "execution_count": 41,
     "metadata": {},
     "output_type": "execute_result"
    }
   ],
   "source": [
    "# 특정 위치부터 마지막 아이템까지 : python\n",
    "# 처음 인덱스는 6\n",
    "# 마지막 인덱스는 : -6\n",
    "# 간격 : 기본값(1)\n",
    "text[6:-6]"
   ]
  },
  {
   "cell_type": "code",
   "execution_count": 42,
   "id": "1720b561",
   "metadata": {},
   "outputs": [
    {
     "data": {
      "text/plain": [
       "'hello python world'"
      ]
     },
     "execution_count": 42,
     "metadata": {},
     "output_type": "execute_result"
    }
   ],
   "source": [
    "# 전체 범위로 잡기 : 처음 인덱스, 마지막 인덱스를 모두 기입하지 않으면, 전체 아이템을 다 가져옵니다.\n",
    "text[:]"
   ]
  },
  {
   "cell_type": "code",
   "execution_count": 43,
   "id": "d21fe523",
   "metadata": {},
   "outputs": [
    {
     "data": {
      "text/plain": [
       "'hlopto ol'"
      ]
     },
     "execution_count": 43,
     "metadata": {},
     "output_type": "execute_result"
    }
   ],
   "source": [
    "# 간격을 2로 주려면 : 를 두 번 쓰고 가장 오른쪽에 증감분을 적습니다\n",
    "text[::2]"
   ]
  },
  {
   "cell_type": "markdown",
   "id": "bc550e60",
   "metadata": {},
   "source": [
    "## > 연습문제\n",
    "### 20220726미세먼지양호함\n",
    "#### 위의 문장을 weather 변수에 저장한 다음\n",
    "#### 날짜는 date 변수에 슬라이싱으로 받아오고 micro 변수에 미세먼지 정도를\n",
    "#### 슬라이싱으로 받아오도록 출력해주세요"
   ]
  },
  {
   "cell_type": "code",
   "execution_count": 45,
   "id": "d305c00b",
   "metadata": {},
   "outputs": [],
   "source": [
    "weather = '20220726미세먼지양호함'"
   ]
  },
  {
   "cell_type": "code",
   "execution_count": 49,
   "id": "d887163f",
   "metadata": {},
   "outputs": [
    {
     "name": "stdout",
     "output_type": "stream",
     "text": [
      "20220726\n"
     ]
    }
   ],
   "source": [
    "date = weather[:8]\n",
    "print(date)"
   ]
  },
  {
   "cell_type": "code",
   "execution_count": 54,
   "id": "47fcaa22",
   "metadata": {},
   "outputs": [
    {
     "name": "stdout",
     "output_type": "stream",
     "text": [
      "미세먼지양호함\n"
     ]
    }
   ],
   "source": [
    "micro = weather[8:]\n",
    "print(micro)"
   ]
  },
  {
   "cell_type": "markdown",
   "id": "85d1df2e",
   "metadata": {},
   "source": [
    "# > 포매팅(Formatting)\n",
    "\n",
    "특정 값만 바뀌고 일정한 형식을 가지는 문자열을 작성할 수 있는 기법\n",
    "\n",
    "### 1. % 포매팅\n",
    "* 데이터 타입에 따른 분류 : 정수, 실수, 문자\n",
    "* 옵션 길이 : 문자열 길이, 표현할 아이템 개수, 정렬, 공백\n",
    "\n",
    "### 1) 숫자값 대입"
   ]
  },
  {
   "cell_type": "code",
   "execution_count": 55,
   "id": "3a269139",
   "metadata": {},
   "outputs": [
    {
     "ename": "SyntaxError",
     "evalue": "invalid syntax (1430689685.py, line 4)",
     "output_type": "error",
     "traceback": [
      "\u001b[1;36m  Input \u001b[1;32mIn [55]\u001b[1;36m\u001b[0m\n\u001b[1;33m    elif(c == 21) :\u001b[0m\n\u001b[1;37m    ^\u001b[0m\n\u001b[1;31mSyntaxError\u001b[0m\u001b[1;31m:\u001b[0m invalid syntax\n"
     ]
    }
   ],
   "source": [
    "c = 21\n",
    "if(c == 20) :\n",
    "    print(\"현재 온도는 20도 입니다.\")\n",
    "    elif(c == 21) :\n",
    "        print(\"현재 온도는 21도 입니다.\")"
   ]
  },
  {
   "cell_type": "code",
   "execution_count": 56,
   "id": "7af9cafa",
   "metadata": {},
   "outputs": [],
   "source": [
    "# 1. 가변 자료가 들어갈 자리(땡땡... 에 해당하는)에 구멍(%자료형)을 낸다.\n",
    "# 2. 구멍이 뚫린 문자열 뒤에 % 로 연결한 다음 집어넣을 값을 적는다\n"
   ]
  },
  {
   "cell_type": "code",
   "execution_count": 57,
   "id": "e37175eb",
   "metadata": {},
   "outputs": [
    {
     "data": {
      "text/plain": [
       "'오늘은 26일 입니다.'"
      ]
     },
     "execution_count": 57,
     "metadata": {},
     "output_type": "execute_result"
    }
   ],
   "source": [
    "# 정수 값 포매팅 : 정수(int) --> %d\n",
    "\n",
    "'오늘은 %d일 입니다.' % 26"
   ]
  },
  {
   "cell_type": "code",
   "execution_count": 58,
   "id": "132ea5af",
   "metadata": {},
   "outputs": [
    {
     "data": {
      "text/plain": [
       "'오늘은 16일 입니다.'"
      ]
     },
     "execution_count": 58,
     "metadata": {},
     "output_type": "execute_result"
    }
   ],
   "source": [
    "# 정수 자리의 의미 : 출력되는 형식이 정수라는 의미\n",
    "# 반올림이 아니라 소수점 아래를 버린 결과를 출력합니다.\n",
    "'오늘은 %d일 입니다.' % 16.4134242"
   ]
  },
  {
   "cell_type": "code",
   "execution_count": 59,
   "id": "2bd885ec",
   "metadata": {},
   "outputs": [
    {
     "data": {
      "text/plain": [
       "'오늘의 온도는 24.000000도 입니다.'"
      ]
     },
     "execution_count": 59,
     "metadata": {},
     "output_type": "execute_result"
    }
   ],
   "source": [
    "# 실수(float)값 포매팅\n",
    "# if를 이용하여 값에 대한 구멍을 낸다\n",
    "# %f는 기본적으로 소수점 아래 6자리까지 표현\n",
    "\"오늘의 온도는 %f도 입니다.\" % 24"
   ]
  },
  {
   "cell_type": "code",
   "execution_count": 61,
   "id": "49accdcd",
   "metadata": {},
   "outputs": [
    {
     "data": {
      "text/plain": [
       "'당신의 점수는 92.123457점 입니다.'"
      ]
     },
     "execution_count": 61,
     "metadata": {},
     "output_type": "execute_result"
    }
   ],
   "source": [
    "# 실수값 포메팅 2 : 집어넣는 값을 정수가 아닌 실수로 적용\n",
    "# 실수값 포메팅은 6번째 자리에서 반올림을 한다\n",
    "'당신의 점수는 %f점 입니다.' % 92.123456789"
   ]
  },
  {
   "cell_type": "code",
   "execution_count": 62,
   "id": "43ba215e",
   "metadata": {},
   "outputs": [
    {
     "data": {
      "text/plain": [
       "'당신의 점수는 92.123 점 입니다.'"
      ]
     },
     "execution_count": 62,
     "metadata": {},
     "output_type": "execute_result"
    }
   ],
   "source": [
    "# 옵션 : 소수점 아래 자리를 몇 자리까지 출력할 지 정할 수 있습니다.\n",
    "# %0.nf : 소수점 아래 n자리까지만 표현하는 실수\n",
    "'당신의 점수는 %0.3f 점 입니다.' % 92.123456789"
   ]
  },
  {
   "cell_type": "code",
   "execution_count": 65,
   "id": "1b5a8d48",
   "metadata": {},
   "outputs": [
    {
     "data": {
      "text/plain": [
       "'오늘은 7월 26일입니다.'"
      ]
     },
     "execution_count": 65,
     "metadata": {},
     "output_type": "execute_result"
    }
   ],
   "source": [
    "# 가변자료를 2개 이상 넣는 경우\n",
    "# 집어넣는 값은 왼쪽부터 하나씩 전달됩니다.\n",
    "# 2개 이상을 집어넣는 경우는 %(1번째 값, 2번째 값 ...)과 같이 ()로 감싸서 전달합니다.\n",
    "'오늘은 %d월 %d일입니다.' % (7, 26)"
   ]
  },
  {
   "cell_type": "code",
   "execution_count": 66,
   "id": "a91c5f30",
   "metadata": {},
   "outputs": [
    {
     "ename": "TypeError",
     "evalue": "%d format: a number is required, not str",
     "output_type": "error",
     "traceback": [
      "\u001b[1;31m---------------------------------------------------------------------------\u001b[0m",
      "\u001b[1;31mTypeError\u001b[0m                                 Traceback (most recent call last)",
      "Input \u001b[1;32mIn [66]\u001b[0m, in \u001b[0;36m<cell line: 2>\u001b[1;34m()\u001b[0m\n\u001b[0;32m      1\u001b[0m \u001b[38;5;66;03m# %d, %f에 숫자가 아닌 자료를 넣으면 에러가 발생합니다.\u001b[39;00m\n\u001b[1;32m----> 2\u001b[0m \u001b[38;5;124;43m'\u001b[39;49m\u001b[38;5;124;43m오늘은 \u001b[39;49m\u001b[38;5;132;43;01m%d\u001b[39;49;00m\u001b[38;5;124;43m월 \u001b[39;49m\u001b[38;5;132;43;01m%d\u001b[39;49;00m\u001b[38;5;124;43m일입니다.\u001b[39;49m\u001b[38;5;124;43m'\u001b[39;49m\u001b[43m \u001b[49m\u001b[38;5;241;43m%\u001b[39;49m\u001b[43m(\u001b[49m\u001b[38;5;124;43m'\u001b[39;49m\u001b[38;5;124;43m5\u001b[39;49m\u001b[38;5;124;43m'\u001b[39;49m\u001b[43m,\u001b[49m\u001b[43m \u001b[49m\u001b[38;5;124;43m'\u001b[39;49m\u001b[38;5;124;43mㅁ\u001b[39;49m\u001b[38;5;124;43m'\u001b[39;49m\u001b[43m)\u001b[49m\n",
      "\u001b[1;31mTypeError\u001b[0m: %d format: a number is required, not str"
     ]
    }
   ],
   "source": [
    "# %d, %f에 숫자가 아닌 자료를 넣으면 에러가 발생합니다.\n",
    "'오늘은 %d월 %d일입니다.' %('5', 'ㅁ')"
   ]
  },
  {
   "cell_type": "markdown",
   "id": "c4aeb179",
   "metadata": {},
   "source": [
    "# 2)문자 대입\n",
    "\n",
    "- %s 로 구멍 뚫기\n",
    "- 집어넣는 값에 대해서는 제한이 없다\n",
    "- 만능 포메팅\n"
   ]
  },
  {
   "cell_type": "code",
   "execution_count": 67,
   "id": "16fb077a",
   "metadata": {},
   "outputs": [
    {
     "data": {
      "text/plain": [
       "'abc1234님 접속을 환영합니다.'"
      ]
     },
     "execution_count": 67,
     "metadata": {},
     "output_type": "execute_result"
    }
   ],
   "source": [
    "# 집어넣는 값 : 문자 타입\n",
    "'%s님 접속을 환영합니다.' % 'abc1234'"
   ]
  },
  {
   "cell_type": "code",
   "execution_count": 68,
   "id": "f85a54a8",
   "metadata": {},
   "outputs": [
    {
     "data": {
      "text/plain": [
       "'1000 숫자도 쓸 수 있네요'"
      ]
     },
     "execution_count": 68,
     "metadata": {},
     "output_type": "execute_result"
    }
   ],
   "source": [
    "# 문자 이외의 타입도 가능\n",
    "'%s 숫자도 쓸 수 있네요' % 1000"
   ]
  },
  {
   "cell_type": "code",
   "execution_count": 75,
   "id": "3e479339",
   "metadata": {},
   "outputs": [
    {
     "data": {
      "text/plain": [
       "'날짜 : 2022 - 07 - 26 출석률 : 88'"
      ]
     },
     "execution_count": 75,
     "metadata": {},
     "output_type": "execute_result"
    }
   ],
   "source": [
    "'날짜 : %s - %s - %s 출석률 : %s' % (2022, '07', 26, 88)"
   ]
  },
  {
   "cell_type": "code",
   "execution_count": 92,
   "id": "97f4b24b",
   "metadata": {},
   "outputs": [
    {
     "data": {
      "text/plain": [
       "'날짜 : 2022 - 07 - 26 출석률 : 0.9%'"
      ]
     },
     "execution_count": 92,
     "metadata": {},
     "output_type": "execute_result"
    }
   ],
   "source": [
    "'날짜 : %s - %s - %s 출석률 : %0.1f%%' % (2022, '07', 26, (16/18))"
   ]
  },
  {
   "cell_type": "markdown",
   "id": "ab931027",
   "metadata": {},
   "source": [
    "## > 문자열 내장함수* = 문자열 메서드\n",
    "\n",
    "    └≫ 내장함수 : 특정 데이터 타입이 자체적으로 가지고 있는 속성으로 존재하는 함수\n",
    "    └≫ 문법 : 변수(데이터타입값).함수명()\n",
    "\n",
    "\n",
    "* count( ) : 특정 문자의 개수\n",
    "\n",
    "\n",
    "* find( ) :특정 문자의 인덱스 번호(위치)\n",
    "\n",
    "\n",
    "* join( ) : 특정 기호를 문자열 아이템 사이에 입력\n",
    "\n",
    "\n",
    "* upper( ) : 문자열을 대문자로 변경\n",
    "\n",
    "\n",
    "* lower( ) : 문자열을 소문자로 변경\n",
    "\n",
    "\n",
    "* capitalize( ) : 문자열의 첫 글자를 대문자로\n",
    "\n",
    "\n",
    "* swapcase( ) : 대문자는 소문자로, 소문자는 대문자로 전환\n",
    "\n",
    "\n",
    "* lstrip( ) / rstrip( ) / strip( ) : 좌 / 우 / 앞뒤 공백(기본) 및 특정 문자 지우기\n",
    "\n",
    "\n",
    "* replace( ) : 기존 문자를 새로운 문자로 바꾸기\n",
    "\n",
    "\n",
    "* split( ) : 특정 기호를 기준으로 문자열을 아이템 단위로 나누어 리스트로 반환\n",
    "\n",
    "\n",
    "* center( ) : 문자열 길이를 지정하여 대상 문자열을 중앙 정렬\n",
    "\n",
    "\n",
    "* ljust( ) : 문자열 길이를 지정하여 대상 문자열을 왼쪽 정렬\n",
    "\n",
    "\n",
    "* rjust( ) : 문자열 길이를 지정하여 대상 문자열을 오른쪽 정렬"
   ]
  },
  {
   "cell_type": "code",
   "execution_count": 93,
   "id": "653d272d",
   "metadata": {},
   "outputs": [],
   "source": [
    "# 문자열 생성\n",
    "text = 'tomato juice'"
   ]
  },
  {
   "cell_type": "code",
   "execution_count": 94,
   "id": "f978aef8",
   "metadata": {},
   "outputs": [
    {
     "data": {
      "text/plain": [
       "2"
      ]
     },
     "execution_count": 94,
     "metadata": {},
     "output_type": "execute_result"
    }
   ],
   "source": [
    "#count()\n",
    "#해당 문자열 내부에 내가 찾고싶은 문자, 단어가 몇 개 인지 세어줍니다\n",
    "text.count('to')"
   ]
  },
  {
   "cell_type": "code",
   "execution_count": 95,
   "id": "97563882",
   "metadata": {},
   "outputs": [
    {
     "data": {
      "text/plain": [
       "0"
      ]
     },
     "execution_count": 95,
     "metadata": {},
     "output_type": "execute_result"
    }
   ],
   "source": [
    "# find( ) : 특정 값의 인덱스 번호를 반환\n",
    "# txt 문자열에서의 a의 인덱스 번호\n",
    "# find('찾을 자료', '시작 인덱스')\n",
    "# 자료가 없을 떄는 -1 리턴\n",
    "\n",
    "text.find('to')"
   ]
  },
  {
   "cell_type": "code",
   "execution_count": 96,
   "id": "81aa0705",
   "metadata": {},
   "outputs": [
    {
     "data": {
      "text/plain": [
       "4"
      ]
     },
     "execution_count": 96,
     "metadata": {},
     "output_type": "execute_result"
    }
   ],
   "source": [
    "text.find('to', 2)"
   ]
  },
  {
   "cell_type": "code",
   "execution_count": 97,
   "id": "1541da5f",
   "metadata": {},
   "outputs": [
    {
     "data": {
      "text/plain": [
       "'TOMATO JUICE'"
      ]
     },
     "execution_count": 97,
     "metadata": {},
     "output_type": "execute_result"
    }
   ],
   "source": [
    "# upper()\n",
    "# 변경한 결과를 시뮬레이션해서 보여줌 (원본 자료는 변경되지 않음)\n",
    "text.upper()"
   ]
  },
  {
   "cell_type": "code",
   "execution_count": 101,
   "id": "922cbfad",
   "metadata": {},
   "outputs": [
    {
     "data": {
      "text/plain": [
       "'TOMATO JUICE'"
      ]
     },
     "execution_count": 101,
     "metadata": {},
     "output_type": "execute_result"
    }
   ],
   "source": [
    "text2 = text.upper()\n",
    "# lower()는 그 반대입니다.\n",
    "text2.lower()\n",
    "text2"
   ]
  },
  {
   "cell_type": "code",
   "execution_count": 102,
   "id": "5cc05f67",
   "metadata": {},
   "outputs": [],
   "source": [
    "text = '                123                    123                   '\n"
   ]
  },
  {
   "cell_type": "code",
   "execution_count": 104,
   "id": "f804ebaf",
   "metadata": {},
   "outputs": [
    {
     "data": {
      "text/plain": [
       "'123                    123                   '"
      ]
     },
     "execution_count": 104,
     "metadata": {},
     "output_type": "execute_result"
    }
   ],
   "source": [
    "# lstrip()\n",
    "# 문자열 왼쪽에 있는 공백 전부 제거\n",
    "# 시뮬레이션 결과로만 제거\n",
    "text.lstrip()"
   ]
  },
  {
   "cell_type": "code",
   "execution_count": 105,
   "id": "7d3d9171",
   "metadata": {},
   "outputs": [
    {
     "data": {
      "text/plain": [
       "'                123                    123'"
      ]
     },
     "execution_count": 105,
     "metadata": {},
     "output_type": "execute_result"
    }
   ],
   "source": [
    "#rstrip()\n",
    "# lstrip의 오론쪽 버전\n",
    "text.rstrip()"
   ]
  },
  {
   "cell_type": "code",
   "execution_count": 106,
   "id": "b33dba08",
   "metadata": {},
   "outputs": [
    {
     "data": {
      "text/plain": [
       "'123                    123'"
      ]
     },
     "execution_count": 106,
     "metadata": {},
     "output_type": "execute_result"
    }
   ],
   "source": [
    "#strip()\n",
    "# 양쪽 모두 벗기기\n",
    "text.strip()"
   ]
  },
  {
   "cell_type": "code",
   "execution_count": 107,
   "id": "834437bd",
   "metadata": {},
   "outputs": [
    {
     "data": {
      "text/plain": [
       "'                456                    456                   '"
      ]
     },
     "execution_count": 107,
     "metadata": {},
     "output_type": "execute_result"
    }
   ],
   "source": [
    "#replace(old, new)\n",
    "# 찾아바꾸기\n",
    "# 변경은 안됩니다.\n",
    "text.replace('123','456')"
   ]
  },
  {
   "cell_type": "code",
   "execution_count": 108,
   "id": "ca660f3f",
   "metadata": {},
   "outputs": [
    {
     "data": {
      "text/plain": [
       "'123123'"
      ]
     },
     "execution_count": 108,
     "metadata": {},
     "output_type": "execute_result"
    }
   ],
   "source": [
    "text.replace(' ', '')"
   ]
  },
  {
   "cell_type": "markdown",
   "id": "8aaaf913",
   "metadata": {},
   "source": [
    "### 3. 아이템 추가하기 : 연산자와 함수를 이용한 리스트 아이템 추가\n",
    "\n",
    "1) 산술연산자 : +, *\n",
    "\n",
    "2) 리스트의 함수 (메서드) : 리스트.append(), 리스트.extend(), 리스트.insert()"
   ]
  },
  {
   "cell_type": "markdown",
   "id": "1fb66fca",
   "metadata": {},
   "source": [
    "### 3-1) 산술연산자\n",
    "\n",
    "* 종류 : +, -\n",
    "\n",
    "* 특징 : 원본에 반영되지 않는다.\n"
   ]
  },
  {
   "cell_type": "code",
   "execution_count": 109,
   "id": "7e71f085",
   "metadata": {},
   "outputs": [],
   "source": [
    "# 리스트끼리 연결하기 : +\n",
    "a = [1,2,3]\n",
    "b = [4,5,6]\n"
   ]
  },
  {
   "cell_type": "code",
   "execution_count": 114,
   "id": "7de1a4a2",
   "metadata": {},
   "outputs": [
    {
     "data": {
      "text/plain": [
       "[1, 2, 3, 4, 5, 6]"
      ]
     },
     "execution_count": 114,
     "metadata": {},
     "output_type": "execute_result"
    }
   ],
   "source": [
    "a+b\n"
   ]
  },
  {
   "cell_type": "code",
   "execution_count": 112,
   "id": "9e90ea60",
   "metadata": {},
   "outputs": [
    {
     "name": "stdout",
     "output_type": "stream",
     "text": [
      "[1, 2, 3]\n",
      "[4, 5, 6]\n"
     ]
    }
   ],
   "source": [
    "print(a)\n",
    "print(b)"
   ]
  },
  {
   "cell_type": "code",
   "execution_count": 115,
   "id": "fbf56433",
   "metadata": {},
   "outputs": [
    {
     "data": {
      "text/plain": [
       "[4, 5, 6, 4, 5, 6, 4, 5, 6]"
      ]
     },
     "execution_count": 115,
     "metadata": {},
     "output_type": "execute_result"
    }
   ],
   "source": [
    "b * 3 # b + b + b"
   ]
  },
  {
   "cell_type": "markdown",
   "id": "b939cf68",
   "metadata": {},
   "source": [
    "### 4. 리스트 타입의 함수 (method)\n",
    "\n",
    "* 종류\n",
    "\n",
    " - 리스트.append(추가할 아이템) : 인자값을 통채로 리스트의 마지막 아이템으로 추가, 인자값은 1개만 받음 = 1개 아이템만 추가 가능\n",
    " \n",
    " - 리스트.extend(추가할 아이템) : 인자값의 아이템을 뽑아서 리스트의 마지막 아이템으로 추가, 인자값은 1개만 받음. 단 여러 개의 아이템 추가 가능\n",
    " \n",
    " - 리스트.insert(인덱스번호, 추가할 아이템) : 위치를 지정해서 아이템을 삽입할 수 있음, 통채로 아이템을 추가\n",
    " \n",
    " - 리스트.\n",
    " \n",
    " \n",
    " \n",
    " "
   ]
  },
  {
   "cell_type": "code",
   "execution_count": 116,
   "id": "ec06c87e",
   "metadata": {},
   "outputs": [
    {
     "data": {
      "text/plain": [
       "[1, 2, 3]"
      ]
     },
     "execution_count": 116,
     "metadata": {},
     "output_type": "execute_result"
    }
   ],
   "source": [
    "#리스트 생성하기\n",
    "a = [1,2,3]\n",
    "a"
   ]
  },
  {
   "cell_type": "code",
   "execution_count": 117,
   "id": "9d272714",
   "metadata": {},
   "outputs": [
    {
     "data": {
      "text/plain": [
       "[1, 2, 3, 4]"
      ]
     },
     "execution_count": 117,
     "metadata": {},
     "output_type": "execute_result"
    }
   ],
   "source": [
    "#append()\n",
    "# 문법 : 리스티.append(추가할 아이템)\n",
    "\n",
    "a.append(4)\n",
    "a"
   ]
  },
  {
   "cell_type": "code",
   "execution_count": 118,
   "id": "8c341d65",
   "metadata": {},
   "outputs": [
    {
     "data": {
      "text/plain": [
       "[1, 2, 3, 4, [5, 6]]"
      ]
     },
     "execution_count": 118,
     "metadata": {},
     "output_type": "execute_result"
    }
   ],
   "source": [
    "# 추가할 자료로 [5,6]을 제공한다면\n",
    "# 하나의 인덱스에 자료를 넣어버리는 모습\n",
    "a.append([5,6])\n",
    "a"
   ]
  },
  {
   "cell_type": "code",
   "execution_count": 119,
   "id": "899df335",
   "metadata": {},
   "outputs": [
    {
     "data": {
      "text/plain": [
       "[5, 6]"
      ]
     },
     "execution_count": 119,
     "metadata": {},
     "output_type": "execute_result"
    }
   ],
   "source": [
    "a[4]"
   ]
  },
  {
   "cell_type": "code",
   "execution_count": 121,
   "id": "b795ddb6",
   "metadata": {},
   "outputs": [
    {
     "data": {
      "text/plain": [
       "[1, 2, 3, 4, [5, 6], 7, 8, 9]"
      ]
     },
     "execution_count": 121,
     "metadata": {},
     "output_type": "execute_result"
    }
   ],
   "source": [
    "#extend()\n",
    "# 문법 : 대상리스트 extend(리스트)\n",
    "# append()와 차이점 : 인자값으로 리스트만 받을 수 있다.\n",
    "# 리스트의 길이만큼 인덱스 길이가 늘어난다. ( append는 무조건 1만큼만 연장됨)\n",
    "a.extend([7,8,9])\n",
    "a"
   ]
  },
  {
   "cell_type": "code",
   "execution_count": 124,
   "id": "f318cc6e",
   "metadata": {},
   "outputs": [
    {
     "data": {
      "text/plain": [
       "[1, 2, 3, 4, [5, 6], 7, 8, 9, 10, 10]"
      ]
     },
     "execution_count": 124,
     "metadata": {},
     "output_type": "execute_result"
    }
   ],
   "source": [
    "#extend()로 수 하나만 추가하고 싶은 경우엔 어떻게 해야 할까요?\n",
    "a.extend([10])\n",
    "a"
   ]
  },
  {
   "cell_type": "code",
   "execution_count": 125,
   "id": "b90e68c4",
   "metadata": {},
   "outputs": [
    {
     "data": {
      "text/plain": [
       "[100, 1, 2, 3, 4, [5, 6], 7, 8, 9, 10, 10]"
      ]
     },
     "execution_count": 125,
     "metadata": {},
     "output_type": "execute_result"
    }
   ],
   "source": [
    "#insert()\n",
    "# 문법 : 대상리스트.insert(인덱스번호, 추가할 아이템)\n",
    "# 다른 함수와의 차이점 : 아이템 추가가 마지막 인덱스가 아닌 지정한 인덱스를 기준으로\n",
    "# append와의 유사점 : 하나의 인덱스에 다 때려박음\n",
    "a.insert(0, 100)\n",
    "a"
   ]
  },
  {
   "cell_type": "code",
   "execution_count": 127,
   "id": "2bce5055",
   "metadata": {},
   "outputs": [
    {
     "data": {
      "text/plain": [
       "[[99, 98], 100, 1, 2, 3, 4, [5, 6], 7, 8, 9, 10, 10]"
      ]
     },
     "execution_count": 127,
     "metadata": {},
     "output_type": "execute_result"
    }
   ],
   "source": [
    "a.insert(0, [99,98])\n",
    "a"
   ]
  },
  {
   "cell_type": "code",
   "execution_count": 128,
   "id": "0acbb337",
   "metadata": {},
   "outputs": [
    {
     "data": {
      "text/plain": [
       "False"
      ]
     },
     "execution_count": 128,
     "metadata": {},
     "output_type": "execute_result"
    }
   ],
   "source": [
    "# in 키워드는 특정 요소가 리스트 내에 있는지 없는지 여부를 물어봅니다.\n",
    "# 값 in 리스트\n",
    "# 값 100이 a리스트 내에 존재하나요? => 100 in a\n",
    "99 in a"
   ]
  },
  {
   "cell_type": "code",
   "execution_count": 130,
   "id": "2e42e1e5",
   "metadata": {},
   "outputs": [
    {
     "data": {
      "text/plain": [
       "False"
      ]
     },
     "execution_count": 130,
     "metadata": {},
     "output_type": "execute_result"
    }
   ],
   "source": [
    "# not in 키워드는 특정 요소가 리스트 내부에 없는지 여부를 물어봅니다.\n",
    "# 값 not in 리스트\n",
    "# 50이 a 리스트에 존재 안 합니까? -> 50 not in a\n",
    "10 not in a"
   ]
  },
  {
   "cell_type": "markdown",
   "id": "76fae408",
   "metadata": {},
   "source": [
    "### << 연습문제 >>\n",
    "\n",
    "아래의 순서에 맞추어 직접 실행해보세요.\n",
    "\n",
    "1) 빈 리스트 생성\n",
    "\n",
    "2) 1번 리스트에 숫자 1,2,3을 아이템으로 추가\n",
    "\n",
    "3) 2번 리스트의 3번째 위치에 문자 100을 아이템으로 추가\n",
    "\n",
    "4) 3번 리스트의 마지막 문자 A, B를 아이템으로 가진 리스트를 아이템으로 추가\n",
    "\n",
    "5) 4번 리스트의 아이템을 2번 반복해서 가지는 리스트를 출력\n",
    "\n"
   ]
  },
  {
   "cell_type": "code",
   "execution_count": 132,
   "id": "e3277449",
   "metadata": {},
   "outputs": [],
   "source": [
    "list1 = []"
   ]
  },
  {
   "cell_type": "code",
   "execution_count": 133,
   "id": "eaa0b296",
   "metadata": {},
   "outputs": [
    {
     "ename": "TypeError",
     "evalue": "list.append() takes exactly one argument (3 given)",
     "output_type": "error",
     "traceback": [
      "\u001b[1;31m---------------------------------------------------------------------------\u001b[0m",
      "\u001b[1;31mTypeError\u001b[0m                                 Traceback (most recent call last)",
      "Input \u001b[1;32mIn [133]\u001b[0m, in \u001b[0;36m<cell line: 1>\u001b[1;34m()\u001b[0m\n\u001b[1;32m----> 1\u001b[0m \u001b[43mlist1\u001b[49m\u001b[38;5;241;43m.\u001b[39;49m\u001b[43mappend\u001b[49m\u001b[43m(\u001b[49m\u001b[38;5;241;43m1\u001b[39;49m\u001b[43m,\u001b[49m\u001b[43m \u001b[49m\u001b[38;5;241;43m2\u001b[39;49m\u001b[43m,\u001b[49m\u001b[43m \u001b[49m\u001b[38;5;241;43m3\u001b[39;49m\u001b[43m)\u001b[49m\n\u001b[0;32m      2\u001b[0m list1\n",
      "\u001b[1;31mTypeError\u001b[0m: list.append() takes exactly one argument (3 given)"
     ]
    }
   ],
   "source": [
    "list1.append(1, 2, 3)\n",
    "list1"
   ]
  },
  {
   "cell_type": "code",
   "execution_count": 134,
   "id": "0b32b85b",
   "metadata": {},
   "outputs": [
    {
     "data": {
      "text/plain": [
       "[1, 2, 3]"
      ]
     },
     "execution_count": 134,
     "metadata": {},
     "output_type": "execute_result"
    }
   ],
   "source": [
    "list1.append(1)\n",
    "list1.append(2)\n",
    "list1.append(3)\n",
    "list1"
   ]
  },
  {
   "cell_type": "code",
   "execution_count": 139,
   "id": "48498027",
   "metadata": {},
   "outputs": [
    {
     "data": {
      "text/plain": [
       "[1, 2, 100, 100, 3, 'A', 'B', 'A', 'B']"
      ]
     },
     "execution_count": 139,
     "metadata": {},
     "output_type": "execute_result"
    }
   ],
   "source": [
    "list1.insert(2, 100)\n",
    "list1"
   ]
  },
  {
   "cell_type": "code",
   "execution_count": 140,
   "id": "da6d36b3",
   "metadata": {},
   "outputs": [],
   "source": [
    "list3 = list1.extend(['A', 'B'])\n",
    "list3"
   ]
  },
  {
   "cell_type": "code",
   "execution_count": 152,
   "id": "2e4b4db2",
   "metadata": {},
   "outputs": [
    {
     "data": {
      "text/plain": [
       "[1, 2, 3]"
      ]
     },
     "execution_count": 152,
     "metadata": {},
     "output_type": "execute_result"
    }
   ],
   "source": [
    "list1 = [1,2,3]\n",
    "list1"
   ]
  },
  {
   "cell_type": "code",
   "execution_count": 153,
   "id": "688974d1",
   "metadata": {},
   "outputs": [
    {
     "data": {
      "text/plain": [
       "[1, 2, 100, 3]"
      ]
     },
     "execution_count": 153,
     "metadata": {},
     "output_type": "execute_result"
    }
   ],
   "source": [
    "list1.insert(2, 100)\n",
    "list1"
   ]
  },
  {
   "cell_type": "code",
   "execution_count": 155,
   "id": "bc2da8f5",
   "metadata": {},
   "outputs": [
    {
     "data": {
      "text/plain": [
       "[1, 2, 100, 3, ['A', 'B']]"
      ]
     },
     "execution_count": 155,
     "metadata": {},
     "output_type": "execute_result"
    }
   ],
   "source": [
    "list1.append(['A','B'])\n",
    "list1"
   ]
  },
  {
   "cell_type": "code",
   "execution_count": 157,
   "id": "c27dccf9",
   "metadata": {},
   "outputs": [
    {
     "data": {
      "text/plain": [
       "[1, 2, 100, 3, ['A', 'B'], 1, 2, 100, 3, ['A', 'B']]"
      ]
     },
     "execution_count": 157,
     "metadata": {},
     "output_type": "execute_result"
    }
   ],
   "source": [
    "#list4 = list1 * 2\n",
    "list4"
   ]
  },
  {
   "cell_type": "markdown",
   "id": "f2e22dc7",
   "metadata": {},
   "source": [
    "### 5. 아이템 수정하기\n",
    "\n",
    "- 인덱싱, 슬라이싱을 이용해서 아이템을 수정할 수 있다.\n",
    "\n"
   ]
  },
  {
   "cell_type": "code",
   "execution_count": 158,
   "id": "6cd537b6",
   "metadata": {},
   "outputs": [],
   "source": [
    "# 리스트 생성하기\n",
    "a = [1, 2, 3, 4]"
   ]
  },
  {
   "cell_type": "code",
   "execution_count": 159,
   "id": "3d395198",
   "metadata": {},
   "outputs": [
    {
     "data": {
      "text/plain": [
       "[[10, 20], 2, 3, 4]"
      ]
     },
     "execution_count": 159,
     "metadata": {},
     "output_type": "execute_result"
    }
   ],
   "source": [
    "#하나의 아이템 수정하기\n",
    "# 0번 인덱스에 있는 값을 [10, 20]으로 수정하기\n",
    "# 결과 : [[10, 20], 2, 3, 4]\n",
    "a[0] = [10, 20]\n",
    "a"
   ]
  },
  {
   "cell_type": "code",
   "execution_count": 160,
   "id": "d32cf577",
   "metadata": {},
   "outputs": [
    {
     "data": {
      "text/plain": [
       "[10, 20, 2, 3, 4]"
      ]
     },
     "execution_count": 160,
     "metadata": {},
     "output_type": "execute_result"
    }
   ],
   "source": [
    "# 연속된 범위의 여러 아이템 수정하기\n",
    "# 0번 인덱스만 선택 => 슬라이싱으로 선택\n",
    "a2 = [1,2,3,4]\n",
    "a2[0:1] = [10,20] #0번쨰부터 0번째까지 (1-1번까지)\n",
    "a2"
   ]
  },
  {
   "cell_type": "code",
   "execution_count": 163,
   "id": "cde13af8",
   "metadata": {},
   "outputs": [],
   "source": [
    "# 슬라이싱으로 값을 할당할 때의 주의점 : 전달하는 값은 1개여도 리스트로\n",
    "\n",
    "a2[0:1] = [100]\n"
   ]
  },
  {
   "cell_type": "code",
   "execution_count": 164,
   "id": "8db73904",
   "metadata": {},
   "outputs": [
    {
     "data": {
      "text/plain": [
       "[100, 2, 3, 4]"
      ]
     },
     "execution_count": 164,
     "metadata": {},
     "output_type": "execute_result"
    }
   ],
   "source": [
    "a2"
   ]
  },
  {
   "cell_type": "markdown",
   "id": "d22635c9",
   "metadata": {},
   "source": [
    "### <<연습문제>>\n",
    "\n",
    "아래 조건에 맞추어 리스트를 수정하세요.\n",
    "\n",
    "[10, 99, 3, '사과' , 73, '바나나']\n",
    "\n",
    "1. 사과를 apple로\n",
    "2. 99,3dmf 9, 33으로\n",
    "3. 73을 [73, 74]로"
   ]
  },
  {
   "cell_type": "code",
   "execution_count": 170,
   "id": "f9b11d82",
   "metadata": {},
   "outputs": [
    {
     "data": {
      "text/plain": [
       "[10, 99, 3, '사과', 73, '바나나']"
      ]
     },
     "execution_count": 170,
     "metadata": {},
     "output_type": "execute_result"
    }
   ],
   "source": [
    "x = [10, 99, 3, '사과', 73, '바나나']\n",
    "x"
   ]
  },
  {
   "cell_type": "code",
   "execution_count": 171,
   "id": "6d15c407",
   "metadata": {},
   "outputs": [
    {
     "data": {
      "text/plain": [
       "[10, 99, 3, 'apple', 73, '바나나']"
      ]
     },
     "execution_count": 171,
     "metadata": {},
     "output_type": "execute_result"
    }
   ],
   "source": [
    "x[3] = 'apple'\n",
    "x"
   ]
  },
  {
   "cell_type": "code",
   "execution_count": 173,
   "id": "40606f1d",
   "metadata": {},
   "outputs": [
    {
     "data": {
      "text/plain": [
       "[10, 9, 33, 'apple', 73, '바나나']"
      ]
     },
     "execution_count": 173,
     "metadata": {},
     "output_type": "execute_result"
    }
   ],
   "source": [
    "x[1:3] = [9, 33]\n",
    "x"
   ]
  },
  {
   "cell_type": "code",
   "execution_count": 174,
   "id": "d15ffa6a",
   "metadata": {},
   "outputs": [
    {
     "data": {
      "text/plain": [
       "[10, 9, 33, 'apple', 73, '바나나']"
      ]
     },
     "execution_count": 174,
     "metadata": {},
     "output_type": "execute_result"
    }
   ],
   "source": [
    "x"
   ]
  },
  {
   "cell_type": "code",
   "execution_count": 175,
   "id": "9431a300",
   "metadata": {},
   "outputs": [
    {
     "data": {
      "text/plain": [
       "[10, 9, 33, 'apple', [73, 74], '바나나']"
      ]
     },
     "execution_count": 175,
     "metadata": {},
     "output_type": "execute_result"
    }
   ],
   "source": [
    "x[4] = [73, 74]\n",
    "x"
   ]
  },
  {
   "cell_type": "markdown",
   "id": "7c9e3fb6",
   "metadata": {},
   "source": [
    "### 6. 아이템 삭제하기\n",
    "\n",
    "* 슬라이싱\n",
    "\n",
    "* del 키워드 + 인덱싱/ 슬라이싱\n",
    "\n",
    "* remove()메서드 : 값을 기준으로 삭제\n",
    "\n",
    "* pop()\n",
    "    -인자값에 아무것도 입력하지 않거나 -1을 입력하면 마지막 인덱스를 삭제\n",
    "    - 특정 인덱스를 지정하여 삭제\n",
    "   "
   ]
  },
  {
   "cell_type": "code",
   "execution_count": 176,
   "id": "fe59f4f6",
   "metadata": {},
   "outputs": [],
   "source": [
    "# 리스트 생성하기\n",
    "a1 = [10, 20, 30, 40, 50]\n",
    "a2 = [10, 20, 30, 40, 50]"
   ]
  },
  {
   "cell_type": "code",
   "execution_count": 177,
   "id": "d682a731",
   "metadata": {},
   "outputs": [
    {
     "data": {
      "text/plain": [
       "[20, 30, 40, 50]"
      ]
     },
     "execution_count": 177,
     "metadata": {},
     "output_type": "execute_result"
    }
   ],
   "source": [
    "#하나의 아이템 삭제하기 -1 슬라이싱 + 빈 리스트 대입\n",
    "\n",
    "# 0번 인덱스 값 삭제하기\n",
    "\n",
    "a1[0:1] = []\n",
    "a1"
   ]
  },
  {
   "cell_type": "code",
   "execution_count": 178,
   "id": "e7020f83",
   "metadata": {},
   "outputs": [
    {
     "data": {
      "text/plain": [
       "[[], 20, 30, 40, 50]"
      ]
     },
     "execution_count": 178,
     "metadata": {},
     "output_type": "execute_result"
    }
   ],
   "source": [
    "# 만약 슬라이싱이 아닌 인덱싱으로 빈 리스트 대입 해버린다면\n",
    "a2[0] = []\n",
    "a2\n",
    "# 인덱스가 삭제되는 게 아니라 빈 리스트가 들어가 버린다"
   ]
  },
  {
   "cell_type": "code",
   "execution_count": 179,
   "id": "fa3c8584",
   "metadata": {},
   "outputs": [
    {
     "data": {
      "text/plain": [
       "[20, 30, 40]"
      ]
     },
     "execution_count": 179,
     "metadata": {},
     "output_type": "execute_result"
    }
   ],
   "source": [
    "# 하나의 아이템 삭제하기 2 - del 키워드 + 인덱싱\n",
    "\n",
    "del a1[-1]\n",
    "a1"
   ]
  },
  {
   "cell_type": "code",
   "execution_count": 180,
   "id": "4329e1f3",
   "metadata": {},
   "outputs": [
    {
     "ename": "NameError",
     "evalue": "name 'a2' is not defined",
     "output_type": "error",
     "traceback": [
      "\u001b[1;31m---------------------------------------------------------------------------\u001b[0m",
      "\u001b[1;31mNameError\u001b[0m                                 Traceback (most recent call last)",
      "Input \u001b[1;32mIn [180]\u001b[0m, in \u001b[0;36m<cell line: 4>\u001b[1;34m()\u001b[0m\n\u001b[0;32m      1\u001b[0m \u001b[38;5;66;03m#del 키워드는 원래 해당 변수나 자료를 삭제해버립니다.\u001b[39;00m\n\u001b[0;32m      2\u001b[0m \u001b[38;5;66;03m# 리스트 전체를 del에 걸면 리스트를 전부 삭제합니다.\u001b[39;00m\n\u001b[0;32m      3\u001b[0m \u001b[38;5;28;01mdel\u001b[39;00m a2\n\u001b[1;32m----> 4\u001b[0m \u001b[43ma2\u001b[49m\n",
      "\u001b[1;31mNameError\u001b[0m: name 'a2' is not defined"
     ]
    }
   ],
   "source": [
    "#del 키워드는 원래 해당 변수나 자료를 삭제해버립니다.\n",
    "# 리스트 전체를 del에 걸면 리스트를 전부 삭제합니다.\n",
    "del a2\n",
    "a2"
   ]
  },
  {
   "cell_type": "code",
   "execution_count": 181,
   "id": "0e29416f",
   "metadata": {},
   "outputs": [],
   "source": [
    "# 하나의 아이템 삭제하기 3 - remove() 메서드\n",
    "# 문법 : 리스트, remove(삭제할 자료를 직접 기입(인덱스가 아님))\n",
    "a = [1,2,3,3,3,4,5]"
   ]
  },
  {
   "cell_type": "code",
   "execution_count": 182,
   "id": "533364cf",
   "metadata": {},
   "outputs": [
    {
     "data": {
      "text/plain": [
       "[1, 2, 3, 3, 3, 4]"
      ]
     },
     "execution_count": 182,
     "metadata": {},
     "output_type": "execute_result"
    }
   ],
   "source": [
    "# 5라는 값을 삭제 (인덱스 번호 6)\n",
    "a.remove(5)\n",
    "a"
   ]
  },
  {
   "cell_type": "code",
   "execution_count": 183,
   "id": "6fc388f6",
   "metadata": {},
   "outputs": [
    {
     "data": {
      "text/plain": [
       "[1, 2, 3, 3, 4]"
      ]
     },
     "execution_count": 183,
     "metadata": {},
     "output_type": "execute_result"
    }
   ],
   "source": [
    "# 중복된 아이템이 존재하면 가장 앞선 인덱스 자료 하나만 삭제\n",
    "a.remove(3)\n",
    "a"
   ]
  },
  {
   "cell_type": "code",
   "execution_count": 184,
   "id": "009f1ad3",
   "metadata": {},
   "outputs": [
    {
     "data": {
      "text/plain": [
       "[1, 2]"
      ]
     },
     "execution_count": 184,
     "metadata": {},
     "output_type": "execute_result"
    }
   ],
   "source": [
    "# del 키워드는 단일 자료뿐만아니라 연속된 범위(슬라이싱) 자료 삭제도 가능합니다.\n",
    "del a[2:]\n",
    "a"
   ]
  },
  {
   "cell_type": "code",
   "execution_count": 190,
   "id": "b66471b5",
   "metadata": {},
   "outputs": [
    {
     "data": {
      "text/plain": [
       "[1, 2, 3, 4, 5, 6]"
      ]
     },
     "execution_count": 190,
     "metadata": {},
     "output_type": "execute_result"
    }
   ],
   "source": [
    "#하나의 아이템 삭제하기 4 - pop() 메서드\n",
    "# 마지막에 위치한 값이 몇이었는지 확인시켜주고 삭제함\n",
    "\n",
    "a = [1,2,3,4,5]\n",
    "a.append(6)\n",
    "a"
   ]
  },
  {
   "cell_type": "code",
   "execution_count": 191,
   "id": "48a08731",
   "metadata": {},
   "outputs": [
    {
     "data": {
      "text/plain": [
       "6"
      ]
     },
     "execution_count": 191,
     "metadata": {},
     "output_type": "execute_result"
    }
   ],
   "source": [
    "#인덱스 번호를 기입하지 않으면 마지막 인덱스 자료를 삭제\n",
    "a.pop()"
   ]
  },
  {
   "cell_type": "code",
   "execution_count": 192,
   "id": "408eb1cc",
   "metadata": {},
   "outputs": [
    {
     "data": {
      "text/plain": [
       "[1, 2, 3, 4, 5]"
      ]
     },
     "execution_count": 192,
     "metadata": {},
     "output_type": "execute_result"
    }
   ],
   "source": [
    "a"
   ]
  },
  {
   "cell_type": "code",
   "execution_count": 193,
   "id": "2806b6f2",
   "metadata": {},
   "outputs": [
    {
     "data": {
      "text/plain": [
       "3"
      ]
     },
     "execution_count": 193,
     "metadata": {},
     "output_type": "execute_result"
    }
   ],
   "source": [
    "# 삭제하려는 인덱스 번호 지정 시 마지막 자료가 아닌 지정 인덱스 번호의 자료 삭제\n",
    "a.pop(2)"
   ]
  },
  {
   "cell_type": "code",
   "execution_count": 194,
   "id": "dae1b673",
   "metadata": {},
   "outputs": [
    {
     "data": {
      "text/plain": [
       "[1, 2, 4, 5]"
      ]
     },
     "execution_count": 194,
     "metadata": {},
     "output_type": "execute_result"
    }
   ],
   "source": [
    "a"
   ]
  },
  {
   "cell_type": "code",
   "execution_count": null,
   "id": "8b054a07",
   "metadata": {},
   "outputs": [],
   "source": []
  }
 ],
 "metadata": {
  "kernelspec": {
   "display_name": "Python 3 (ipykernel)",
   "language": "python",
   "name": "python3"
  },
  "language_info": {
   "codemirror_mode": {
    "name": "ipython",
    "version": 3
   },
   "file_extension": ".py",
   "mimetype": "text/x-python",
   "name": "python",
   "nbconvert_exporter": "python",
   "pygments_lexer": "ipython3",
   "version": "3.9.12"
  }
 },
 "nbformat": 4,
 "nbformat_minor": 5
}
