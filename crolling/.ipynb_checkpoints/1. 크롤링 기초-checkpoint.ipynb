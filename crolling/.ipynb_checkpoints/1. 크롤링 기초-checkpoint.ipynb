{
 "cells": [
  {
   "cell_type": "markdown",
   "id": "56f6ecca",
   "metadata": {},
   "source": [
    "### 크롤링\n",
    "\n",
    "- 웹에서 원하는 자료를 컴퓨터에게 수집해오도록 명령내리는 기술\n",
    "- requests 라이브러리를 활용한 다이렉트 크롤링\n",
    "- selenium 라이브러리르 활용한 간접 크롤링 등이 있다.\n",
    "- 크롤러의 역할은 원하는 정보를 가져오는 것 까지이다.\n",
    "- 실제 원하는 정보를 용도에 맞게 가공하는 것은 beautifulsoup가 담당한다.\n"
   ]
  }
 ],
 "metadata": {
  "kernelspec": {
   "display_name": "Python 3 (ipykernel)",
   "language": "python",
   "name": "python3"
  },
  "language_info": {
   "codemirror_mode": {
    "name": "ipython",
    "version": 3
   },
   "file_extension": ".py",
   "mimetype": "text/x-python",
   "name": "python",
   "nbconvert_exporter": "python",
   "pygments_lexer": "ipython3",
   "version": "3.9.12"
  }
 },
 "nbformat": 4,
 "nbformat_minor": 5
}
