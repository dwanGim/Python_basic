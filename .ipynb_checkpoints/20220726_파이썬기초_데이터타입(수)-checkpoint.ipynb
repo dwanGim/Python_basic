{
 "cells": [
  {
   "cell_type": "markdown",
   "id": "3b1c5adf",
   "metadata": {},
   "source": [
    "# 정수형\n",
    "#양수, 음수, 0\n",
    "a = 10\n",
    "\n"
   ]
  },
  {
   "cell_type": "code",
   "execution_count": 11,
   "id": "47851e04",
   "metadata": {},
   "outputs": [],
   "source": [
    "b=-20\n",
    "c=0"
   ]
  },
  {
   "cell_type": "markdown",
   "id": "405abe2d",
   "metadata": {},
   "source": [
    "#정수 타입 : 타입(데이터 종류)를 확인하는 내장함수 type()\n",
    "type(a)\n",
    "type(b)\n",
    "type(c)\n",
    "\n",
    "print(type(a), type(b), type(c))\n"
   ]
  },
  {
   "cell_type": "markdown",
   "id": "2c0a1dfb",
   "metadata": {},
   "source": [
    "# 실수형\n"
   ]
  },
  {
   "cell_type": "markdown",
   "id": "42515253",
   "metadata": {},
   "source": [
    "#양의 실수, 음의 실수, 0 :  float\n",
    "\n",
    "a = 1.3\n",
    "b = -2.4\n",
    "c= 0.0\n",
    "\n"
   ]
  },
  {
   "cell_type": "code",
   "execution_count": 23,
   "id": "0fe34014",
   "metadata": {},
   "outputs": [
    {
     "data": {
      "text/plain": [
       "float"
      ]
     },
     "execution_count": 23,
     "metadata": {},
     "output_type": "execute_result"
    }
   ],
   "source": [
    "\n",
    "type(a)\n",
    "type(b)\n",
    "type(c)"
   ]
  },
  {
   "cell_type": "code",
   "execution_count": null,
   "id": "3a28c77a",
   "metadata": {},
   "outputs": [],
   "source": []
  },
  {
   "cell_type": "markdown",
   "id": "a3db7b39",
   "metadata": {},
   "source": [
    "## >연산자\n",
    "\n",
    "- 산술 : +,-, /, //(몫), %(나머지), **(제곱)\n",
    "- 비교 : ==, != , <=, >=, > , <\n",
    "- 논리 : and, or\n",
    "- 할당 : =, +=(누적합), -=(누적차), *=(누적곱), /=(몫만 남기기), %=(나머지만 남기기)"
   ]
  },
  {
   "cell_type": "markdown",
   "id": "d93e3dcf",
   "metadata": {},
   "source": [
    "### 1) 산술연산자 : 숫자를 계산하기 위한 문법 기호\n"
   ]
  },
  {
   "cell_type": "code",
   "execution_count": 29,
   "id": "0cbf46b4",
   "metadata": {},
   "outputs": [
    {
     "data": {
      "text/plain": [
       "13.4"
      ]
     },
     "execution_count": 29,
     "metadata": {},
     "output_type": "execute_result"
    }
   ],
   "source": [
    "# 더하기 : +\n",
    "\n",
    "10 + 3 # 정수 + 정수 => 정수로 출력\n",
    "13.3 + 2.4 # 실수 + 실수 => 실수로 출력 + 이진수는 소숫점을 정확하게 표현할 수 없다.\n",
    "10 + 3.4 # 정수 + 실수 => 실수로 출력"
   ]
  },
  {
   "cell_type": "code",
   "execution_count": 32,
   "id": "4dc16a00",
   "metadata": {},
   "outputs": [
    {
     "data": {
      "text/plain": [
       "-4.7"
      ]
     },
     "execution_count": 32,
     "metadata": {},
     "output_type": "execute_result"
    }
   ],
   "source": [
    "#빼기 : -\n",
    "\n",
    "10-3\n",
    "3 - 7.7\n"
   ]
  },
  {
   "cell_type": "code",
   "execution_count": 37,
   "id": "bb8e334f",
   "metadata": {},
   "outputs": [
    {
     "data": {
      "text/plain": [
       "2.0"
      ]
     },
     "execution_count": 37,
     "metadata": {},
     "output_type": "execute_result"
    }
   ],
   "source": [
    "# 나누기 : /\n",
    "# 나누기 결과는 정수 / 정수 여도 실수로 출력됨 == 나누면 다 실수에요\n",
    "3/3\n",
    "7/2\n",
    "5/2.5\n",
    "# 정수/정수, 정수/ 실수, 실수/실수 모두 실수로 결과값이 출력됩니다"
   ]
  },
  {
   "cell_type": "code",
   "execution_count": 42,
   "id": "a934a814",
   "metadata": {},
   "outputs": [
    {
     "data": {
      "text/plain": [
       "-5"
      ]
     },
     "execution_count": 42,
     "metadata": {},
     "output_type": "execute_result"
    }
   ],
   "source": [
    "# 곱하기 : *\n",
    "3*4\n",
    "-3*5\n",
    "(3-4)*5"
   ]
  },
  {
   "cell_type": "code",
   "execution_count": 45,
   "id": "19328271",
   "metadata": {},
   "outputs": [
    {
     "data": {
      "text/plain": [
       "-2"
      ]
     },
     "execution_count": 45,
     "metadata": {},
     "output_type": "execute_result"
    }
   ],
   "source": [
    "# 정수 몫만 반환 : //\n",
    "# 나눗셈의 결과값보다 작은 정수 중에 가장 큰 정수\n",
    "# 음수\n",
    "5 // 4\n",
    "-5 // 4"
   ]
  },
  {
   "cell_type": "code",
   "execution_count": 47,
   "id": "bdad23a8",
   "metadata": {},
   "outputs": [
    {
     "data": {
      "text/plain": [
       "1"
      ]
     },
     "execution_count": 47,
     "metadata": {},
     "output_type": "execute_result"
    }
   ],
   "source": [
    "# 양수\n",
    "4//3"
   ]
  },
  {
   "cell_type": "code",
   "execution_count": 49,
   "id": "32e46a9f",
   "metadata": {},
   "outputs": [
    {
     "data": {
      "text/plain": [
       "3"
      ]
     },
     "execution_count": 49,
     "metadata": {},
     "output_type": "execute_result"
    }
   ],
   "source": [
    "# 정수 몫을 구하고 남은 나머지만 반환\n",
    "3%4"
   ]
  },
  {
   "cell_type": "code",
   "execution_count": 73,
   "id": "67485219",
   "metadata": {},
   "outputs": [
    {
     "data": {
      "text/plain": [
       "1.4142135623730951"
      ]
     },
     "execution_count": 73,
     "metadata": {},
     "output_type": "execute_result"
    }
   ],
   "source": [
    "# 지수 : **\n",
    "2**3 #(2의 3제곱)\n",
    "#2의 제곱근을 구해보세요(제곱했을 때 2가 되는 숫자)\n",
    "2 ** 0.5"
   ]
  },
  {
   "cell_type": "code",
   "execution_count": 74,
   "id": "8c7867f9",
   "metadata": {},
   "outputs": [
    {
     "data": {
      "text/plain": [
       "2.0000000000000004"
      ]
     },
     "execution_count": 74,
     "metadata": {},
     "output_type": "execute_result"
    }
   ],
   "source": [
    "1.4142135623730951**2"
   ]
  },
  {
   "cell_type": "markdown",
   "id": "92b31562",
   "metadata": {},
   "source": [
    "### 2) 비교연산자 :  자료를 비교하기 위한 문법 기호\n",
    "    - 결과가 숫자가 아닌 bool type의 결과를 가진다\n",
    "   >##### bool type\n",
    "   - true : 0 이 아닌 숫자, 참인 조건식 등\n",
    "   - false : 0, 거짓인 조건식 등\n",
    "   -값에 대한 비교 : == , !=\n",
    "   - 크기에 대한 비교 : >, <, >=, <="
   ]
  },
  {
   "cell_type": "code",
   "execution_count": 78,
   "id": "d4db08cd",
   "metadata": {},
   "outputs": [
    {
     "ename": "SyntaxError",
     "evalue": "invalid syntax (524614763.py, line 1)",
     "output_type": "error",
     "traceback": [
      "\u001b[1;36m  Input \u001b[1;32mIn [78]\u001b[1;36m\u001b[0m\n\u001b[1;33m    if : 0\u001b[0m\n\u001b[1;37m       ^\u001b[0m\n\u001b[1;31mSyntaxError\u001b[0m\u001b[1;31m:\u001b[0m invalid syntax\n"
     ]
    }
   ],
   "source": [
    "if : 0\n",
    "    print(\"작동함\")"
   ]
  },
  {
   "cell_type": "code",
   "execution_count": 82,
   "id": "036b63e3",
   "metadata": {},
   "outputs": [
    {
     "data": {
      "text/plain": [
       "False"
      ]
     },
     "execution_count": 82,
     "metadata": {},
     "output_type": "execute_result"
    }
   ],
   "source": [
    "# 두 값이 같은지 비교 : ==\n",
    "#(결과) 두 값이 같으면 true, 두 값이 다르면 false\n",
    "0 == 0.0\n",
    "type(0) == type(0.0) #자료형이 다르지만 0은 예외적으로 허용\n"
   ]
  },
  {
   "cell_type": "code",
   "execution_count": 84,
   "id": "bca85439",
   "metadata": {},
   "outputs": [
    {
     "data": {
      "text/plain": [
       "True"
      ]
     },
     "execution_count": 84,
     "metadata": {},
     "output_type": "execute_result"
    }
   ],
   "source": [
    "# 두 값이 다른지 비교 : !=\n",
    "# 두 값이 다르면 true, 같으면 false\n",
    "type(0) != type(0.0)"
   ]
  },
  {
   "cell_type": "code",
   "execution_count": 86,
   "id": "161fd266",
   "metadata": {},
   "outputs": [
    {
     "data": {
      "text/plain": [
       "True"
      ]
     },
     "execution_count": 86,
     "metadata": {},
     "output_type": "execute_result"
    }
   ],
   "source": [
    "# 두 값의 크기를 비교 : <=, >=, <, >\n",
    "10 >=3"
   ]
  },
  {
   "cell_type": "markdown",
   "id": "24d848ab",
   "metadata": {},
   "source": [
    "### 3) 논리 연산자\n",
    "    - 여러 개의 조건식을 활용하기 위한 명령어\n",
    "    - bool type 결과 반환 : True, False"
   ]
  },
  {
   "cell_type": "code",
   "execution_count": 91,
   "id": "aba7f786",
   "metadata": {},
   "outputs": [
    {
     "data": {
      "text/plain": [
       "True"
      ]
     },
     "execution_count": 91,
     "metadata": {},
     "output_type": "execute_result"
    }
   ],
   "source": [
    "# and 연산자 : 조건식 1 and 조건식2\n",
    "# 조건식 1과 조건식 2가 모두 true라면 최종 결과 true\n",
    "# 둘 중 하나만 false여도 결과는 false\n",
    "# 자바의 &&\n",
    "10 < 12 # True\n",
    "0 > -3 #True\n",
    "\n",
    "10 < 12 and 0 > -3"
   ]
  },
  {
   "cell_type": "code",
   "execution_count": 93,
   "id": "141551d5",
   "metadata": {},
   "outputs": [
    {
     "data": {
      "text/plain": [
       "True"
      ]
     },
     "execution_count": 93,
     "metadata": {},
     "output_type": "execute_result"
    }
   ],
   "source": [
    "# 숫자 0 은 False, 이외의 모든 숫자는 True입니다.\n",
    "# bool(자료)는 자료의 참 거짓을 판단해줍니다.\n",
    "bool(-5)"
   ]
  },
  {
   "cell_type": "code",
   "execution_count": 96,
   "id": "38f463c2",
   "metadata": {},
   "outputs": [
    {
     "data": {
      "text/plain": [
       "False"
      ]
     },
     "execution_count": 96,
     "metadata": {},
     "output_type": "execute_result"
    }
   ],
   "source": [
    "# 0이 False로 사용되는 예시\n",
    "bool(0and 10 >3) "
   ]
  },
  {
   "cell_type": "code",
   "execution_count": 98,
   "id": "7be44c26",
   "metadata": {},
   "outputs": [
    {
     "data": {
      "text/plain": [
       "True"
      ]
     },
     "execution_count": 98,
     "metadata": {},
     "output_type": "execute_result"
    }
   ],
   "source": [
    "# or 연산자\n",
    "# 조건식 1 or 조건식2 둘중하나만 참이면 True\n",
    "# ||와 같음\n",
    "bool ( 0 or 10 > 3)"
   ]
  },
  {
   "cell_type": "markdown",
   "id": "45f2a7a5",
   "metadata": {},
   "source": [
    "#### 4 할당연산자\n",
    "\n",
    "- 변수 할당\n",
    "- 누적 연산"
   ]
  },
  {
   "cell_type": "code",
   "execution_count": 101,
   "id": "26580232",
   "metadata": {},
   "outputs": [],
   "source": [
    "# 변수명( 왼쪽)에 변수값(오른쪽)을 할당/선언/저장/대입 : =\n",
    "x = 10"
   ]
  },
  {
   "cell_type": "code",
   "execution_count": 103,
   "id": "09f31a97",
   "metadata": {},
   "outputs": [
    {
     "data": {
      "text/plain": [
       "10"
      ]
     },
     "execution_count": 103,
     "metadata": {},
     "output_type": "execute_result"
    }
   ],
   "source": [
    "# 숫자형의 누적합 +=\n",
    "# result라는 변수에 누적합을 저장하기\n",
    "result = 0\n",
    "# result에 10만큼 더해서 저장하기 위해 원래 사용했던 코드\n",
    "#result = result + x\n",
    "#하지만 파이썬에서는\n",
    "result += x\n",
    "\n",
    "result"
   ]
  },
  {
   "cell_type": "code",
   "execution_count": 113,
   "id": "75555164",
   "metadata": {},
   "outputs": [
    {
     "name": "stdout",
     "output_type": "stream",
     "text": [
      "55\n"
     ]
    }
   ],
   "source": [
    "# 1~10까지 누적합을 구해보겠습니다.\n",
    "\n",
    "result = 0\n",
    "for i in range(1, 11) :\n",
    "    #i 변수가 1~10까지 반복됨\n",
    "    # 여기에 누적합 구문을 작성해주세요\n",
    "    result += i \n",
    "    \n",
    "print(result)  "
   ]
  },
  {
   "cell_type": "code",
   "execution_count": 116,
   "id": "23ae6d1a",
   "metadata": {},
   "outputs": [
    {
     "name": "stdout",
     "output_type": "stream",
     "text": [
      "440\n"
     ]
    }
   ],
   "source": [
    "# 누적곱\n",
    "result *= 2\n",
    "\n",
    "print(result)"
   ]
  },
  {
   "cell_type": "markdown",
   "id": "857306f1",
   "metadata": {},
   "source": [
    "### 응용문제 : 홍길동의 시험 성적 평균을 구하세요\n",
    "\n",
    "* 변수를 사용해서 과목 평균을 구합니다.\n",
    "* 출력 양식 : <br>\n"
   ]
  },
  {
   "cell_type": "code",
   "execution_count": 118,
   "id": "863a17be",
   "metadata": {},
   "outputs": [],
   "source": [
    "eng = 80\n",
    "kor = 72\n",
    "math = 90\n",
    "social = 66"
   ]
  },
  {
   "cell_type": "code",
   "execution_count": 123,
   "id": "2a66d1bb",
   "metadata": {},
   "outputs": [
    {
     "name": "stdout",
     "output_type": "stream",
     "text": [
      "308\n"
     ]
    }
   ],
   "source": [
    "result = 0\n",
    "\n",
    "result += eng + kor + math + social\n",
    "\n",
    "print(result)"
   ]
  },
  {
   "cell_type": "code",
   "execution_count": 124,
   "id": "cf8f6020",
   "metadata": {},
   "outputs": [
    {
     "data": {
      "text/plain": [
       "77"
      ]
     },
     "execution_count": 124,
     "metadata": {},
     "output_type": "execute_result"
    }
   ],
   "source": [
    "result // 4"
   ]
  },
  {
   "cell_type": "markdown",
   "id": "f31412a5",
   "metadata": {},
   "source": [
    "### 2. 반지름이 7인 원의 넓이를 구해주세요\n"
   ]
  },
  {
   "cell_type": "code",
   "execution_count": 130,
   "id": "15e6c505",
   "metadata": {},
   "outputs": [],
   "source": [
    "# 반지름\n",
    "r = 7"
   ]
  },
  {
   "cell_type": "code",
   "execution_count": 128,
   "id": "c9a0d0f5",
   "metadata": {},
   "outputs": [],
   "source": [
    "# 파이\n",
    "pi = 3.14"
   ]
  },
  {
   "cell_type": "code",
   "execution_count": 132,
   "id": "6f7252b6",
   "metadata": {},
   "outputs": [
    {
     "name": "stdout",
     "output_type": "stream",
     "text": [
      "153.86\n"
     ]
    }
   ],
   "source": [
    "circle = (r**2) * pi\n",
    "\n",
    "print(circle)"
   ]
  },
  {
   "cell_type": "markdown",
   "id": "1c6f299b",
   "metadata": {},
   "source": [
    "### 3. 임의의 변수에 원하는 숫자를 집어넣고 그 수의 제곱근과 세제곱 값을 출력합니다."
   ]
  },
  {
   "cell_type": "code",
   "execution_count": 134,
   "id": "9383503d",
   "metadata": {},
   "outputs": [],
   "source": [
    "i = 726"
   ]
  },
  {
   "cell_type": "code",
   "execution_count": 138,
   "id": "b41a5721",
   "metadata": {},
   "outputs": [
    {
     "name": "stdout",
     "output_type": "stream",
     "text": [
      "제곱근 26.94438717061496\n",
      "세제곱근 8.98763734707568\n"
     ]
    }
   ],
   "source": [
    "# 출력\n",
    "print(\"제곱근\", i **(1/2))\n",
    "print(\"세제곱근\", i ** (1/3))"
   ]
  },
  {
   "cell_type": "code",
   "execution_count": 137,
   "id": "e7990ba4",
   "metadata": {},
   "outputs": [
    {
     "name": "stdout",
     "output_type": "stream",
     "text": [
      "382657176 26.94438717061496\n"
     ]
    }
   ],
   "source": [
    "print(sejegob, jsgobgeun)"
   ]
  }
 ],
 "metadata": {
  "kernelspec": {
   "display_name": "Python 3 (ipykernel)",
   "language": "python",
   "name": "python3"
  },
  "language_info": {
   "codemirror_mode": {
    "name": "ipython",
    "version": 3
   },
   "file_extension": ".py",
   "mimetype": "text/x-python",
   "name": "python",
   "nbconvert_exporter": "python",
   "pygments_lexer": "ipython3",
   "version": "3.9.12"
  }
 },
 "nbformat": 4,
 "nbformat_minor": 5
}
