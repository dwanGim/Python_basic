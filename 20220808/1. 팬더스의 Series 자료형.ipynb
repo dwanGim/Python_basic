{
 "cells": [
  {
   "cell_type": "markdown",
   "id": "a575223e",
   "metadata": {},
   "source": [
    "### Pandas\n",
    "\n",
    "- 데이터 처리 및 분석을 위한 라이브러리\n",
    "- 대용량 데이터를 안정적이면서도 간편하게 처리\n",
    "- 서로 다른 데이터타입으로 열을 구성할 수 있음 <br>\n",
    "(참고) Numpy : 전체 배열 원소를 동일한 타입으로 제한\n",
    "- 주요 기능\n",
    "    - 데이터 입출력 : csv, excel, RDB, JSON 등 다양한 포맷의 데이터를 효율적으로 처리할 수 있는 형식을 사용\n",
    "    - 데이터 가공 : 분리, 결합, 계층, 피봇 등\n",
    "    - 통계 분석 처리\n",
    "\n",
    "#### 자료형\n",
    "- Series <br>\n",
    "\n",
    "    - 1차원 배열과 유사한 자료형\n",
    "    - 색인(index) : 행 번호\n",
    "        - 각각의 데이터에 부여하는 속성으로 기본값은 0부터 1씩 증가하는 숫자 지정\n",
    "        - index 파라미터를 통해 새로운 값으로 변경 가능\n",
    "        - 리스트, 튜플 타입으로 새로운 값을 전달해야하며 다차원 자료형은 사용할 수 없음\n",
    "        - 전달하는 색인의 개수와 데이터의 개수가 일치해야 함\n",
    "    - 각각의 색인과 데이터가 매핑되어 있으므로 dictionary 자료형과 유사\n",
    "    - 여러 가지 데이터 타입 사용 가능\n",
    "\n",
    "<img src=\"img/series_example.png\" width=\"250\" align=\"center\">"
   ]
  },
  {
   "cell_type": "code",
   "execution_count": 1,
   "id": "a4899c7e",
   "metadata": {},
   "outputs": [],
   "source": [
    "# pandas 라이브러리 및 Series, DataFrame 네임스페이스 불러오기\n",
    "import pandas as pd"
   ]
  },
  {
   "cell_type": "code",
   "execution_count": 2,
   "id": "43fdaec2",
   "metadata": {},
   "outputs": [
    {
     "name": "stderr",
     "output_type": "stream",
     "text": [
      "C:\\Users\\ict03-00\\AppData\\Local\\Temp\\ipykernel_22892\\1418016953.py:2: FutureWarning: The default dtype for empty Series will be 'object' instead of 'float64' in a future version. Specify a dtype explicitly to silence this warning.\n",
      "  pd.Series()\n"
     ]
    },
    {
     "data": {
      "text/plain": [
       "Series([], dtype: float64)"
      ]
     },
     "execution_count": 2,
     "metadata": {},
     "output_type": "execute_result"
    }
   ],
   "source": [
    "# Series 생성\n",
    "pd.Series()"
   ]
  },
  {
   "cell_type": "markdown",
   "id": "f692cdc6",
   "metadata": {},
   "source": [
    "### Series 생성\n",
    "\n",
    "- 하나의 값(숫자, 문자) 또는 자료형(리스트, 튜플, np 배열)으로 데이터 전달\n",
    "\n",
    "### Series 속성\n",
    "\n",
    "- 속성은 소괄호를 붙이지 않음\n",
    "- index : series 객체의 인덱스 배열을 반환\n",
    "- values : series 객체의 데이터(값) 배열을 반환\n",
    "- name : series 객체의 이름을 반환 \n",
    "- dtype : series 객체의 데이터 타입을 반환\n",
    "- size : series 객체의 데이터 개수(길이)를 반환\n",
    "- shape : series 객체의 구조(행, 열, 차원)를 반환"
   ]
  },
  {
   "cell_type": "code",
   "execution_count": 3,
   "id": "24bb0ef9",
   "metadata": {},
   "outputs": [
    {
     "data": {
      "text/plain": [
       "0    10\n",
       "dtype: int64"
      ]
     },
     "execution_count": 3,
     "metadata": {},
     "output_type": "execute_result"
    }
   ],
   "source": [
    "# 숫자 10을 데이터로 가지고 있는 Series\n",
    "# 결과 해석\n",
    "# 왼쪽 0 : 자동으로 생성되는 기본 인덱스번호(0번부터 시작)\n",
    "# 오른쪽 10 : 입력한 데이터 값\n",
    "s1 = pd.Series(10)\n",
    "s1"
   ]
  },
  {
   "cell_type": "code",
   "execution_count": 4,
   "id": "9eceea5d",
   "metadata": {},
   "outputs": [
    {
     "data": {
      "text/plain": [
       "array([10], dtype=int64)"
      ]
     },
     "execution_count": 4,
     "metadata": {},
     "output_type": "execute_result"
    }
   ],
   "source": [
    "# 데이터 내부에 저장된 값 확인\n",
    "s1.values"
   ]
  },
  {
   "cell_type": "code",
   "execution_count": 5,
   "id": "7903b82f",
   "metadata": {},
   "outputs": [
    {
     "data": {
      "text/plain": [
       "RangeIndex(start=0, stop=1, step=1)"
      ]
     },
     "execution_count": 5,
     "metadata": {},
     "output_type": "execute_result"
    }
   ],
   "source": [
    "# 인덱스 번호 확인\n",
    "# RangeIndex : 기본적으로 부여되는 인덱스번호가 사용되고 있을때 지정되는 자료형\n",
    "s1.index"
   ]
  },
  {
   "cell_type": "code",
   "execution_count": 6,
   "id": "baeb62aa",
   "metadata": {},
   "outputs": [
    {
     "data": {
      "text/plain": [
       "0    abc\n",
       "dtype: object"
      ]
     },
     "execution_count": 6,
     "metadata": {},
     "output_type": "execute_result"
    }
   ],
   "source": [
    "# 문자\n",
    "s2 = pd.Series('abc')\n",
    "s2"
   ]
  },
  {
   "cell_type": "code",
   "execution_count": 7,
   "id": "45041c23",
   "metadata": {},
   "outputs": [
    {
     "data": {
      "text/plain": [
       "RangeIndex(start=0, stop=1, step=1)"
      ]
     },
     "execution_count": 7,
     "metadata": {},
     "output_type": "execute_result"
    }
   ],
   "source": [
    "# 인덱스 확인\n",
    "s2.index"
   ]
  },
  {
   "cell_type": "code",
   "execution_count": 8,
   "id": "fbc630f5",
   "metadata": {},
   "outputs": [
    {
     "data": {
      "text/plain": [
       "0    10\n",
       "1    20\n",
       "2    30\n",
       "dtype: int64"
      ]
     },
     "execution_count": 8,
     "metadata": {},
     "output_type": "execute_result"
    }
   ],
   "source": [
    "# 리스트 자료형\n",
    "s3 = pd.Series([10, 20, 30])\n",
    "s3"
   ]
  },
  {
   "cell_type": "code",
   "execution_count": 9,
   "id": "81ca11a1",
   "metadata": {},
   "outputs": [
    {
     "data": {
      "text/plain": [
       "0         10.3\n",
       "1         test\n",
       "2          200\n",
       "3    [1, 2, 3]\n",
       "dtype: object"
      ]
     },
     "execution_count": 9,
     "metadata": {},
     "output_type": "execute_result"
    }
   ],
   "source": [
    "# 데이터타입이 서로 다른 리스트 자료형\n",
    "s4 = pd.Series([10.3, 'test', 200, [1, 2, 3]])\n",
    "s4"
   ]
  },
  {
   "cell_type": "code",
   "execution_count": 10,
   "id": "fafe146e",
   "metadata": {},
   "outputs": [
    {
     "data": {
      "text/plain": [
       "array([10.3, 'test', 200, list([1, 2, 3])], dtype=object)"
      ]
     },
     "execution_count": 10,
     "metadata": {},
     "output_type": "execute_result"
    }
   ],
   "source": [
    "# 데이터 확인\n",
    "s4.values"
   ]
  },
  {
   "cell_type": "code",
   "execution_count": 11,
   "id": "aa48b2a1",
   "metadata": {},
   "outputs": [
    {
     "data": {
      "text/plain": [
       "RangeIndex(start=0, stop=4, step=1)"
      ]
     },
     "execution_count": 11,
     "metadata": {},
     "output_type": "execute_result"
    }
   ],
   "source": [
    "# 인덱스 확인\n",
    "s4.index"
   ]
  },
  {
   "cell_type": "code",
   "execution_count": 12,
   "id": "fc4031bf",
   "metadata": {},
   "outputs": [
    {
     "data": {
      "text/plain": [
       "0    1.0\n",
       "1    2.0\n",
       "2    3.0\n",
       "3    4.0\n",
       "4    5.0\n",
       "dtype: float64"
      ]
     },
     "execution_count": 12,
     "metadata": {},
     "output_type": "execute_result"
    }
   ],
   "source": [
    "# 튜플도 리스트처럼 1차원 자료로 주면 각각 내부자료를 풀어서 집어넣습니다.\n",
    "s5 = pd.Series((1, 2, 3, 4, 5.0))\n",
    "s5"
   ]
  },
  {
   "cell_type": "code",
   "execution_count": 13,
   "id": "3e1c1c95",
   "metadata": {},
   "outputs": [
    {
     "data": {
      "text/plain": [
       "array([1., 2., 3., 4., 5.])"
      ]
     },
     "execution_count": 13,
     "metadata": {},
     "output_type": "execute_result"
    }
   ],
   "source": [
    "# 데이터 확인\n",
    "s5.values"
   ]
  },
  {
   "cell_type": "code",
   "execution_count": 14,
   "id": "e7a7a244",
   "metadata": {},
   "outputs": [
    {
     "data": {
      "text/plain": [
       "RangeIndex(start=0, stop=5, step=1)"
      ]
     },
     "execution_count": 14,
     "metadata": {},
     "output_type": "execute_result"
    }
   ],
   "source": [
    "# 인덱스 확인\n",
    "s5.index"
   ]
  },
  {
   "cell_type": "code",
   "execution_count": 15,
   "id": "6ec82e0d",
   "metadata": {},
   "outputs": [
    {
     "data": {
      "text/plain": [
       "a    10\n",
       "b    20\n",
       "c    30\n",
       "dtype: int64"
      ]
     },
     "execution_count": 15,
     "metadata": {},
     "output_type": "execute_result"
    }
   ],
   "source": [
    "# 딕셔너리 자료형(자동으로 라벨 부여, key가 index, value가 실제 데이터)\n",
    "s6 = pd.Series({'a':10, 'b':20, 'c':30})\n",
    "s6"
   ]
  },
  {
   "cell_type": "code",
   "execution_count": 16,
   "id": "44849116",
   "metadata": {},
   "outputs": [
    {
     "data": {
      "text/plain": [
       "RangeIndex(start=0, stop=5, step=1)"
      ]
     },
     "execution_count": 16,
     "metadata": {},
     "output_type": "execute_result"
    }
   ],
   "source": [
    "# 인덱스 새롭게 지정하기\n",
    "# 인덱스 속성(길이)를 참조하여 리스트, 튜플 타입으로 전달\n",
    "# 라벨 인덱스가 없던 경우 => 새롭게 라벨 인덱스 부여\n",
    "# 라벨 인덱스가 있던 경우 => 기존에 있던 라벨 인덱스에 덮어씌우기\n",
    "s5.index"
   ]
  },
  {
   "cell_type": "code",
   "execution_count": 17,
   "id": "9ede7a22",
   "metadata": {},
   "outputs": [],
   "source": [
    "# 인덱스를 새롭게 지정할때는 RangeIndex이 범위만큼 길이를 가지는 리스트를 대입해줍니다.\n",
    "# 행 개수(데이터 개수)와 동일한 길이의 리스트를 전달해야 합니다.\n",
    "s5.index = [2020, 2021, 2022, 2023, 2024]"
   ]
  },
  {
   "cell_type": "code",
   "execution_count": 18,
   "id": "98612f45",
   "metadata": {},
   "outputs": [
    {
     "data": {
      "text/plain": [
       "2020    1.0\n",
       "2021    2.0\n",
       "2022    3.0\n",
       "2023    4.0\n",
       "2024    5.0\n",
       "dtype: float64"
      ]
     },
     "execution_count": 18,
     "metadata": {},
     "output_type": "execute_result"
    }
   ],
   "source": [
    "s5"
   ]
  },
  {
   "cell_type": "code",
   "execution_count": 19,
   "id": "2d9b2888",
   "metadata": {},
   "outputs": [
    {
     "data": {
      "text/plain": [
       "Int64Index([2020, 2021, 2022, 2023, 2024], dtype='int64')"
      ]
     },
     "execution_count": 19,
     "metadata": {},
     "output_type": "execute_result"
    }
   ],
   "source": [
    "# 인덱스를 지정하여 객체 생성\n",
    "# 인덱스 객체에 대해서 아이템 참조는 가능\n",
    "s5.index"
   ]
  },
  {
   "cell_type": "code",
   "execution_count": 20,
   "id": "ccc6a75a",
   "metadata": {},
   "outputs": [
    {
     "ename": "TypeError",
     "evalue": "Index does not support mutable operations",
     "output_type": "error",
     "traceback": [
      "\u001b[1;31m---------------------------------------------------------------------------\u001b[0m",
      "\u001b[1;31mTypeError\u001b[0m                                 Traceback (most recent call last)",
      "Input \u001b[1;32mIn [20]\u001b[0m, in \u001b[0;36m<cell line: 2>\u001b[1;34m()\u001b[0m\n\u001b[0;32m      1\u001b[0m \u001b[38;5;66;03m# 인덱스 객체 내부의 단일 라벨 인덱스만 하나 딱 잘라서 변경하는것은 불가능\u001b[39;00m\n\u001b[1;32m----> 2\u001b[0m s5\u001b[38;5;241m.\u001b[39mindex[\u001b[38;5;241m-\u001b[39m\u001b[38;5;241m1\u001b[39m] \u001b[38;5;241m=\u001b[39m \u001b[38;5;241m2025\u001b[39m\n",
      "File \u001b[1;32mC:\\ProgramData\\Anaconda3\\lib\\site-packages\\pandas\\core\\indexes\\base.py:5021\u001b[0m, in \u001b[0;36mIndex.__setitem__\u001b[1;34m(self, key, value)\u001b[0m\n\u001b[0;32m   5019\u001b[0m \u001b[38;5;129m@final\u001b[39m\n\u001b[0;32m   5020\u001b[0m \u001b[38;5;28;01mdef\u001b[39;00m \u001b[38;5;21m__setitem__\u001b[39m(\u001b[38;5;28mself\u001b[39m, key, value):\n\u001b[1;32m-> 5021\u001b[0m     \u001b[38;5;28;01mraise\u001b[39;00m \u001b[38;5;167;01mTypeError\u001b[39;00m(\u001b[38;5;124m\"\u001b[39m\u001b[38;5;124mIndex does not support mutable operations\u001b[39m\u001b[38;5;124m\"\u001b[39m)\n",
      "\u001b[1;31mTypeError\u001b[0m: Index does not support mutable operations"
     ]
    }
   ],
   "source": [
    "# 인덱스 객체 내부의 단일 라벨 인덱스만 하나 딱 잘라서 변경하는것은 불가능\n",
    "s5.index[-1] = 2025"
   ]
  },
  {
   "cell_type": "code",
   "execution_count": 21,
   "id": "8952940f",
   "metadata": {},
   "outputs": [
    {
     "data": {
      "text/plain": [
       "2020    1.0\n",
       "2021    2.0\n",
       "2022    3.0\n",
       "2023    4.0\n",
       "2025    5.0\n",
       "dtype: float64"
      ]
     },
     "execution_count": 21,
     "metadata": {},
     "output_type": "execute_result"
    }
   ],
   "source": [
    "# 인덱스 라벨링 수정시 바꿀 부분만 변경한 전체 인덱스 자료를 대입해야합니다.\n",
    "s5.index=[2020, 2021, 2022, 2023, 2025]\n",
    "s5"
   ]
  },
  {
   "cell_type": "code",
   "execution_count": 22,
   "id": "717e94df",
   "metadata": {},
   "outputs": [
    {
     "data": {
      "text/plain": [
       "mon    10\n",
       "tue    20\n",
       "wed    30\n",
       "thu    40\n",
       "dtype: int64"
      ]
     },
     "execution_count": 22,
     "metadata": {},
     "output_type": "execute_result"
    }
   ],
   "source": [
    "# Series 함수의 index 파라미터를 이용해 생성과 동시에 인덱스 라벨 부여 가능\n",
    "# pd.Series(data, index=[......])\n",
    "s7 = pd.Series([10, 20, 30, 40], index=['mon', 'tue', 'wed', 'thu'])\n",
    "s7"
   ]
  },
  {
   "cell_type": "code",
   "execution_count": 23,
   "id": "234f9f73",
   "metadata": {},
   "outputs": [
    {
     "data": {
      "text/plain": [
       "array([10, 20, 30, 40], dtype=int64)"
      ]
     },
     "execution_count": 23,
     "metadata": {},
     "output_type": "execute_result"
    }
   ],
   "source": [
    "# 데이터 확인\n",
    "s7.values"
   ]
  },
  {
   "cell_type": "code",
   "execution_count": 24,
   "id": "6e53172f",
   "metadata": {},
   "outputs": [
    {
     "data": {
      "text/plain": [
       "Index(['mon', 'tue', 'wed', 'thu'], dtype='object')"
      ]
     },
     "execution_count": 24,
     "metadata": {},
     "output_type": "execute_result"
    }
   ],
   "source": [
    "# 인덱스 확인\n",
    "s7.index"
   ]
  },
  {
   "cell_type": "markdown",
   "id": "3c64d037",
   "metadata": {},
   "source": [
    "### dictionary 자료형과 유사한 Series 자료형"
   ]
  },
  {
   "cell_type": "code",
   "execution_count": 25,
   "id": "778aeebe",
   "metadata": {},
   "outputs": [
    {
     "name": "stdout",
     "output_type": "stream",
     "text": [
      "{'서울': 100, '경기': 200, '강원': 300, '부산': 400}\n",
      "서울    100\n",
      "경기    200\n",
      "강원    300\n",
      "부산    400\n",
      "dtype: int64\n"
     ]
    }
   ],
   "source": [
    "# dictionary 자료형으로 Series 생성\n",
    "data = {'서울':100, '경기':200, '강원':300, '부산':400}\n",
    "sample = pd.Series(data)\n",
    "print(data)\n",
    "print(sample)"
   ]
  },
  {
   "cell_type": "code",
   "execution_count": 26,
   "id": "d861bc77",
   "metadata": {},
   "outputs": [
    {
     "name": "stdout",
     "output_type": "stream",
     "text": [
      "False\n",
      "False\n"
     ]
    }
   ],
   "source": [
    "# Series 객체와 in 연산자\n",
    "# dicionary와 유사 : in 연산자를 사용ㅎ 내부 요소 검사시\n",
    "# key값에 해당하는 라벨을 이용해 해당 요소가 있는지 없는지 여부를 True, False로 출력\n",
    "print(100 in data)\n",
    "print(100 in sample)"
   ]
  },
  {
   "cell_type": "code",
   "execution_count": 27,
   "id": "d43ddabd",
   "metadata": {},
   "outputs": [
    {
     "name": "stdout",
     "output_type": "stream",
     "text": [
      "서울\n",
      "경기\n",
      "강원\n",
      "부산\n",
      "-----------------------\n",
      "100\n",
      "200\n",
      "300\n",
      "400\n"
     ]
    }
   ],
   "source": [
    "# for문에서 in 연산자로 접근 : Series의 value값을 참조\n",
    "for key in data:\n",
    "    print(key)\n",
    "print(\"-----------------------\")\n",
    "for index in sample.values:\n",
    "    print(index)"
   ]
  },
  {
   "cell_type": "code",
   "execution_count": 28,
   "id": "6781bd5f",
   "metadata": {},
   "outputs": [
    {
     "data": {
      "text/plain": [
       "서울    100\n",
       "경기    200\n",
       "강원    300\n",
       "제주    400\n",
       "dtype: int64"
      ]
     },
     "execution_count": 28,
     "metadata": {},
     "output_type": "execute_result"
    }
   ],
   "source": [
    "# sample의 인덱스 : 서울, 경기, 강원, 부산 =>  서울, 경기, 강원, 제주로 변경해주세요.\n",
    "# 지정한 index 기준으로 Series 생성\n",
    "# 사용하는 인덱스에 없는 값은 Series에 NaN으로 저장\n",
    "# NaN : Not a Number(결측치) -> numpy에서 해당 위치에 값이 없을을 나타낼떄 사용하는 자료\n",
    "# None :파이썬 기본자료형에서 null처럼 쓰이는 자료\n",
    "sample.index = ['서울', '경기', '강원', '제주']\n",
    "sample"
   ]
  },
  {
   "cell_type": "markdown",
   "id": "7008fcf4",
   "metadata": {},
   "source": [
    "### 인덱싱(Indexing) \n",
    "\n",
    "- 하나의 특정 값을 선택하거나 변경\n",
    "- 참조하는 인덱스 : 기본 숫자 인덱스, 라벨 인덱스\n",
    "- 새로운 인덱스를 설정해도 기본 숫자 인덱스 사용 가능"
   ]
  },
  {
   "cell_type": "code",
   "execution_count": 29,
   "id": "809d707a",
   "metadata": {},
   "outputs": [
    {
     "data": {
      "text/plain": [
       "a    10\n",
       "b    20\n",
       "c    30\n",
       "dtype: int64"
      ]
     },
     "execution_count": 29,
     "metadata": {},
     "output_type": "execute_result"
    }
   ],
   "source": [
    "s6_data = {'a':10, 'b':20, 'c':30}\n",
    "s6 = pd.Series(s6_data)\n",
    "s6"
   ]
  },
  {
   "cell_type": "code",
   "execution_count": 31,
   "id": "803a8ce8",
   "metadata": {},
   "outputs": [
    {
     "name": "stdout",
     "output_type": "stream",
     "text": [
      "a\n",
      "10\n"
     ]
    }
   ],
   "source": [
    "# Series s6의 첫 번째 데이터 => 인덱스 0으로 조회\n",
    "# Series객체[인덱스번호 or 라벨숫자]\n",
    "print(s6.index[0]) # 인덱스의 0번째는 'a'\n",
    "print(s6[0]) # s6 자체 0번째 자료는 10"
   ]
  },
  {
   "cell_type": "code",
   "execution_count": 32,
   "id": "f775702c",
   "metadata": {},
   "outputs": [
    {
     "data": {
      "text/plain": [
       "10"
      ]
     },
     "execution_count": 32,
     "metadata": {},
     "output_type": "execute_result"
    }
   ],
   "source": [
    "# Series s6의 인덱스 a에 매칭된 데이터 조회\n",
    "s6['a']"
   ]
  },
  {
   "cell_type": "code",
   "execution_count": 33,
   "id": "923e9db6",
   "metadata": {},
   "outputs": [
    {
     "data": {
      "text/plain": [
       "mon     10\n",
       "tue    700\n",
       "wed     30\n",
       "thu     40\n",
       "dtype: int64"
      ]
     },
     "execution_count": 33,
     "metadata": {},
     "output_type": "execute_result"
    }
   ],
   "source": [
    "# Series s7의 인덱스 tue에 해당하는 데이터 값을 변경\n",
    "# 인덱스(라벨링)은 개별적으로 하나하나 변경 불가능\n",
    "# 인덱스에 매칭된 데이터는 개별 데이터별 변경 가능\n",
    "s7['tue'] = 700\n",
    "s7"
   ]
  },
  {
   "cell_type": "code",
   "execution_count": 35,
   "id": "1033d5e4",
   "metadata": {},
   "outputs": [
    {
     "data": {
      "text/plain": [
       "wed    30\n",
       "mon    10\n",
       "dtype: int64"
      ]
     },
     "execution_count": 35,
     "metadata": {},
     "output_type": "execute_result"
    }
   ],
   "source": [
    "# 시리즈에서 원하는 로우(행) 만 조회하기 : 조회할 로우명을 리스트로 묶어서 전달\n",
    "# Series s7에서 wed, mon 라벨 조회\n",
    "# 이중 리스트를 사용해서 조회해야 합니다 -> s7['wed', 'mon'] 으로 조회시 에러 발생\n",
    "s7[['wed', 'mon']]"
   ]
  },
  {
   "cell_type": "markdown",
   "id": "6cc158bc",
   "metadata": {},
   "source": [
    "### 슬라이싱(Slicing) \n",
    "\n",
    "- Series객체[시작인덱스 : 끝인덱스 : 간격]\n",
    "- 특정 범위의 값을 선택하거나 변경\n",
    "- 기본 숫자 인덱스 또는 새로운 인덱스 모두 사용 가능\n",
    "- 기본 숫자 인덱스를 사용해서 슬라이싱 할 때는 끝 인덱스 미포함\n",
    "- 라벨 인덱스를 사용해서 슬라이싱 할 때 끝 인덱스까지 모두 포함"
   ]
  },
  {
   "cell_type": "code",
   "execution_count": 36,
   "id": "8d46b6d6",
   "metadata": {},
   "outputs": [
    {
     "data": {
      "text/plain": [
       "a    10\n",
       "b    20\n",
       "c    30\n",
       "d    40\n",
       "e    50\n",
       "dtype: int64"
      ]
     },
     "execution_count": 36,
     "metadata": {},
     "output_type": "execute_result"
    }
   ],
   "source": [
    "# 인덱스 0~2(포함) 까지 조회\n",
    "s1 = pd.Series([10, 20, 30, 40, 50], index=list('abcde'))\n",
    "s1"
   ]
  },
  {
   "cell_type": "code",
   "execution_count": 37,
   "id": "ab609614",
   "metadata": {},
   "outputs": [
    {
     "data": {
      "text/plain": [
       "a    10\n",
       "b    20\n",
       "dtype: int64"
      ]
     },
     "execution_count": 37,
     "metadata": {},
     "output_type": "execute_result"
    }
   ],
   "source": [
    "# RangeIndex = 0, 1\n",
    "s1[0 : 2]"
   ]
  },
  {
   "cell_type": "code",
   "execution_count": 38,
   "id": "59a3f4fa",
   "metadata": {},
   "outputs": [
    {
     "data": {
      "text/plain": [
       "a    10\n",
       "b    20\n",
       "c    30\n",
       "dtype: int64"
      ]
     },
     "execution_count": 38,
     "metadata": {},
     "output_type": "execute_result"
    }
   ],
   "source": [
    "# 라벨 'a'에서 라벨 'c'(c도 포함시켜서 해주세요)\n",
    "s1['a':'c']"
   ]
  },
  {
   "cell_type": "code",
   "execution_count": 39,
   "id": "1099d4bb",
   "metadata": {},
   "outputs": [
    {
     "data": {
      "text/plain": [
       "a    10\n",
       "c    30\n",
       "dtype: int64"
      ]
     },
     "execution_count": 39,
     "metadata": {},
     "output_type": "execute_result"
    }
   ],
   "source": [
    "# 0 ~ 3 범위를 2개 간격으로 인덱싱\n",
    "s1[0:4:2]"
   ]
  },
  {
   "cell_type": "code",
   "execution_count": 40,
   "id": "a549fcd3",
   "metadata": {},
   "outputs": [
    {
     "data": {
      "text/plain": [
       "b    20\n",
       "d    40\n",
       "dtype: int64"
      ]
     },
     "execution_count": 40,
     "metadata": {},
     "output_type": "execute_result"
    }
   ],
   "source": [
    "# 인덱스 'b'에서 인덱스 'd'(포함) 까지 2개 간격으로 조회\n",
    "s1['b':'d':2]"
   ]
  },
  {
   "cell_type": "markdown",
   "id": "d6d91920",
   "metadata": {},
   "source": [
    "### 조건 색인(Boolean Indexing)\n",
    "\n",
    "- 객체에 벡터와 스칼라 연산을 적용하여 True인 데이터만 반환\n",
    "\n",
    "<img src=\"img/conditional_index.png\" width=\"700\" align=\"center\">"
   ]
  },
  {
   "cell_type": "code",
   "execution_count": 41,
   "id": "e2a156df",
   "metadata": {},
   "outputs": [
    {
     "data": {
      "text/plain": [
       "a    10\n",
       "b    -3\n",
       "c    14\n",
       "d    70\n",
       "e   -44\n",
       "f   -18\n",
       "g    -5\n",
       "h     1\n",
       "i    -2\n",
       "j    12\n",
       "k     5\n",
       "dtype: int64"
      ]
     },
     "execution_count": 41,
     "metadata": {},
     "output_type": "execute_result"
    }
   ],
   "source": [
    "# 양수와 음수 데이터를 저장할고 있는 Series 생성\n",
    "s2 = pd.Series([10, -3, 14, 70, -44, -18, -5, 1, -2, 12, 5], index=list('abcdefghijk'))\n",
    "s2"
   ]
  },
  {
   "cell_type": "code",
   "execution_count": 42,
   "id": "27545350",
   "metadata": {},
   "outputs": [
    {
     "data": {
      "text/plain": [
       "a    False\n",
       "b     True\n",
       "c    False\n",
       "d    False\n",
       "e     True\n",
       "f     True\n",
       "g     True\n",
       "h    False\n",
       "i     True\n",
       "j    False\n",
       "k    False\n",
       "dtype: bool"
      ]
     },
     "execution_count": 42,
     "metadata": {},
     "output_type": "execute_result"
    }
   ],
   "source": [
    "# 음수는 True, 양수는 False로 스칼라 연산을 통해 출력해보세요.\n",
    "s2<0"
   ]
  },
  {
   "cell_type": "code",
   "execution_count": 43,
   "id": "703b4726",
   "metadata": {},
   "outputs": [
    {
     "data": {
      "text/plain": [
       "b    -3\n",
       "e   -44\n",
       "f   -18\n",
       "g    -5\n",
       "i    -2\n",
       "dtype: int64"
      ]
     },
     "execution_count": 43,
     "metadata": {},
     "output_type": "execute_result"
    }
   ],
   "source": [
    "# 위의 스칼라연산을 활용한 조건색인으로 s2중 음수만 남겨주세요\n",
    "s2[s2 < 0]"
   ]
  },
  {
   "cell_type": "code",
   "execution_count": 44,
   "id": "d0552de7",
   "metadata": {},
   "outputs": [
    {
     "data": {
      "text/plain": [
       "h    1\n",
       "k    5\n",
       "dtype: int64"
      ]
     },
     "execution_count": 44,
     "metadata": {},
     "output_type": "execute_result"
    }
   ],
   "source": [
    "# 0보다는 크고 10보다는 작은 값들만 남겨주세요.\n",
    "# 두 개 이상의 조건식 나열시 넘파이 배열과 동일하게 조건색인 처리합니다.\n",
    "s2[(s2 > 0) & (s2 < 10)]"
   ]
  },
  {
   "cell_type": "markdown",
   "id": "d7b102cd",
   "metadata": {},
   "source": [
    "### 산술연산\n",
    "\n",
    "- series 객체와 스칼라 값의 산술연산 => BroadCasting\n",
    "- series 객체 간의 산술연산\n",
    "    - 인덱스의 라벨이 동일한 것끼리 연산 수행, 공통으로 존재하지 않는 경우 NaN 반환\n",
    "    - 라벨이 없는 경우 차례대로 연산 수행, 개수가 동일하지 않는 경우 NaN 반환\n",
    "    - fill_value 인자를 통해 NaN이 아닌 특정 값으로 대체 가능\n",
    "    \n",
    "    <img src=\"img/series_math.png\" width=\"500\" align=\"center\">\n",
    "- 연산의 종류\n",
    "    - 더하기 : +, add() 메서드\n",
    "    - 빼기 : -, sub() 메서드\n",
    "    - 곱하기 : *, mul() 메서드\n",
    "    - 나머지만 반환 : %\n",
    "    - 몫만 반환 : //"
   ]
  },
  {
   "cell_type": "code",
   "execution_count": 45,
   "id": "ac252423",
   "metadata": {},
   "outputs": [],
   "source": [
    "# s1 -> 라벨 : a, b, c, d -> 데이터 4개 [1, 2, 3, 4]\n",
    "# s2 -> 라벨 : a, c, d, e, f, g -> 데이터 6개 [10, 20, 30, 40, 50, 60]\n",
    "s1 = pd.Series([1, 2, 3, 4], index=list('abcd'))\n",
    "s2 = pd.Series([10, 20, 30, 40, 50, 60], index=list('acdefg'))"
   ]
  },
  {
   "cell_type": "code",
   "execution_count": 46,
   "id": "e2b0ed8f",
   "metadata": {},
   "outputs": [
    {
     "data": {
      "text/plain": [
       "a    1\n",
       "b    2\n",
       "c    3\n",
       "d    4\n",
       "dtype: int64"
      ]
     },
     "execution_count": 46,
     "metadata": {},
     "output_type": "execute_result"
    }
   ],
   "source": [
    "s1"
   ]
  },
  {
   "cell_type": "code",
   "execution_count": 47,
   "id": "465fb5a9",
   "metadata": {},
   "outputs": [
    {
     "data": {
      "text/plain": [
       "a    10\n",
       "c    20\n",
       "d    30\n",
       "e    40\n",
       "f    50\n",
       "g    60\n",
       "dtype: int64"
      ]
     },
     "execution_count": 47,
     "metadata": {},
     "output_type": "execute_result"
    }
   ],
   "source": [
    "s2"
   ]
  },
  {
   "cell_type": "code",
   "execution_count": 48,
   "id": "fb5f1fe1",
   "metadata": {},
   "outputs": [
    {
     "data": {
      "text/plain": [
       "a     3\n",
       "b     6\n",
       "c     9\n",
       "d    12\n",
       "dtype: int64"
      ]
     },
     "execution_count": 48,
     "metadata": {},
     "output_type": "execute_result"
    }
   ],
   "source": [
    "# Series 객체와 스칼라값의 산술연산\n",
    "s1 * 3"
   ]
  },
  {
   "cell_type": "code",
   "execution_count": 49,
   "id": "a96c26d7",
   "metadata": {},
   "outputs": [
    {
     "data": {
      "text/plain": [
       "a    11.0\n",
       "b     NaN\n",
       "c    23.0\n",
       "d    34.0\n",
       "e     NaN\n",
       "f     NaN\n",
       "g     NaN\n",
       "dtype: float64"
      ]
     },
     "execution_count": 49,
     "metadata": {},
     "output_type": "execute_result"
    }
   ],
   "source": [
    "# Seriesㄲ리 더하기\n",
    "# 공통 라벨인 a, c, d만 연산 결과 부여, 어느 한 쪽에만 존재하는 라벨들은 NaN\n",
    "s1 + s2"
   ]
  },
  {
   "cell_type": "code",
   "execution_count": 51,
   "id": "e54446e4",
   "metadata": {},
   "outputs": [
    {
     "data": {
      "text/plain": [
       "a    11.0\n",
       "b     NaN\n",
       "c    23.0\n",
       "d    34.0\n",
       "e     NaN\n",
       "f     NaN\n",
       "g     NaN\n",
       "dtype: float64"
      ]
     },
     "execution_count": 51,
     "metadata": {},
     "output_type": "execute_result"
    }
   ],
   "source": [
    "# fill_value 파라미터 : 공통으로 존재하지 않는 라벨에 대해서 NaN 값을\n",
    "# 적용하지 않고 특정 값으로 대체해서 사용할 수 있다.\n",
    "# Series 메서드를 사용할 때의 파라미터로 입력 가능\n",
    "s1.add(s2)"
   ]
  },
  {
   "cell_type": "code",
   "execution_count": 52,
   "id": "bb2466e6",
   "metadata": {},
   "outputs": [
    {
     "data": {
      "text/plain": [
       "a    11.0\n",
       "b     2.0\n",
       "c    23.0\n",
       "d    34.0\n",
       "e    40.0\n",
       "f    50.0\n",
       "g    60.0\n",
       "dtype: float64"
      ]
     },
     "execution_count": 52,
     "metadata": {},
     "output_type": "execute_result"
    }
   ],
   "source": [
    "s1.add(s2, fill_value=0)"
   ]
  },
  {
   "cell_type": "code",
   "execution_count": 53,
   "id": "e42f33ca",
   "metadata": {},
   "outputs": [
    {
     "data": {
      "text/plain": [
       "a    -9.0\n",
       "b     NaN\n",
       "c   -17.0\n",
       "d   -26.0\n",
       "e     NaN\n",
       "f     NaN\n",
       "g     NaN\n",
       "dtype: float64"
      ]
     },
     "execution_count": 53,
     "metadata": {},
     "output_type": "execute_result"
    }
   ],
   "source": [
    "# Series 객체 간의 빼기 연산\n",
    "s1 - s2"
   ]
  },
  {
   "cell_type": "code",
   "execution_count": 54,
   "id": "a77c7048",
   "metadata": {},
   "outputs": [
    {
     "data": {
      "text/plain": [
       "a    -9.0\n",
       "b   -98.0\n",
       "c   -17.0\n",
       "d   -26.0\n",
       "e    60.0\n",
       "f    50.0\n",
       "g    40.0\n",
       "dtype: float64"
      ]
     },
     "execution_count": 54,
     "metadata": {},
     "output_type": "execute_result"
    }
   ],
   "source": [
    "# .sub()를 이용해 없는 값은 100넣고 빼기를 수행해보세요.\n",
    "s1.sub(s2, fill_value=100)"
   ]
  },
  {
   "cell_type": "code",
   "execution_count": 55,
   "id": "21d43bd8",
   "metadata": {},
   "outputs": [
    {
     "data": {
      "text/plain": [
       "a     10.0\n",
       "b      NaN\n",
       "c     60.0\n",
       "d    120.0\n",
       "e      NaN\n",
       "f      NaN\n",
       "g      NaN\n",
       "dtype: float64"
      ]
     },
     "execution_count": 55,
     "metadata": {},
     "output_type": "execute_result"
    }
   ],
   "source": [
    "# Series 객체 간의 곱하기 연산\n",
    "s1 * s2"
   ]
  },
  {
   "cell_type": "code",
   "execution_count": 56,
   "id": "a8cfbd72",
   "metadata": {},
   "outputs": [
    {
     "data": {
      "text/plain": [
       "a     10.0\n",
       "b      2.0\n",
       "c     60.0\n",
       "d    120.0\n",
       "e     40.0\n",
       "f     50.0\n",
       "g     60.0\n",
       "dtype: float64"
      ]
     },
     "execution_count": 56,
     "metadata": {},
     "output_type": "execute_result"
    }
   ],
   "source": [
    "# mul을 이용해서 곱셈은 1을 넣고 해보세요.\n",
    "s1.mul(s2, fill_value=1)"
   ]
  },
  {
   "cell_type": "code",
   "execution_count": 57,
   "id": "a1cd83b8",
   "metadata": {},
   "outputs": [
    {
     "data": {
      "text/plain": [
       "a    0.100000\n",
       "b         NaN\n",
       "c    0.150000\n",
       "d    0.133333\n",
       "e         NaN\n",
       "f         NaN\n",
       "g         NaN\n",
       "dtype: float64"
      ]
     },
     "execution_count": 57,
     "metadata": {},
     "output_type": "execute_result"
    }
   ],
   "source": [
    "# 객체간 나누기를 연산자를 이용해서 해보세요.\n",
    "s1 / s2"
   ]
  },
  {
   "cell_type": "code",
   "execution_count": 58,
   "id": "c84590db",
   "metadata": {},
   "outputs": [
    {
     "data": {
      "text/plain": [
       "a    0.100000\n",
       "b    2.000000\n",
       "c    0.150000\n",
       "d    0.133333\n",
       "e    0.025000\n",
       "f    0.020000\n",
       "g    0.016667\n",
       "dtype: float64"
      ]
     },
     "execution_count": 58,
     "metadata": {},
     "output_type": "execute_result"
    }
   ],
   "source": [
    "# .divide()를 이용해 NaN자리에 1을 채워주세요.\n",
    "s1.divide(s2, fill_value=1)"
   ]
  },
  {
   "cell_type": "markdown",
   "id": "3de4344a",
   "metadata": {},
   "source": [
    "https://pandas.pydata.org/pandas-docs/stable/reference/series.html\n",
    "\n",
    "위 사이트에서 추가적인 fill_value 사용 가능 연산자별 명령어를 확인할 수 있다."
   ]
  },
  {
   "cell_type": "markdown",
   "id": "beaea53f",
   "metadata": {},
   "source": [
    "### 연습 문제 \n",
    "\n",
    "#### 1. 실습 데이터 생성 : 1 ~ 100(미만) 사이의 랜덤 정수 값을 26개 저장한 Series를 생성하고 A~Z까지의 알파벳으로 라벨링 설정"
   ]
  },
  {
   "cell_type": "code",
   "execution_count": 59,
   "id": "2e4b4687",
   "metadata": {},
   "outputs": [],
   "source": [
    "import numpy as np"
   ]
  },
  {
   "cell_type": "code",
   "execution_count": 60,
   "id": "77ee821f",
   "metadata": {},
   "outputs": [],
   "source": [
    "np.random.seed(804)"
   ]
  },
  {
   "cell_type": "code",
   "execution_count": 61,
   "id": "ae20437e",
   "metadata": {},
   "outputs": [
    {
     "data": {
      "text/plain": [
       "array([66, 65, 91, 21, 27, 70, 28, 13, 29, 85, 13, 56, 83, 82, 82, 24, 52,\n",
       "       12,  5, 48, 91, 69, 76, 36, 62, 65])"
      ]
     },
     "execution_count": 61,
     "metadata": {},
     "output_type": "execute_result"
    }
   ],
   "source": [
    "data = np.random.randint(1, 100, 26)\n",
    "data"
   ]
  },
  {
   "cell_type": "code",
   "execution_count": 62,
   "id": "1eb23868",
   "metadata": {},
   "outputs": [],
   "source": [
    "s1 = pd.Series(data, index=list('ABCDEFGHIJKLMNOPQRSTUVWXYZ'))"
   ]
  },
  {
   "cell_type": "code",
   "execution_count": 63,
   "id": "73151e52",
   "metadata": {},
   "outputs": [
    {
     "data": {
      "text/plain": [
       "A    66\n",
       "B    65\n",
       "C    91\n",
       "D    21\n",
       "E    27\n",
       "F    70\n",
       "G    28\n",
       "H    13\n",
       "I    29\n",
       "J    85\n",
       "K    13\n",
       "L    56\n",
       "M    83\n",
       "N    82\n",
       "O    82\n",
       "P    24\n",
       "Q    52\n",
       "R    12\n",
       "S     5\n",
       "T    48\n",
       "U    91\n",
       "V    69\n",
       "W    76\n",
       "X    36\n",
       "Y    62\n",
       "Z    65\n",
       "dtype: int32"
      ]
     },
     "execution_count": 63,
     "metadata": {},
     "output_type": "execute_result"
    }
   ],
   "source": [
    "s1"
   ]
  },
  {
   "cell_type": "markdown",
   "id": "747c069c",
   "metadata": {},
   "source": [
    "#### 2. 인덱스 라벨이 'K' 항목의 값 출력"
   ]
  },
  {
   "cell_type": "code",
   "execution_count": 64,
   "id": "d2b5b8e1",
   "metadata": {},
   "outputs": [
    {
     "data": {
      "text/plain": [
       "13"
      ]
     },
     "execution_count": 64,
     "metadata": {},
     "output_type": "execute_result"
    }
   ],
   "source": [
    "s1['K']"
   ]
  },
  {
   "cell_type": "markdown",
   "id": "5d117b8d",
   "metadata": {},
   "source": [
    "#### 3. 인덱스 라벨이 'A','F','C' 항목의 값 출력"
   ]
  },
  {
   "cell_type": "code",
   "execution_count": 65,
   "id": "6dabd4f6",
   "metadata": {},
   "outputs": [
    {
     "data": {
      "text/plain": [
       "A    66\n",
       "F    70\n",
       "C    91\n",
       "dtype: int32"
      ]
     },
     "execution_count": 65,
     "metadata": {},
     "output_type": "execute_result"
    }
   ],
   "source": [
    "s1[['A','F', 'C']]"
   ]
  },
  {
   "cell_type": "markdown",
   "id": "f2c1858a",
   "metadata": {},
   "source": [
    "#### 4. 5번 인덱스부터 15번 인덱스까지의 항목 출력"
   ]
  },
  {
   "cell_type": "code",
   "execution_count": 66,
   "id": "98c39509",
   "metadata": {},
   "outputs": [
    {
     "data": {
      "text/plain": [
       "F    70\n",
       "G    28\n",
       "H    13\n",
       "I    29\n",
       "J    85\n",
       "K    13\n",
       "L    56\n",
       "M    83\n",
       "N    82\n",
       "O    82\n",
       "P    24\n",
       "dtype: int32"
      ]
     },
     "execution_count": 66,
     "metadata": {},
     "output_type": "execute_result"
    }
   ],
   "source": [
    "s1[5:16]"
   ]
  },
  {
   "cell_type": "markdown",
   "id": "654932e7",
   "metadata": {},
   "source": [
    "#### 5. 뒤에서 5개 항목 출력"
   ]
  },
  {
   "cell_type": "code",
   "execution_count": 67,
   "id": "6c49aea7",
   "metadata": {},
   "outputs": [
    {
     "data": {
      "text/plain": [
       "V    69\n",
       "W    76\n",
       "X    36\n",
       "Y    62\n",
       "Z    65\n",
       "dtype: int32"
      ]
     },
     "execution_count": 67,
     "metadata": {},
     "output_type": "execute_result"
    }
   ],
   "source": [
    "s1[-5:]"
   ]
  },
  {
   "cell_type": "markdown",
   "id": "e62154cb",
   "metadata": {},
   "source": [
    "#### 6. data의 항목의 갯수를 출력"
   ]
  },
  {
   "cell_type": "code",
   "execution_count": 69,
   "id": "baa3f438",
   "metadata": {},
   "outputs": [
    {
     "data": {
      "text/plain": [
       "26"
      ]
     },
     "execution_count": 69,
     "metadata": {},
     "output_type": "execute_result"
    }
   ],
   "source": [
    "#len(s1)\n",
    "s1.size"
   ]
  },
  {
   "cell_type": "markdown",
   "id": "2684ad71",
   "metadata": {},
   "source": [
    "#### 7. data 항목 값들의 평균보다 큰 항목만 출력"
   ]
  },
  {
   "cell_type": "code",
   "execution_count": 70,
   "id": "7f78057c",
   "metadata": {},
   "outputs": [
    {
     "data": {
      "text/plain": [
       "A    66\n",
       "B    65\n",
       "C    91\n",
       "F    70\n",
       "J    85\n",
       "L    56\n",
       "M    83\n",
       "N    82\n",
       "O    82\n",
       "Q    52\n",
       "U    91\n",
       "V    69\n",
       "W    76\n",
       "Y    62\n",
       "Z    65\n",
       "dtype: int32"
      ]
     },
     "execution_count": 70,
     "metadata": {},
     "output_type": "execute_result"
    }
   ],
   "source": [
    "s1[s1>s1.mean()]"
   ]
  },
  {
   "cell_type": "markdown",
   "id": "59d69171",
   "metadata": {},
   "source": [
    "#### 8. data의 항목 값 중에 50이 있는지 확인하여, 있으면 True, 없으면 False를 출력"
   ]
  },
  {
   "cell_type": "code",
   "execution_count": 73,
   "id": "85a0357c",
   "metadata": {},
   "outputs": [
    {
     "data": {
      "text/plain": [
       "True"
      ]
     },
     "execution_count": 73,
     "metadata": {},
     "output_type": "execute_result"
    }
   ],
   "source": [
    "91 in s1.values"
   ]
  },
  {
   "cell_type": "code",
   "execution_count": null,
   "id": "1fd8703e",
   "metadata": {},
   "outputs": [],
   "source": []
  }
 ],
 "metadata": {
  "kernelspec": {
   "display_name": "Python 3 (ipykernel)",
   "language": "python",
   "name": "python3"
  },
  "language_info": {
   "codemirror_mode": {
    "name": "ipython",
    "version": 3
   },
   "file_extension": ".py",
   "mimetype": "text/x-python",
   "name": "python",
   "nbconvert_exporter": "python",
   "pygments_lexer": "ipython3",
   "version": "3.9.12"
  }
 },
 "nbformat": 4,
 "nbformat_minor": 5
}
