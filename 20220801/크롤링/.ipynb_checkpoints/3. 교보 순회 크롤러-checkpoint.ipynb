{
 "cells": [
  {
   "cell_type": "code",
   "execution_count": 1,
   "id": "7121f45e",
   "metadata": {},
   "outputs": [],
   "source": [
    "# 크롤링 라이브러리 임포트\n",
    "from bs4 import BeautifulSoup # 웹에서 가져온 데이터를 정제하는 역할\n",
    "import requests # 파이썬에서 다이렉트로 자료를 요청하는 역할\n",
    "from selenium import webdriver # 크롬창을 켜주는 역할\n",
    "import time # 코드 중간에 딜레이를 넣는 역할\n",
    "from selenium.webdriver.common.by import By\n",
    "import codecs"
   ]
  },
  {
   "cell_type": "code",
   "execution_count": 3,
   "id": "453790a3",
   "metadata": {},
   "outputs": [],
   "source": [
    "# 각 항목들을 순차적으로 저장하기 위해 빈 리스트 선언\n",
    "title_list = []\n",
    "author_list = []\n",
    "price_list = []"
   ]
  },
  {
   "cell_type": "code",
   "execution_count": null,
   "id": "0d70a9ff",
   "metadata": {},
   "outputs": [],
   "source": [
    "# 교보문고 순회 크롤러를 만들어주세요.\n",
    "# 1~200위까지의 책을 txt파일로 저장해주시면 됩니다.\n",
    "browser = webdriver.Chrome(\"chromedriver\")\n",
    "# 텍스트 파일저장\n",
    "f = codecs.open(\"c:/crawler2/kyobo.txt\", mode=\"w\", encoding=\"utf-8\")\n",
    "\n",
    "for i in range(1, 5):\n",
    "    time.sleep(3)\n",
    "    browser.get(\"https://www.kyobobook.co.kr/bestSellerNew/bestseller.laf?targetPage=%s\" % i)\n",
    "\n",
    "    source = browser.page_source\n",
    "\n",
    "    bs = BeautifulSoup(source, \"html.parser\")\n",
    "\n",
    "    # 리스트가 아닌 단 하나의 태그를 얻어옴\n",
    "    ul_tag = bs.find(\"ul\", class_=\"list_type01\")\n",
    "    # find는 리스트 형식으로 가져오지 않기 때문에, 인덱싱 없이 바로 추가 명령을 내릴 수 있습니다.\n",
    "    title_tag_list = ul_tag.find_all(\"div\", class_=\"title\")\n",
    "    author_tag_list = ul_tag.find_all(\"div\", class_=\"author\")\n",
    "    price_tag_list = ul_tag.find_all(\"div\", class_=\"price\")\n",
    "\n",
    "    for item in title_tag_list:\n",
    "        title_list.append(item.text.strip().replace(\"\\n\",\"\").replace(\"\\t\", \"\"))\n",
    "\n",
    "    for item in author_tag_list:\n",
    "        author_list.append(item.text.strip().replace(\"\\n\",\"\").replace(\"\\t\", \"\"))\n",
    "\n",
    "    for item in price_tag_list:\n",
    "        price_list.append(item.text.strip().replace(\"\\n\",\"\").replace(\"\\t\", \"\"))\n",
    "# title_tag_list에 200개의 요소가 들어있으므로 인덱스번호를 이용해 텍스트파일화\n",
    "for i in range(len(title_list)):\n",
    "    f.write(\"%s위 책 정보\\n\" % (i + 1))\n",
    "    f.write(title_list[i] + \"\\n\")\n",
    "    f.write(author_list[i] + \"\\n\")\n",
    "    f.write(price_list[i] + \"\\n\")\n",
    "    f.write(\"--------------------\\n\")\n",
    "f.close()"
   ]
  },
  {
   "cell_type": "code",
   "execution_count": null,
   "id": "ba96c824",
   "metadata": {},
   "outputs": [],
   "source": []
  },
  {
   "cell_type": "code",
   "execution_count": null,
   "id": "0e2a96ee",
   "metadata": {},
   "outputs": [],
   "source": []
  },
  {
   "cell_type": "code",
   "execution_count": null,
   "id": "ae3025d8",
   "metadata": {},
   "outputs": [],
   "source": []
  },
  {
   "cell_type": "code",
   "execution_count": null,
   "id": "50c2f986",
   "metadata": {},
   "outputs": [],
   "source": []
  },
  {
   "cell_type": "code",
   "execution_count": null,
   "id": "806a27d7",
   "metadata": {},
   "outputs": [],
   "source": []
  },
  {
   "cell_type": "code",
   "execution_count": null,
   "id": "01fce6c2",
   "metadata": {},
   "outputs": [],
   "source": []
  }
 ],
 "metadata": {
  "kernelspec": {
   "display_name": "Python 3 (ipykernel)",
   "language": "python",
   "name": "python3"
  },
  "language_info": {
   "codemirror_mode": {
    "name": "ipython",
    "version": 3
   },
   "file_extension": ".py",
   "mimetype": "text/x-python",
   "name": "python",
   "nbconvert_exporter": "python",
   "pygments_lexer": "ipython3",
   "version": "3.9.12"
  }
 },
 "nbformat": 4,
 "nbformat_minor": 5
}
