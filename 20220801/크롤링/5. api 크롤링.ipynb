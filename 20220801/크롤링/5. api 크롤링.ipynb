{
 "cells": [
  {
   "cell_type": "markdown",
   "id": "f2923b75",
   "metadata": {},
   "source": [
    "# 영진위 api 크롤링\n",
    "\n",
    "http://kobis.or.kr/kobisopenapi/webservice/rest/boxoffice/searchDailyBoxOfficeList.json?key=f5eef3421c602c6cb7ea224104795888&targetDt=20120101\n",
    "<br>\n",
    "위 주소를 보면 파라미터로 <br>\n",
    "key와 targetDt가 있는걸 볼 수 있습니다.<br>\n",
    "<br>\n",
    "<br>\n",
    "여기서 key는 회원가입을 하면 발급해주는 개인 식별용 키입니다.<br>\n",
    "키를 발급해주는 이유는 일일 요청 횟수를 제한해서 서버 메모리를 절약하기 위함입니다.<br>\n",
    "<br><br>\n",
    "targetDt는 타겟 날짜로, 현재 이 api 요청 주소는 일일 박스오피스 입니다.\n",
    "\n",
    "<br>\n",
    "<br>\n",
    "api서버 접근시 파이썬에서는 보통 urllib.request를 활용합니다."
   ]
  },
  {
   "cell_type": "code",
   "execution_count": 1,
   "id": "800153e1",
   "metadata": {},
   "outputs": [],
   "source": [
    "# 사이트에 자료 요청용 라이브러리 임포트\n",
    "import urllib.request\n",
    "# json데이터 핸들링용\n",
    "import json\n",
    "import xml"
   ]
  },
  {
   "cell_type": "code",
   "execution_count": 3,
   "id": "a68d9a76",
   "metadata": {},
   "outputs": [
    {
     "name": "stdout",
     "output_type": "stream",
     "text": [
      "http://kobis.or.kr/kobisopenapi/webservice/rest/boxoffice/searchDailyBoxOfficeList.json?key=f5eef3421c602c6cb7ea224104795888&targetDt=20190101\n"
     ]
    }
   ],
   "source": [
    "# 요청 주소의 파라미터는 다 분리해서 포매팅형식으로 관리하면 효율적입니다.\n",
    "key = \"f5eef3421c602c6cb7ea224104795888\"\n",
    "target_dt = \"20190101\"\n",
    "request_url = \"http://kobis.or.kr/kobisopenapi/webservice/rest/\\\n",
    "boxoffice/searchDailyBoxOfficeList.json?key=%s&targetDt=%s\" % (key, target_dt)\n",
    "print(request_url)"
   ]
  },
  {
   "cell_type": "code",
   "execution_count": 4,
   "id": "f526950b",
   "metadata": {},
   "outputs": [],
   "source": [
    "# 위에 세팅된 주소로 요청을 넣어보겠습니다.\n",
    "result = urllib.request.urlopen(request_url)"
   ]
  },
  {
   "cell_type": "code",
   "execution_count": 6,
   "id": "bca2a392",
   "metadata": {},
   "outputs": [],
   "source": [
    "# 얻어진 데이터의 json만 뽑기 위해 .read()를 사용합니다.\n",
    "json_raw = result.read()"
   ]
  },
  {
   "cell_type": "code",
   "execution_count": 7,
   "id": "6caa74bb",
   "metadata": {},
   "outputs": [
    {
     "name": "stdout",
     "output_type": "stream",
     "text": [
      "<class 'bytes'>\n"
     ]
    }
   ],
   "source": [
    "# byte 자료형임을 확인\n",
    "print(type(json_raw))"
   ]
  },
  {
   "cell_type": "code",
   "execution_count": 8,
   "id": "d8cd3c50",
   "metadata": {
    "collapsed": true
   },
   "outputs": [
    {
     "data": {
      "text/plain": [
       "b'{\"boxOfficeResult\":{\"boxofficeType\":\"\\xec\\x9d\\xbc\\xeb\\xb3\\x84 \\xeb\\xb0\\x95\\xec\\x8a\\xa4\\xec\\x98\\xa4\\xed\\x94\\xbc\\xec\\x8a\\xa4\",\"showRange\":\"20190101~20190101\",\"dailyBoxOfficeList\":[{\"rnum\":\"1\",\"rank\":\"1\",\"rankInten\":\"0\",\"rankOldAndNew\":\"OLD\",\"movieCd\":\"20180290\",\"movieNm\":\"\\xec\\x95\\x84\\xec\\xbf\\xa0\\xec\\x95\\x84\\xeb\\xa7\\xa8\",\"openDt\":\"2018-12-19\",\"salesAmt\":\"3482411050\",\"salesShare\":\"33.8\",\"salesInten\":\"1154385750\",\"salesChange\":\"49.6\",\"salesAcc\":\"33936703431\",\"audiCnt\":\"384106\",\"audiInten\":\"96412\",\"audiChange\":\"33.5\",\"audiAcc\":\"3875963\",\"scrnCnt\":\"1158\",\"showCnt\":\"4594\"},{\"rnum\":\"2\",\"rank\":\"2\",\"rankInten\":\"0\",\"rankOldAndNew\":\"OLD\",\"movieCd\":\"20170658\",\"movieNm\":\"PMC: \\xeb\\x8d\\x94 \\xeb\\xb2\\x99\\xec\\xbb\\xa4\",\"openDt\":\"2018-12-26\",\"salesAmt\":\"1763943100\",\"salesShare\":\"17.1\",\"salesInten\":\"425397650\",\"salesChange\":\"31.8\",\"salesAcc\":\"11468190467\",\"audiCnt\":\"195859\",\"audiInten\":\"30733\",\"audiChange\":\"18.6\",\"audiAcc\":\"1374890\",\"scrnCnt\":\"893\",\"showCnt\":\"3530\"},{\"rnum\":\"3\",\"rank\":\"3\",\"rankInten\":\"1\",\"rankOldAndNew\":\"OLD\",\"movieCd\":\"20185485\",\"movieNm\":\"\\xeb\\xb3\\xb4\\xed\\x97\\xa4\\xeb\\xaf\\xb8\\xec\\x95\\x88 \\xeb\\x9e\\xa9\\xec\\x86\\x8c\\xeb\\x94\\x94\",\"openDt\":\"2018-10-31\",\"salesAmt\":\"1236738450\",\"salesShare\":\"12.0\",\"salesInten\":\"378199650\",\"salesChange\":\"44.1\",\"salesAcc\":\"81247178795\",\"audiCnt\":\"135879\",\"audiInten\":\"29431\",\"audiChange\":\"27.6\",\"audiAcc\":\"9360461\",\"scrnCnt\":\"732\",\"showCnt\":\"1872\"},{\"rnum\":\"4\",\"rank\":\"4\",\"rankInten\":\"-1\",\"rankOldAndNew\":\"OLD\",\"movieCd\":\"20186281\",\"movieNm\":\"\\xeb\\xb2\\x94\\xeb\\xb8\\x94\\xeb\\xb9\\x84\",\"openDt\":\"2018-12-25\",\"salesAmt\":\"1143504700\",\"salesShare\":\"11.1\",\"salesInten\":\"264548150\",\"salesChange\":\"30.1\",\"salesAcc\":\"10899588452\",\"audiCnt\":\"132618\",\"audiInten\":\"21611\",\"audiChange\":\"19.5\",\"audiAcc\":\"1299768\",\"scrnCnt\":\"766\",\"showCnt\":\"2519\"},{\"rnum\":\"5\",\"rank\":\"5\",\"rankInten\":\"0\",\"rankOldAndNew\":\"NEW\",\"movieCd\":\"20184187\",\"movieNm\":\"\\xec\\x96\\xb8\\xeb\\x8b\\x88\",\"openDt\":\"2019-01-01\",\"salesAmt\":\"612798450\",\"salesShare\":\"5.9\",\"salesInten\":\"612798450\",\"salesChange\":\"100\",\"salesAcc\":\"623953450\",\"audiCnt\":\"66686\",\"audiInten\":\"66686\",\"audiChange\":\"100\",\"audiAcc\":\"67929\",\"scrnCnt\":\"509\",\"showCnt\":\"1679\"},{\"rnum\":\"6\",\"rank\":\"6\",\"rankInten\":\"-1\",\"rankOldAndNew\":\"OLD\",\"movieCd\":\"20175547\",\"movieNm\":\"\\xec\\x8a\\xa4\\xec\\x9c\\x99\\xed\\x82\\xa4\\xec\\xa6\\x88\",\"openDt\":\"2018-12-19\",\"salesAmt\":\"580947700\",\"salesShare\":\"5.6\",\"salesInten\":\"89503150\",\"salesChange\":\"18.2\",\"salesAcc\":\"10889513302\",\"audiCnt\":\"66173\",\"audiInten\":\"2513\",\"audiChange\":\"3.9\",\"audiAcc\":\"1324984\",\"scrnCnt\":\"577\",\"showCnt\":\"1309\"},{\"rnum\":\"7\",\"rank\":\"7\",\"rankInten\":\"-1\",\"rankOldAndNew\":\"OLD\",\"movieCd\":\"20183785\",\"movieNm\":\"\\xec\\xa0\\x90\\xeb\\xb0\\x95\\xec\\x9d\\xb4 \\xed\\x95\\x9c\\xeb\\xb0\\x98\\xeb\\x8f\\x84\\xec\\x9d\\x98 \\xea\\xb3\\xb5\\xeb\\xa3\\xa12 : \\xec\\x83\\x88\\xeb\\xa1\\x9c\\xec\\x9a\\xb4 \\xeb\\x82\\x99\\xec\\x9b\\x90\",\"openDt\":\"2018-12-25\",\"salesAmt\":\"490861100\",\"salesShare\":\"4.8\",\"salesInten\":\"193316450\",\"salesChange\":\"65\",\"salesAcc\":\"3432402500\",\"audiCnt\":\"60574\",\"audiInten\":\"18888\",\"audiChange\":\"45.3\",\"audiAcc\":\"435886\",\"scrnCnt\":\"581\",\"showCnt\":\"1083\"},{\"rnum\":\"8\",\"rank\":\"8\",\"rankInten\":\"-1\",\"rankOldAndNew\":\"OLD\",\"movieCd\":\"20182421\",\"movieNm\":\"\\xea\\xb7\\xb8\\xeb\\xa6\\xb0\\xec\\xb9\\x98\",\"openDt\":\"2018-12-19\",\"salesAmt\":\"264288100\",\"salesShare\":\"2.6\",\"salesInten\":\"78854150\",\"salesChange\":\"42.5\",\"salesAcc\":\"3939730050\",\"audiCnt\":\"32824\",\"audiInten\":\"6574\",\"audiChange\":\"25\",\"audiAcc\":\"517888\",\"scrnCnt\":\"449\",\"showCnt\":\"672\"},{\"rnum\":\"9\",\"rank\":\"9\",\"rankInten\":\"0\",\"rankOldAndNew\":\"OLD\",\"movieCd\":\"20183479\",\"movieNm\":\"\\xea\\xb7\\xb9\\xec\\x9e\\xa5\\xed\\x8c\\x90 \\xec\\xa7\\xb1\\xea\\xb5\\xac\\xeb\\x8a\\x94 \\xeb\\xaa\\xbb\\xeb\\xa7\\x90\\xeb\\xa0\\xa4: \\xec\\x95\\x84\\xeb\\xb5\\xa4! \\xec\\xbf\\xb5\\xed\\x9b\\x84 \\xeb\\xb3\\xb4\\xec\\x9d\\xb4\\xec\\xa6\\x88 ~\\xeb\\x9d\\xbc\\xeb\\xa9\\xb4 \\xeb\\x8c\\x80\\xeb\\x9e\\x80~\",\"openDt\":\"2018-12-19\",\"salesAmt\":\"233903600\",\"salesShare\":\"2.3\",\"salesInten\":\"109925100\",\"salesChange\":\"88.7\",\"salesAcc\":\"2382611650\",\"audiCnt\":\"29372\",\"audiInten\":\"11919\",\"audiChange\":\"68.3\",\"audiAcc\":\"306578\",\"scrnCnt\":\"336\",\"showCnt\":\"500\"},{\"rnum\":\"10\",\"rank\":\"10\",\"rankInten\":\"-2\",\"rankOldAndNew\":\"OLD\",\"movieCd\":\"20168773\",\"movieNm\":\"\\xeb\\xa7\\x88\\xec\\x95\\xbd\\xec\\x99\\x95\",\"openDt\":\"2018-12-19\",\"salesAmt\":\"173524150\",\"salesShare\":\"1.7\",\"salesInten\":\"-35881950\",\"salesChange\":\"-17.1\",\"salesAcc\":\"15958248702\",\"audiCnt\":\"19248\",\"audiInten\":\"-6521\",\"audiChange\":\"-25.3\",\"audiAcc\":\"1832842\",\"scrnCnt\":\"426\",\"showCnt\":\"705\"}]}}'"
      ]
     },
     "execution_count": 8,
     "metadata": {},
     "output_type": "execute_result"
    }
   ],
   "source": [
    "json_raw"
   ]
  },
  {
   "cell_type": "code",
   "execution_count": 9,
   "id": "f2e5851d",
   "metadata": {},
   "outputs": [],
   "source": [
    "# 형식을 한글을 쓸 수 있는 utf-8형식으로 고쳐야 합니다. 변형 -> encode(), 복원 -> decode()\n",
    "# encode => 우리가 쓰는 문자를 컴퓨터가 쓰는 형태로 변환\n",
    "# decode => 컴퓨터가 쓰는 문자를 우리가 쓰는 형태로 변환\n",
    "json_utf8 = json_raw.decode(\"utf-8\")"
   ]
  },
  {
   "cell_type": "code",
   "execution_count": 10,
   "id": "8b92f6f7",
   "metadata": {
    "collapsed": true
   },
   "outputs": [
    {
     "data": {
      "text/plain": [
       "'{\"boxOfficeResult\":{\"boxofficeType\":\"일별 박스오피스\",\"showRange\":\"20190101~20190101\",\"dailyBoxOfficeList\":[{\"rnum\":\"1\",\"rank\":\"1\",\"rankInten\":\"0\",\"rankOldAndNew\":\"OLD\",\"movieCd\":\"20180290\",\"movieNm\":\"아쿠아맨\",\"openDt\":\"2018-12-19\",\"salesAmt\":\"3482411050\",\"salesShare\":\"33.8\",\"salesInten\":\"1154385750\",\"salesChange\":\"49.6\",\"salesAcc\":\"33936703431\",\"audiCnt\":\"384106\",\"audiInten\":\"96412\",\"audiChange\":\"33.5\",\"audiAcc\":\"3875963\",\"scrnCnt\":\"1158\",\"showCnt\":\"4594\"},{\"rnum\":\"2\",\"rank\":\"2\",\"rankInten\":\"0\",\"rankOldAndNew\":\"OLD\",\"movieCd\":\"20170658\",\"movieNm\":\"PMC: 더 벙커\",\"openDt\":\"2018-12-26\",\"salesAmt\":\"1763943100\",\"salesShare\":\"17.1\",\"salesInten\":\"425397650\",\"salesChange\":\"31.8\",\"salesAcc\":\"11468190467\",\"audiCnt\":\"195859\",\"audiInten\":\"30733\",\"audiChange\":\"18.6\",\"audiAcc\":\"1374890\",\"scrnCnt\":\"893\",\"showCnt\":\"3530\"},{\"rnum\":\"3\",\"rank\":\"3\",\"rankInten\":\"1\",\"rankOldAndNew\":\"OLD\",\"movieCd\":\"20185485\",\"movieNm\":\"보헤미안 랩소디\",\"openDt\":\"2018-10-31\",\"salesAmt\":\"1236738450\",\"salesShare\":\"12.0\",\"salesInten\":\"378199650\",\"salesChange\":\"44.1\",\"salesAcc\":\"81247178795\",\"audiCnt\":\"135879\",\"audiInten\":\"29431\",\"audiChange\":\"27.6\",\"audiAcc\":\"9360461\",\"scrnCnt\":\"732\",\"showCnt\":\"1872\"},{\"rnum\":\"4\",\"rank\":\"4\",\"rankInten\":\"-1\",\"rankOldAndNew\":\"OLD\",\"movieCd\":\"20186281\",\"movieNm\":\"범블비\",\"openDt\":\"2018-12-25\",\"salesAmt\":\"1143504700\",\"salesShare\":\"11.1\",\"salesInten\":\"264548150\",\"salesChange\":\"30.1\",\"salesAcc\":\"10899588452\",\"audiCnt\":\"132618\",\"audiInten\":\"21611\",\"audiChange\":\"19.5\",\"audiAcc\":\"1299768\",\"scrnCnt\":\"766\",\"showCnt\":\"2519\"},{\"rnum\":\"5\",\"rank\":\"5\",\"rankInten\":\"0\",\"rankOldAndNew\":\"NEW\",\"movieCd\":\"20184187\",\"movieNm\":\"언니\",\"openDt\":\"2019-01-01\",\"salesAmt\":\"612798450\",\"salesShare\":\"5.9\",\"salesInten\":\"612798450\",\"salesChange\":\"100\",\"salesAcc\":\"623953450\",\"audiCnt\":\"66686\",\"audiInten\":\"66686\",\"audiChange\":\"100\",\"audiAcc\":\"67929\",\"scrnCnt\":\"509\",\"showCnt\":\"1679\"},{\"rnum\":\"6\",\"rank\":\"6\",\"rankInten\":\"-1\",\"rankOldAndNew\":\"OLD\",\"movieCd\":\"20175547\",\"movieNm\":\"스윙키즈\",\"openDt\":\"2018-12-19\",\"salesAmt\":\"580947700\",\"salesShare\":\"5.6\",\"salesInten\":\"89503150\",\"salesChange\":\"18.2\",\"salesAcc\":\"10889513302\",\"audiCnt\":\"66173\",\"audiInten\":\"2513\",\"audiChange\":\"3.9\",\"audiAcc\":\"1324984\",\"scrnCnt\":\"577\",\"showCnt\":\"1309\"},{\"rnum\":\"7\",\"rank\":\"7\",\"rankInten\":\"-1\",\"rankOldAndNew\":\"OLD\",\"movieCd\":\"20183785\",\"movieNm\":\"점박이 한반도의 공룡2 : 새로운 낙원\",\"openDt\":\"2018-12-25\",\"salesAmt\":\"490861100\",\"salesShare\":\"4.8\",\"salesInten\":\"193316450\",\"salesChange\":\"65\",\"salesAcc\":\"3432402500\",\"audiCnt\":\"60574\",\"audiInten\":\"18888\",\"audiChange\":\"45.3\",\"audiAcc\":\"435886\",\"scrnCnt\":\"581\",\"showCnt\":\"1083\"},{\"rnum\":\"8\",\"rank\":\"8\",\"rankInten\":\"-1\",\"rankOldAndNew\":\"OLD\",\"movieCd\":\"20182421\",\"movieNm\":\"그린치\",\"openDt\":\"2018-12-19\",\"salesAmt\":\"264288100\",\"salesShare\":\"2.6\",\"salesInten\":\"78854150\",\"salesChange\":\"42.5\",\"salesAcc\":\"3939730050\",\"audiCnt\":\"32824\",\"audiInten\":\"6574\",\"audiChange\":\"25\",\"audiAcc\":\"517888\",\"scrnCnt\":\"449\",\"showCnt\":\"672\"},{\"rnum\":\"9\",\"rank\":\"9\",\"rankInten\":\"0\",\"rankOldAndNew\":\"OLD\",\"movieCd\":\"20183479\",\"movieNm\":\"극장판 짱구는 못말려: 아뵤! 쿵후 보이즈 ~라면 대란~\",\"openDt\":\"2018-12-19\",\"salesAmt\":\"233903600\",\"salesShare\":\"2.3\",\"salesInten\":\"109925100\",\"salesChange\":\"88.7\",\"salesAcc\":\"2382611650\",\"audiCnt\":\"29372\",\"audiInten\":\"11919\",\"audiChange\":\"68.3\",\"audiAcc\":\"306578\",\"scrnCnt\":\"336\",\"showCnt\":\"500\"},{\"rnum\":\"10\",\"rank\":\"10\",\"rankInten\":\"-2\",\"rankOldAndNew\":\"OLD\",\"movieCd\":\"20168773\",\"movieNm\":\"마약왕\",\"openDt\":\"2018-12-19\",\"salesAmt\":\"173524150\",\"salesShare\":\"1.7\",\"salesInten\":\"-35881950\",\"salesChange\":\"-17.1\",\"salesAcc\":\"15958248702\",\"audiCnt\":\"19248\",\"audiInten\":\"-6521\",\"audiChange\":\"-25.3\",\"audiAcc\":\"1832842\",\"scrnCnt\":\"426\",\"showCnt\":\"705\"}]}}'"
      ]
     },
     "execution_count": 10,
     "metadata": {},
     "output_type": "execute_result"
    }
   ],
   "source": [
    "json_utf8"
   ]
  },
  {
   "cell_type": "code",
   "execution_count": 11,
   "id": "b0816f07",
   "metadata": {},
   "outputs": [
    {
     "data": {
      "text/plain": [
       "str"
      ]
     },
     "execution_count": 11,
     "metadata": {},
     "output_type": "execute_result"
    }
   ],
   "source": [
    "type(json_utf8)"
   ]
  },
  {
   "cell_type": "code",
   "execution_count": 13,
   "id": "ce4de47d",
   "metadata": {},
   "outputs": [],
   "source": [
    "# json.loads(딕셔너리 형태의 문자열)\n",
    "# json(딕셔너리) 형태로 적힌 문자열 자료를 딕셔너리로 변환\n",
    "json_python = json.loads(json_utf8)"
   ]
  },
  {
   "cell_type": "code",
   "execution_count": 21,
   "id": "4a9d0f52",
   "metadata": {},
   "outputs": [
    {
     "data": {
      "text/plain": [
       "[{'rnum': '1',\n",
       "  'rank': '1',\n",
       "  'rankInten': '0',\n",
       "  'rankOldAndNew': 'OLD',\n",
       "  'movieCd': '20180290',\n",
       "  'movieNm': '아쿠아맨',\n",
       "  'openDt': '2018-12-19',\n",
       "  'salesAmt': '3482411050',\n",
       "  'salesShare': '33.8',\n",
       "  'salesInten': '1154385750',\n",
       "  'salesChange': '49.6',\n",
       "  'salesAcc': '33936703431',\n",
       "  'audiCnt': '384106',\n",
       "  'audiInten': '96412',\n",
       "  'audiChange': '33.5',\n",
       "  'audiAcc': '3875963',\n",
       "  'scrnCnt': '1158',\n",
       "  'showCnt': '4594'},\n",
       " {'rnum': '2',\n",
       "  'rank': '2',\n",
       "  'rankInten': '0',\n",
       "  'rankOldAndNew': 'OLD',\n",
       "  'movieCd': '20170658',\n",
       "  'movieNm': 'PMC: 더 벙커',\n",
       "  'openDt': '2018-12-26',\n",
       "  'salesAmt': '1763943100',\n",
       "  'salesShare': '17.1',\n",
       "  'salesInten': '425397650',\n",
       "  'salesChange': '31.8',\n",
       "  'salesAcc': '11468190467',\n",
       "  'audiCnt': '195859',\n",
       "  'audiInten': '30733',\n",
       "  'audiChange': '18.6',\n",
       "  'audiAcc': '1374890',\n",
       "  'scrnCnt': '893',\n",
       "  'showCnt': '3530'},\n",
       " {'rnum': '3',\n",
       "  'rank': '3',\n",
       "  'rankInten': '1',\n",
       "  'rankOldAndNew': 'OLD',\n",
       "  'movieCd': '20185485',\n",
       "  'movieNm': '보헤미안 랩소디',\n",
       "  'openDt': '2018-10-31',\n",
       "  'salesAmt': '1236738450',\n",
       "  'salesShare': '12.0',\n",
       "  'salesInten': '378199650',\n",
       "  'salesChange': '44.1',\n",
       "  'salesAcc': '81247178795',\n",
       "  'audiCnt': '135879',\n",
       "  'audiInten': '29431',\n",
       "  'audiChange': '27.6',\n",
       "  'audiAcc': '9360461',\n",
       "  'scrnCnt': '732',\n",
       "  'showCnt': '1872'},\n",
       " {'rnum': '4',\n",
       "  'rank': '4',\n",
       "  'rankInten': '-1',\n",
       "  'rankOldAndNew': 'OLD',\n",
       "  'movieCd': '20186281',\n",
       "  'movieNm': '범블비',\n",
       "  'openDt': '2018-12-25',\n",
       "  'salesAmt': '1143504700',\n",
       "  'salesShare': '11.1',\n",
       "  'salesInten': '264548150',\n",
       "  'salesChange': '30.1',\n",
       "  'salesAcc': '10899588452',\n",
       "  'audiCnt': '132618',\n",
       "  'audiInten': '21611',\n",
       "  'audiChange': '19.5',\n",
       "  'audiAcc': '1299768',\n",
       "  'scrnCnt': '766',\n",
       "  'showCnt': '2519'},\n",
       " {'rnum': '5',\n",
       "  'rank': '5',\n",
       "  'rankInten': '0',\n",
       "  'rankOldAndNew': 'NEW',\n",
       "  'movieCd': '20184187',\n",
       "  'movieNm': '언니',\n",
       "  'openDt': '2019-01-01',\n",
       "  'salesAmt': '612798450',\n",
       "  'salesShare': '5.9',\n",
       "  'salesInten': '612798450',\n",
       "  'salesChange': '100',\n",
       "  'salesAcc': '623953450',\n",
       "  'audiCnt': '66686',\n",
       "  'audiInten': '66686',\n",
       "  'audiChange': '100',\n",
       "  'audiAcc': '67929',\n",
       "  'scrnCnt': '509',\n",
       "  'showCnt': '1679'},\n",
       " {'rnum': '6',\n",
       "  'rank': '6',\n",
       "  'rankInten': '-1',\n",
       "  'rankOldAndNew': 'OLD',\n",
       "  'movieCd': '20175547',\n",
       "  'movieNm': '스윙키즈',\n",
       "  'openDt': '2018-12-19',\n",
       "  'salesAmt': '580947700',\n",
       "  'salesShare': '5.6',\n",
       "  'salesInten': '89503150',\n",
       "  'salesChange': '18.2',\n",
       "  'salesAcc': '10889513302',\n",
       "  'audiCnt': '66173',\n",
       "  'audiInten': '2513',\n",
       "  'audiChange': '3.9',\n",
       "  'audiAcc': '1324984',\n",
       "  'scrnCnt': '577',\n",
       "  'showCnt': '1309'},\n",
       " {'rnum': '7',\n",
       "  'rank': '7',\n",
       "  'rankInten': '-1',\n",
       "  'rankOldAndNew': 'OLD',\n",
       "  'movieCd': '20183785',\n",
       "  'movieNm': '점박이 한반도의 공룡2 : 새로운 낙원',\n",
       "  'openDt': '2018-12-25',\n",
       "  'salesAmt': '490861100',\n",
       "  'salesShare': '4.8',\n",
       "  'salesInten': '193316450',\n",
       "  'salesChange': '65',\n",
       "  'salesAcc': '3432402500',\n",
       "  'audiCnt': '60574',\n",
       "  'audiInten': '18888',\n",
       "  'audiChange': '45.3',\n",
       "  'audiAcc': '435886',\n",
       "  'scrnCnt': '581',\n",
       "  'showCnt': '1083'},\n",
       " {'rnum': '8',\n",
       "  'rank': '8',\n",
       "  'rankInten': '-1',\n",
       "  'rankOldAndNew': 'OLD',\n",
       "  'movieCd': '20182421',\n",
       "  'movieNm': '그린치',\n",
       "  'openDt': '2018-12-19',\n",
       "  'salesAmt': '264288100',\n",
       "  'salesShare': '2.6',\n",
       "  'salesInten': '78854150',\n",
       "  'salesChange': '42.5',\n",
       "  'salesAcc': '3939730050',\n",
       "  'audiCnt': '32824',\n",
       "  'audiInten': '6574',\n",
       "  'audiChange': '25',\n",
       "  'audiAcc': '517888',\n",
       "  'scrnCnt': '449',\n",
       "  'showCnt': '672'},\n",
       " {'rnum': '9',\n",
       "  'rank': '9',\n",
       "  'rankInten': '0',\n",
       "  'rankOldAndNew': 'OLD',\n",
       "  'movieCd': '20183479',\n",
       "  'movieNm': '극장판 짱구는 못말려: 아뵤! 쿵후 보이즈 ~라면 대란~',\n",
       "  'openDt': '2018-12-19',\n",
       "  'salesAmt': '233903600',\n",
       "  'salesShare': '2.3',\n",
       "  'salesInten': '109925100',\n",
       "  'salesChange': '88.7',\n",
       "  'salesAcc': '2382611650',\n",
       "  'audiCnt': '29372',\n",
       "  'audiInten': '11919',\n",
       "  'audiChange': '68.3',\n",
       "  'audiAcc': '306578',\n",
       "  'scrnCnt': '336',\n",
       "  'showCnt': '500'},\n",
       " {'rnum': '10',\n",
       "  'rank': '10',\n",
       "  'rankInten': '-2',\n",
       "  'rankOldAndNew': 'OLD',\n",
       "  'movieCd': '20168773',\n",
       "  'movieNm': '마약왕',\n",
       "  'openDt': '2018-12-19',\n",
       "  'salesAmt': '173524150',\n",
       "  'salesShare': '1.7',\n",
       "  'salesInten': '-35881950',\n",
       "  'salesChange': '-17.1',\n",
       "  'salesAcc': '15958248702',\n",
       "  'audiCnt': '19248',\n",
       "  'audiInten': '-6521',\n",
       "  'audiChange': '-25.3',\n",
       "  'audiAcc': '1832842',\n",
       "  'scrnCnt': '426',\n",
       "  'showCnt': '705'}]"
      ]
     },
     "execution_count": 21,
     "metadata": {},
     "output_type": "execute_result"
    }
   ],
   "source": [
    "json_python['boxOfficeResult']['dailyBoxOfficeList']"
   ]
  },
  {
   "cell_type": "code",
   "execution_count": null,
   "id": "63081f99",
   "metadata": {},
   "outputs": [],
   "source": []
  },
  {
   "cell_type": "code",
   "execution_count": null,
   "id": "c792eb88",
   "metadata": {},
   "outputs": [],
   "source": []
  },
  {
   "cell_type": "code",
   "execution_count": null,
   "id": "768db156",
   "metadata": {},
   "outputs": [],
   "source": []
  },
  {
   "cell_type": "code",
   "execution_count": null,
   "id": "46abef10",
   "metadata": {},
   "outputs": [],
   "source": []
  }
 ],
 "metadata": {
  "kernelspec": {
   "display_name": "Python 3 (ipykernel)",
   "language": "python",
   "name": "python3"
  },
  "language_info": {
   "codemirror_mode": {
    "name": "ipython",
    "version": 3
   },
   "file_extension": ".py",
   "mimetype": "text/x-python",
   "name": "python",
   "nbconvert_exporter": "python",
   "pygments_lexer": "ipython3",
   "version": "3.9.12"
  }
 },
 "nbformat": 4,
 "nbformat_minor": 5
}
