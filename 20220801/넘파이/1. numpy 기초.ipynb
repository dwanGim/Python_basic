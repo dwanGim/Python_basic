{
 "cells": [
  {
   "cell_type": "markdown",
   "id": "af3a18b9",
   "metadata": {},
   "source": [
    "# Numpy\n",
    "\n",
    "- Numeriacal Python\n",
    "\n",
    "- 파이썬 머신러닝 패키지인 scikit-learn에서 기본 데이터 구조로 사용되어 Numpy 배열 형태의 데이터를 사용\n",
    "\n",
    "- 파이썬 기반 데이터 분석 환경에서 행렬 및 벡터 연산에 필요한 다양한 함수를 제공\n",
    "\n",
    "- 메모리 소모가 많은 반복문 없이 전체 데이터 배열에 빠른 연산을 처리할 수 있는 표준 수학 함수\n",
    "\n",
    "> 배열 : 동일한 특성(데이터 타입) 및 일정한 규칙을 가지는 여러 개의 요소가 나열되어 있는 데이터 집합\n",
    "\n",
    "- 파이썬 list 객체를 사용할 때 보다 Numpy의 ndarray 객체를 사용하면 연산 속도가 개선되어 더 많은 데이터를 더 빠르게 처리"
   ]
  },
  {
   "cell_type": "code",
   "execution_count": 3,
   "id": "e9d51e45",
   "metadata": {},
   "outputs": [],
   "source": [
    "# 라이브러리 가져오기 : Numpy\n",
    "# as 별칭 선언 이후에는 별칭으로 해당 라이브러리의 기능을 쓸 수 있다.\n",
    "# import 라이브러리명 as 별칭\n",
    "import numpy as np"
   ]
  },
  {
   "cell_type": "code",
   "execution_count": 5,
   "id": "3a6602ad",
   "metadata": {},
   "outputs": [
    {
     "data": {
      "text/plain": [
       "'1.21.5'"
      ]
     },
     "execution_count": 5,
     "metadata": {},
     "output_type": "execute_result"
    }
   ],
   "source": [
    "# 라이브러리 버전 확인하기\n",
    "numpy.__version__\n",
    "np.__version__"
   ]
  },
  {
   "cell_type": "markdown",
   "id": "d656cb37",
   "metadata": {},
   "source": [
    "## Numpy 배열 : numpy.ndarray\n",
    "\n",
    "- 다차원 배열(1차원, 2차원, 3차원)으로 입체적인 데이터 구조를 구성하고 여러 개의 데이터 방향을 가진다.\n",
    "\n",
    "- 배열 속성 : shape, ndim, dtype 등\n",
    "\n",
    "- 데이터 방향 : axis = 0(행/높이), 1(열/폭), 2(채널/깊이)\n",
    "\n",
    "사진을 집어넣을때는 img태그 를 사용합니다.\n",
    "<img src='img/nparr1.jpg' width='600' height='400' align='left'>"
   ]
  },
  {
   "cell_type": "markdown",
   "id": "2f9bf3b7",
   "metadata": {},
   "source": [
    "### 1. 배열 생성\n",
    "\n",
    "- np.array(data)\n",
    "\n",
    "    - 파이썬 list객체를 전달받아 numpy list로 교환해주는 명령어\n",
    "    \n",
    "    - 배열 속성\n",
    "        - shape : 구조 (행, 열, 차원)\n",
    "        - ndim : 차원\n",
    "        - dtype : 데이터 타입\n",
    "        - size : 요소 개수 = 행 * 열 * 차원\n",
    "        \n",
    "    - 배열 메서드\n",
    "        - astype() : 데이터 타입 변환(문자를 숫자로 라던지...)\n",
    "        \n",
    "    - 파이썬 내장함수를 사용한 속성값\n",
    "        - type() : 객체의 자료형 확인\n",
    "        - len() : 요소 내부의 자료 길이.\n",
    "        \n",
    "    - Numpy 함수를 사용한 속성\n",
    "        - reshape(row, column) : 배열 재배치(1 * 12를 3 * 4 형태로 바꾼다던지...)\n",
    "        \n",
    "    - kind : 데이터 종류에 대한 구분 기호\n",
    "        - b boolean\n",
    "        - i 정수(int)\n",
    "        - u 부호없는 정수(unsigned int, +- 개념 없이 절대값만 존재)\n",
    "        - f 실수\n",
    "        - c 복소 부동소수점\n",
    "        - O 객체\n",
    "        - S 바이트 문자열(ascii 코드, 영문자, 일부특문, 숫자)\n",
    "        - U 유니코드 문자열(한글, 중국어, 태국어, 아랍어 등 영어와 다른 문자)"
   ]
  },
  {
   "cell_type": "code",
   "execution_count": 8,
   "id": "bb7d7dc5",
   "metadata": {},
   "outputs": [
    {
     "data": {
      "text/plain": [
       "array([1, 2, 3, 4, 5, 6])"
      ]
     },
     "execution_count": 8,
     "metadata": {},
     "output_type": "execute_result"
    }
   ],
   "source": [
    "# 파이썬 1차원리스트를 Numpy 배열로 교환하기\n",
    "tmp = [1, 2, 3, 4, 5, 6]\n",
    "arr = np.array(tmp)\n",
    "arr"
   ]
  },
  {
   "cell_type": "code",
   "execution_count": 9,
   "id": "08cba2b6",
   "metadata": {},
   "outputs": [
    {
     "name": "stdout",
     "output_type": "stream",
     "text": [
      "<class 'numpy.ndarray'> <class 'list'>\n"
     ]
    }
   ],
   "source": [
    "# 배열 객체의 속성 - 타입(자료형)\n",
    "print(type(arr), type(tmp))"
   ]
  },
  {
   "cell_type": "code",
   "execution_count": 10,
   "id": "82a4177b",
   "metadata": {},
   "outputs": [
    {
     "data": {
      "text/plain": [
       "(6,)"
      ]
     },
     "execution_count": 10,
     "metadata": {},
     "output_type": "execute_result"
    }
   ],
   "source": [
    "# 배열 객체의 속성 : 구조 확인하기 - shape(행(row), 열(column), 차원(면))\n",
    "# (정수,) : 정수개수의 아이템을 가진 리스트가 배열로 변환된 결과물\n",
    "arr.shape"
   ]
  },
  {
   "cell_type": "code",
   "execution_count": 11,
   "id": "1608045d",
   "metadata": {},
   "outputs": [
    {
     "data": {
      "text/plain": [
       "6"
      ]
     },
     "execution_count": 11,
     "metadata": {},
     "output_type": "execute_result"
    }
   ],
   "source": [
    "# 배열 객체의 속성 - 길이 => (n,)\n",
    "# [1DArray] : 아이템의 개수\n",
    "len(arr)"
   ]
  },
  {
   "cell_type": "code",
   "execution_count": 12,
   "id": "c6f4d9dc",
   "metadata": {},
   "outputs": [
    {
     "data": {
      "text/plain": [
       "1"
      ]
     },
     "execution_count": 12,
     "metadata": {},
     "output_type": "execute_result"
    }
   ],
   "source": [
    "# 배열 객체의 속성 - 차원\n",
    "arr.ndim"
   ]
  },
  {
   "cell_type": "code",
   "execution_count": 14,
   "id": "56a7de9e",
   "metadata": {},
   "outputs": [
    {
     "data": {
      "text/plain": [
       "6"
      ]
     },
     "execution_count": 14,
     "metadata": {},
     "output_type": "execute_result"
    }
   ],
   "source": [
    "# 배열 요소의 속성 - 요소 갯수\n",
    "arr.size"
   ]
  },
  {
   "cell_type": "code",
   "execution_count": 15,
   "id": "77da4fb0",
   "metadata": {},
   "outputs": [],
   "source": [
    "# 배열 객체의 속성 - 데이터 타입의 변환 : astype => 원본 데이터 유지\n",
    "arr2 = arr.astype(float)"
   ]
  },
  {
   "cell_type": "code",
   "execution_count": 16,
   "id": "52547818",
   "metadata": {},
   "outputs": [
    {
     "data": {
      "text/plain": [
       "array([1., 2., 3., 4., 5., 6.])"
      ]
     },
     "execution_count": 16,
     "metadata": {},
     "output_type": "execute_result"
    }
   ],
   "source": [
    "arr2"
   ]
  },
  {
   "cell_type": "code",
   "execution_count": 17,
   "id": "590de313",
   "metadata": {},
   "outputs": [
    {
     "data": {
      "text/plain": [
       "array([1, 2, 3, 4, 5, 6])"
      ]
     },
     "execution_count": 17,
     "metadata": {},
     "output_type": "execute_result"
    }
   ],
   "source": [
    "arr"
   ]
  },
  {
   "cell_type": "code",
   "execution_count": 20,
   "id": "6141fc25",
   "metadata": {},
   "outputs": [
    {
     "data": {
      "text/plain": [
       "array([[1, 2, 3],\n",
       "       [4, 5, 6]])"
      ]
     },
     "execution_count": 20,
     "metadata": {},
     "output_type": "execute_result"
    }
   ],
   "source": [
    "# 배열 구조 변환\n",
    "# 기본 배열의 요소 총 개수(6개) 와 변환하려는 구조의 총 개수(6개)는 일치해야 한다.\n",
    "arr.reshape(2, 3) # 2 * 3 형태로 바꾸겠다"
   ]
  },
  {
   "cell_type": "code",
   "execution_count": 24,
   "id": "bf1fdbec",
   "metadata": {},
   "outputs": [],
   "source": [
    "# numpy 객체 정보를 좀 더 편하게 확인하기 위한 사용자 함수 정의\n",
    "# 객체타입, 구조, 차원, 데이터타입, 내부자료\n",
    "# 를 확인하기 위해 커스텀 함수를 정의합니다.(기본 기능에 없음)\n",
    "def np_print(arr):\n",
    "    text= '''\n",
    "    type: %s\n",
    "    shape : %s\n",
    "    ndim : %s\n",
    "    dtype : %s\n",
    "    array data : \\n %s''' % (type(arr), arr.shape, arr.ndim, arr.dtype, arr)\n",
    "    print(text)"
   ]
  },
  {
   "cell_type": "code",
   "execution_count": 25,
   "id": "40906230",
   "metadata": {},
   "outputs": [
    {
     "name": "stdout",
     "output_type": "stream",
     "text": [
      "\n",
      "    type: <class 'numpy.ndarray'>\n",
      "    shape : (4,)\n",
      "    ndim : 1\n",
      "    dtype : <U11\n",
      "    array data : \n",
      " ['1' '2' '3' '4']\n"
     ]
    }
   ],
   "source": [
    "# 리스트 요소 타입이 일관되지 않으면 우선순위에 따라 내부 데이터의 dtype이 통일된다\n",
    "# 우선순위 : str(가장 높음) > float > int(가장 낮음)\n",
    "# 서로 다른 타입의 혼합 1 : int + str = str\n",
    "tmp = [1, 2, 3, \"4\"]\n",
    "arr1 = np.array(tmp)\n",
    "np_print(arr1)"
   ]
  },
  {
   "cell_type": "code",
   "execution_count": 26,
   "id": "d6fa9196",
   "metadata": {},
   "outputs": [
    {
     "name": "stdout",
     "output_type": "stream",
     "text": [
      "\n",
      "    type: <class 'numpy.ndarray'>\n",
      "    shape : (4,)\n",
      "    ndim : 1\n",
      "    dtype : float64\n",
      "    array data : \n",
      " [1.  2.  3.3 4. ]\n"
     ]
    }
   ],
   "source": [
    "# 서로 다른 타입 혼합 2 : int + float = float\n",
    "tmp = [1, 2, 3.3, 4]\n",
    "arr = np.array(tmp)\n",
    "np_print(arr)"
   ]
  },
  {
   "cell_type": "code",
   "execution_count": 28,
   "id": "d719affa",
   "metadata": {},
   "outputs": [
    {
     "name": "stdout",
     "output_type": "stream",
     "text": [
      "\n",
      "    type: <class 'numpy.ndarray'>\n",
      "    shape : (3,)\n",
      "    ndim : 1\n",
      "    dtype : <U32\n",
      "    array data : \n",
      " ['1' '1.2' '0.3']\n"
     ]
    }
   ],
   "source": [
    "# 서로 다른 타입 혼합 3 : float + str = str\n",
    "tmp = ['1', 1.2, 0.3]\n",
    "arr = np.array(tmp)\n",
    "np_print(arr)"
   ]
  },
  {
   "cell_type": "code",
   "execution_count": 31,
   "id": "3b501417",
   "metadata": {},
   "outputs": [
    {
     "name": "stdout",
     "output_type": "stream",
     "text": [
      "\n",
      "    type: <class 'numpy.ndarray'>\n",
      "    shape : (2, 4)\n",
      "    ndim : 2\n",
      "    dtype : int32\n",
      "    array data : \n",
      " [[1 2 3 4]\n",
      " [5 6 7 8]]\n"
     ]
    }
   ],
   "source": [
    "# 파이썬 2차원 리스트로 Numpy 배열 생성\n",
    "# 2차원 배열의 shape 속성은(행(row, 세로축 개수), 열(column, 가로축 개수)) 만 반환\n",
    "tmp = [[1, 2, 3, 4],\n",
    "    [5, 6, 7, 8]]\n",
    "arr = np.array(tmp)\n",
    "np_print(arr)"
   ]
  },
  {
   "cell_type": "code",
   "execution_count": 32,
   "id": "4c1be256",
   "metadata": {},
   "outputs": [
    {
     "name": "stdout",
     "output_type": "stream",
     "text": [
      "\n",
      "    type: <class 'numpy.ndarray'>\n",
      "    shape : (2, 2, 3)\n",
      "    ndim : 3\n",
      "    dtype : int32\n",
      "    array data : \n",
      " [[[ 1  2  3]\n",
      "  [ 4  5  6]]\n",
      "\n",
      " [[ 7  8  9]\n",
      "  [10 11 12]]]\n"
     ]
    }
   ],
   "source": [
    "tmp = [[[1, 2, 3],\n",
    " [4, 5, 6]],\n",
    "[[7, 8, 9],\n",
    " [10, 11, 12]]]\n",
    "arr = np.array(tmp)\n",
    "np_print(arr)"
   ]
  },
  {
   "cell_type": "markdown",
   "id": "71da5692",
   "metadata": {},
   "source": [
    "### 생성 및 초기화\n",
    "\n",
    "1. 초기값을 지정하여 데이터를 자동으로 가지는 배열을 생성\n",
    "\n",
    "    - np.zeros()\n",
    "    - np.ones()\n",
    "    - np.full()\n",
    "    - np.eye()\n",
    "    - np.empty()"
   ]
  },
  {
   "cell_type": "markdown",
   "id": "6e37ff02",
   "metadata": {},
   "source": [
    "#### 1-1. np.zeros(shape(모양), dtype=float)\n",
    "\n",
    "- 지정된 구조의 배열을 생성하고 모든 요소를 0으로 초기화(zeros)\n",
    "- shape : tuple형태로 행, 열을 지정\n",
    "- dtype : 배열에서 사용하는 데이터 타입을 지정, 기본값은 numpy.float64"
   ]
  },
  {
   "cell_type": "code",
   "execution_count": 33,
   "id": "b556f70e",
   "metadata": {},
   "outputs": [
    {
     "name": "stdout",
     "output_type": "stream",
     "text": [
      "\n",
      "    type: <class 'numpy.ndarray'>\n",
      "    shape : (3, 4)\n",
      "    ndim : 2\n",
      "    dtype : float64\n",
      "    array data : \n",
      " [[0. 0. 0. 0.]\n",
      " [0. 0. 0. 0.]\n",
      " [0. 0. 0. 0.]]\n"
     ]
    }
   ],
   "source": [
    "# 3행 4열 구조 안에서 초기값을 모두 0으로 가지는 배열\n",
    "arr = np.zeros((3, 4))\n",
    "np_print(arr)"
   ]
  },
  {
   "cell_type": "markdown",
   "id": "b657c35b",
   "metadata": {},
   "source": [
    "#### 1-2. np.ones(shape(행, 열), dtype=float)\n",
    "- 지정된 구조의 배열을 생성하고 모든 요소를 1로(ones) 초기화.\n",
    "- shape : tuple 자료로 행, 열 구조를 지정\n",
    "- dtype : 배열의 데이터 타입을 지정, 기본값 = numpy.float64"
   ]
  },
  {
   "cell_type": "code",
   "execution_count": 37,
   "id": "f8a11798",
   "metadata": {},
   "outputs": [
    {
     "name": "stdout",
     "output_type": "stream",
     "text": [
      "\n",
      "    type: <class 'numpy.ndarray'>\n",
      "    shape : (3, 4)\n",
      "    ndim : 2\n",
      "    dtype : float64\n",
      "    array data : \n",
      " [[1. 1. 1. 1.]\n",
      " [1. 1. 1. 1.]\n",
      " [1. 1. 1. 1.]]\n"
     ]
    }
   ],
   "source": [
    "# 3행 4열 구조 안에서 초기값을 모두 1로 가지는 배열\n",
    "arr = np.ones((3,4))\n",
    "np_print(arr)"
   ]
  },
  {
   "cell_type": "markdown",
   "id": "10760b9b",
   "metadata": {},
   "source": [
    "#### 1-3. np.full(shape, fill_value, dtype)\n",
    "- 지정된 구조의 배열을 생성하고 모든 요소를 fill_value 값으로 초기화\n",
    "- shape : tuple 자료형으로 행, 열 구조를 지정\n",
    "- dtype = 배열의 데이터 타입을 지정, 기본값 = 들어오는 데이터의 자료형"
   ]
  },
  {
   "cell_type": "code",
   "execution_count": 39,
   "id": "9c739474",
   "metadata": {},
   "outputs": [
    {
     "name": "stdout",
     "output_type": "stream",
     "text": [
      "\n",
      "    type: <class 'numpy.ndarray'>\n",
      "    shape : (3, 4)\n",
      "    ndim : 2\n",
      "    dtype : int32\n",
      "    array data : \n",
      " [[5 5 5 5]\n",
      " [5 5 5 5]\n",
      " [5 5 5 5]]\n"
     ]
    }
   ],
   "source": [
    "# 3행 4열 구조 안에서 초기값을 모두 5로 가지는 배열\n",
    "arr = np.full((3, 4), fill_value=5)\n",
    "np_print(arr)"
   ]
  },
  {
   "cell_type": "markdown",
   "id": "b2cf6ab2",
   "metadata": {},
   "source": [
    "#### 1-4. np.eye(N, M=None, dtype=float)\n",
    "- (N,M) 구조의 단위 행렬을 생성\n",
    "- M : 열 개수를 지정, 기본값 = N\n",
    "- dtype : 배열의 데이터 타입을 지정, 기본값 = numpy.float64"
   ]
  },
  {
   "cell_type": "code",
   "execution_count": 40,
   "id": "b8f9a066",
   "metadata": {},
   "outputs": [
    {
     "name": "stdout",
     "output_type": "stream",
     "text": [
      "\n",
      "    type: <class 'numpy.ndarray'>\n",
      "    shape : (3, 3)\n",
      "    ndim : 2\n",
      "    dtype : float64\n",
      "    array data : \n",
      " [[1. 0. 0.]\n",
      " [0. 1. 0.]\n",
      " [0. 0. 1.]]\n"
     ]
    }
   ],
   "source": [
    "# 3행 3열의 단위행렬\n",
    "arr = np.eye(3)\n",
    "np_print(arr)"
   ]
  },
  {
   "cell_type": "code",
   "execution_count": 42,
   "id": "47e2f664",
   "metadata": {},
   "outputs": [
    {
     "name": "stdout",
     "output_type": "stream",
     "text": [
      "\n",
      "    type: <class 'numpy.ndarray'>\n",
      "    shape : (5, 3)\n",
      "    ndim : 2\n",
      "    dtype : float64\n",
      "    array data : \n",
      " [[1. 0. 0.]\n",
      " [0. 1. 0.]\n",
      " [0. 0. 1.]\n",
      " [0. 0. 0.]\n",
      " [0. 0. 0.]]\n"
     ]
    }
   ],
   "source": [
    "# 세로길이 5(row 5개), 가로길이 3(column개수 3개)인 단위행렬을 .eye()로 만들기\n",
    "arr = np.eye(5, 3)\n",
    "np_print(arr)"
   ]
  },
  {
   "cell_type": "markdown",
   "id": "52c86de6",
   "metadata": {},
   "source": [
    "#### 1-5. np.empty(shape, dtype=float)\n",
    "\n",
    "- 지정된 구조의 배열을 생성하고 모든 요소에 대한 초기화 과정 없이 직전 메모리에 저장된 값을 사용\n",
    "\n",
    "- 배열을 생성하는데 가장 빠르고 효율적인 방법\n",
    "\n",
    "- shape : tuple type으로 행,열 구조를 지정\n",
    "\n",
    "- dtype : 배열의 데이터 타입을 지정, 기본값 = numpy.float64"
   ]
  },
  {
   "cell_type": "code",
   "execution_count": 46,
   "id": "713dcbda",
   "metadata": {},
   "outputs": [
    {
     "name": "stdout",
     "output_type": "stream",
     "text": [
      "\n",
      "    type: <class 'numpy.ndarray'>\n",
      "    shape : (3, 4)\n",
      "    ndim : 2\n",
      "    dtype : float64\n",
      "    array data : \n",
      " [[1. 1. 1. 1.]\n",
      " [1. 1. 1. 1.]\n",
      " [1. 1. 1. 1.]]\n"
     ]
    }
   ],
   "source": [
    "# 직전에 메모리에 저장된 값을 사용하기 위해서는 직전에 만들었던것과 동일한\n",
    "# shape의 배열을 생성해야 한다.\n",
    "# 3행 4열의 구조 => 직전에 만든적이 없어서 이상한 값이 들어옴\n",
    "# 5행 3열의 구조 => 방금 만든 단위행렬이 다시 복구됨\n",
    "arr = np.empty((3,4))\n",
    "np_print(arr)"
   ]
  },
  {
   "cell_type": "markdown",
   "id": "5d7add1d",
   "metadata": {},
   "source": [
    "### like 함수\n",
    "\n",
    "- 전달받은 배열과 동일한 shape으로 초기값을 설정하여 새로운 배열을 생성\n",
    "    \n",
    "    - np.zeros_like() : 초기값을 0으로 가지는 배열 생성\n",
    "    \n",
    "    - np.ones_like() : 초기값을 1로 가지는 배열 생성\n",
    "    \n",
    "    - np.full_like() : 초기값을 fill_value 값으로 가지는 배열 생성"
   ]
  },
  {
   "cell_type": "code",
   "execution_count": 50,
   "id": "075133a9",
   "metadata": {},
   "outputs": [
    {
     "name": "stdout",
     "output_type": "stream",
     "text": [
      "\n",
      "    type: <class 'numpy.ndarray'>\n",
      "    shape : (2, 3)\n",
      "    ndim : 2\n",
      "    dtype : int32\n",
      "    array data : \n",
      " [[1 2 3]\n",
      " [4 5 6]]\n"
     ]
    }
   ],
   "source": [
    "# ones_like\n",
    "# 2행 3열의 구조에서 1 ~ 6 숫자로 구성된 배열\n",
    "data = [[1, 2, 3],\n",
    "       [4, 5, 6]]\n",
    "arr1 = np.array(data)\n",
    "np_print(arr1)"
   ]
  },
  {
   "cell_type": "code",
   "execution_count": 53,
   "id": "5722551b",
   "metadata": {},
   "outputs": [
    {
     "name": "stdout",
     "output_type": "stream",
     "text": [
      "\n",
      "    type: <class 'numpy.ndarray'>\n",
      "    shape : (2, 3)\n",
      "    ndim : 2\n",
      "    dtype : int32\n",
      "    array data : \n",
      " [[1 1 1]\n",
      " [1 1 1]]\n"
     ]
    }
   ],
   "source": [
    "arr2 = np.ones_like(arr1)\n",
    "np_print(arr2)"
   ]
  },
  {
   "cell_type": "code",
   "execution_count": 55,
   "id": "c8e0317d",
   "metadata": {},
   "outputs": [
    {
     "name": "stdout",
     "output_type": "stream",
     "text": [
      "\n",
      "    type: <class 'numpy.ndarray'>\n",
      "    shape : (2, 3)\n",
      "    ndim : 2\n",
      "    dtype : int32\n",
      "    array data : \n",
      " [[0 0 0]\n",
      " [0 0 0]]\n"
     ]
    }
   ],
   "source": [
    "arr2 = np.zeros_like(arr1)\n",
    "np_print(arr2)"
   ]
  },
  {
   "cell_type": "code",
   "execution_count": 57,
   "id": "3698dfe4",
   "metadata": {},
   "outputs": [
    {
     "name": "stdout",
     "output_type": "stream",
     "text": [
      "\n",
      "    type: <class 'numpy.ndarray'>\n",
      "    shape : (2, 3)\n",
      "    ndim : 2\n",
      "    dtype : int32\n",
      "    array data : \n",
      " [[5 5 5]\n",
      " [5 5 5]]\n"
     ]
    }
   ],
   "source": [
    "# np.full_like를 이용해 arr1과 같은 크기이면서 5로 채워진 배열을 만들어 찍어주세요.\n",
    "arr2 = np.full_like(arr1, fill_value=5)\n",
    "np_print(arr2)"
   ]
  },
  {
   "cell_type": "markdown",
   "id": "163718bb",
   "metadata": {},
   "source": [
    "### Ⅱ. 배열 생성 및 초기화\n",
    "\n",
    "2. 범위와 조건이 있는 데이터를 가지는 1차원 배열 생성\n",
    "    - np.linspace()\n",
    "    \n",
    "    - np.arange()\n",
    "    \n",
    "    - np.logspace()\n",
    "\n",
    "#### 2-1. np.linspace(start, stop, num=50, endpoint=True, retstep=False, dtype=None)\n",
    "\n",
    "- 시작값(start)부터 마지막값(stop) 사이의 범위에서 균등한 간격으로 일정 개수(num)개의 데이터를 가지는 배열 생성\n",
    "\n",
    "- num : 데이터 개수, 기본값 = 50\n",
    "\n",
    "- endpoint : 마지막값에 stop을 포함/제외하는 조건 지정, 기본값 = True(포함)\n",
    "\n",
    "- retstep : True로 전달하면 (배열, 데이터 사이의 간격)의 데이터를 담은 tuple을 반환\n",
    "\n",
    "- dtype : 배열의 데이터 타입을 지정, 기본값 = None"
   ]
  },
  {
   "cell_type": "code",
   "execution_count": 58,
   "id": "4a81c0a3",
   "metadata": {},
   "outputs": [
    {
     "name": "stdout",
     "output_type": "stream",
     "text": [
      "\n",
      "    type: <class 'numpy.ndarray'>\n",
      "    shape : (5,)\n",
      "    ndim : 1\n",
      "    dtype : float64\n",
      "    array data : \n",
      " [0.   0.25 0.5  0.75 1.  ]\n"
     ]
    }
   ],
   "source": [
    "# 기본값\n",
    "# 0이상 1이하의 범위에서 발생한 숫자 5개를 포함하는 배열\n",
    "arr = np.linspace(0, 1, num=5)\n",
    "np_print(arr)"
   ]
  },
  {
   "cell_type": "code",
   "execution_count": 59,
   "id": "1425efba",
   "metadata": {},
   "outputs": [
    {
     "name": "stdout",
     "output_type": "stream",
     "text": [
      "\n",
      "    type: <class 'numpy.ndarray'>\n",
      "    shape : (5,)\n",
      "    ndim : 1\n",
      "    dtype : float64\n",
      "    array data : \n",
      " [0.  0.2 0.4 0.6 0.8]\n"
     ]
    }
   ],
   "source": [
    "# endpoint를 False로 변환\n",
    "arr1 = np.linspace(0, 1, num=5, endpoint=False)\n",
    "np_print(arr1)"
   ]
  },
  {
   "cell_type": "code",
   "execution_count": 62,
   "id": "596fe7cd",
   "metadata": {},
   "outputs": [
    {
     "name": "stdout",
     "output_type": "stream",
     "text": [
      "(array([0.  , 0.25, 0.5 , 0.75, 1.  ]), 0.25)\n",
      "\n",
      "    type: <class 'numpy.ndarray'>\n",
      "    shape : (5,)\n",
      "    ndim : 1\n",
      "    dtype : float64\n",
      "    array data : \n",
      " [0.   0.25 0.5  0.75 1.  ]\n"
     ]
    }
   ],
   "source": [
    "# retstep 설정 -> 반환값 tuple => (배열객체, 간격값)\n",
    "arr = np.linspace(0, 1, num=5, retstep=True)\n",
    "print(arr)\n",
    "np_print(arr[0])"
   ]
  },
  {
   "cell_type": "markdown",
   "id": "efec3493",
   "metadata": {},
   "source": [
    "#### 2-1. np.arange(start=0, stop, step=1,  dtype=None)\n",
    "\n",
    "- 시작값(start)부터 마지막값(stop) 사이의 범위에서 지정한 간격(step)으로 일정 개수(num)개의 데이터를 가지는 배열 생성\n",
    "- 파이썬 내장함수 range()와 유사\n",
    "- start : 시작값, 기본값 = 0    \n",
    "- stop : 마지막값으로 범위에 포함되지 않음    \n",
    "- step : 데이터 사이의 간격, 기본값 = 1\n",
    "- dtype : 배열의 데이터 타입을 지정, 기본값 = None"
   ]
  },
  {
   "cell_type": "code",
   "execution_count": 63,
   "id": "1489f629",
   "metadata": {},
   "outputs": [
    {
     "data": {
      "text/plain": [
       "[0, 1, 2, 3, 4]"
      ]
     },
     "execution_count": 63,
     "metadata": {},
     "output_type": "execute_result"
    }
   ],
   "source": [
    "list(range(5))"
   ]
  },
  {
   "cell_type": "code",
   "execution_count": 64,
   "id": "aa8d42e9",
   "metadata": {},
   "outputs": [
    {
     "name": "stdout",
     "output_type": "stream",
     "text": [
      "\n",
      "    type: <class 'numpy.ndarray'>\n",
      "    shape : (5,)\n",
      "    ndim : 1\n",
      "    dtype : int32\n",
      "    array data : \n",
      " [0 1 2 3 4]\n"
     ]
    }
   ],
   "source": [
    "# 기본값\n",
    "# 0이상 5미만의 범위에서 1씩 증가하는 숫자(정수)를 가지는 배열\n",
    "arr = np.arange(5)\n",
    "np_print(arr)"
   ]
  },
  {
   "cell_type": "code",
   "execution_count": 65,
   "id": "e845c366",
   "metadata": {},
   "outputs": [
    {
     "name": "stdout",
     "output_type": "stream",
     "text": [
      "\n",
      "    type: <class 'numpy.ndarray'>\n",
      "    shape : (10,)\n",
      "    ndim : 1\n",
      "    dtype : float64\n",
      "    array data : \n",
      " [0.  0.5 1.  1.5 2.  2.5 3.  3.5 4.  4.5]\n"
     ]
    }
   ],
   "source": [
    "# 시작, 끝, 간격\n",
    "# 0이상 5미만의 범위에서 0.5씩 증가하는 숫자를 가지는 배열\n",
    "arr = np.arange(0, 5, 0.5)\n",
    "np_print(arr)"
   ]
  },
  {
   "cell_type": "code",
   "execution_count": 66,
   "id": "ed9a6c88",
   "metadata": {},
   "outputs": [
    {
     "name": "stdout",
     "output_type": "stream",
     "text": [
      "\n",
      "    type: <class 'numpy.ndarray'>\n",
      "    shape : (4,)\n",
      "    ndim : 1\n",
      "    dtype : int32\n",
      "    array data : \n",
      " [1 2 3 4]\n"
     ]
    }
   ],
   "source": [
    "# arange()메서드로 생성된 배열과 shape(1, 5)인 배열은 동일해보이지만\n",
    "# shape와 dimention이 서로 다르다\n",
    "arr = np.arange(1, 5)\n",
    "np_print(arr)"
   ]
  },
  {
   "cell_type": "code",
   "execution_count": 67,
   "id": "92db32ef",
   "metadata": {},
   "outputs": [
    {
     "name": "stdout",
     "output_type": "stream",
     "text": [
      "\n",
      "    type: <class 'numpy.ndarray'>\n",
      "    shape : (1, 4)\n",
      "    ndim : 2\n",
      "    dtype : int32\n",
      "    array data : \n",
      " [[1 2 3 4]]\n"
     ]
    }
   ],
   "source": [
    "arr2 = arr.reshape(1, 4)\n",
    "np_print(arr2)"
   ]
  },
  {
   "cell_type": "markdown",
   "id": "252d8f3b",
   "metadata": {},
   "source": [
    "#### 2-3. np.logspace(start, stop, num=50, endpoint=True, dtype=None)\n",
    "\n",
    "- 시작값(start)부터 마지막값(stop) 사이의 로그 스케일로 지정된 범위에서 균등한 간격으로 일정 개수(num)개의 데이터를 가지는 배열 생성\n",
    "\n",
    "- num : 데이터 개수, 기본값 = 50\n",
    "\n",
    "- endpoint : 마지막 값에 stop을 포함/제외하는 조건 지정, 기본값 = True(포함)\n",
    "\n",
    "- dtype : 배열의 데이터 타입을 지정, 기본값 = None"
   ]
  },
  {
   "cell_type": "code",
   "execution_count": 68,
   "id": "a557b996",
   "metadata": {},
   "outputs": [
    {
     "name": "stdout",
     "output_type": "stream",
     "text": [
      "\n",
      "    type: <class 'numpy.ndarray'>\n",
      "    shape : (50,)\n",
      "    ndim : 1\n",
      "    dtype : float64\n",
      "    array data : \n",
      " [ 1.          1.04811313  1.09854114  1.1513954   1.20679264  1.26485522\n",
      "  1.32571137  1.38949549  1.45634848  1.52641797  1.59985872  1.67683294\n",
      "  1.75751062  1.84206997  1.93069773  2.02358965  2.12095089  2.22299648\n",
      "  2.32995181  2.44205309  2.55954792  2.6826958   2.8117687   2.9470517\n",
      "  3.0888436   3.23745754  3.39322177  3.55648031  3.72759372  3.90693994\n",
      "  4.09491506  4.29193426  4.49843267  4.71486636  4.94171336  5.17947468\n",
      "  5.42867544  5.68986603  5.96362332  6.25055193  6.55128557  6.86648845\n",
      "  7.19685673  7.54312006  7.90604321  8.28642773  8.68511374  9.10298178\n",
      "  9.54095476 10.        ]\n"
     ]
    }
   ],
   "source": [
    "# 기본값\n",
    "# 0이상 1이하의 범위에서 로그스케일을 적용한 값(50개)를 가진 배열\n",
    "# 밑수가 10인 로그를 기준으로 만들어줌\n",
    "arr = np.logspace(0, 1)\n",
    "np_print(arr)"
   ]
  },
  {
   "cell_type": "code",
   "execution_count": 71,
   "id": "99ea2019",
   "metadata": {},
   "outputs": [
    {
     "name": "stdout",
     "output_type": "stream",
     "text": [
      "\n",
      "    type: <class 'numpy.ndarray'>\n",
      "    shape : (40,)\n",
      "    ndim : 1\n",
      "    dtype : float64\n",
      "    array data : \n",
      " [ 1.          1.06081836  1.12533558  1.19377664  1.26638017  1.34339933\n",
      "  1.42510267  1.51177507  1.60371874  1.70125428  1.80472177  1.91448198\n",
      "  2.03091762  2.15443469  2.28546386  2.42446202  2.57191381  2.72833338\n",
      "  2.89426612  3.07029063  3.25702066  3.45510729  3.66524124  3.88815518\n",
      "  4.12462638  4.37547938  4.64158883  4.92388263  5.22334507  5.54102033\n",
      "  5.87801607  6.23550734  6.61474064  7.01703829  7.44380301  7.89652287\n",
      "  8.3767764   8.88623816  9.42668455 10.        ]\n"
     ]
    }
   ],
   "source": [
    "# 시작, 끝, 개수 순으로 넣으면 개수 변경가능\n",
    "arr1 = np.logspace(0, 1, 40)\n",
    "np_print(arr1)"
   ]
  },
  {
   "cell_type": "code",
   "execution_count": 72,
   "id": "2d004eae",
   "metadata": {},
   "outputs": [
    {
     "name": "stdout",
     "output_type": "stream",
     "text": [
      "\n",
      "    type: <class 'numpy.ndarray'>\n",
      "    shape : (40,)\n",
      "    ndim : 1\n",
      "    dtype : float64\n",
      "    array data : \n",
      " [1.         1.05925373 1.12201845 1.18850223 1.25892541 1.33352143\n",
      " 1.41253754 1.49623566 1.58489319 1.67880402 1.77827941 1.88364909\n",
      " 1.99526231 2.11348904 2.23872114 2.37137371 2.51188643 2.66072506\n",
      " 2.81838293 2.98538262 3.16227766 3.34965439 3.54813389 3.75837404\n",
      " 3.98107171 4.21696503 4.46683592 4.73151259 5.01187234 5.30884444\n",
      " 5.62341325 5.95662144 6.30957344 6.68343918 7.07945784 7.49894209\n",
      " 7.94328235 8.41395142 8.91250938 9.44060876]\n"
     ]
    }
   ],
   "source": [
    "# endpoint 설정\n",
    "arr = np.logspace(0, 1, 40, endpoint=False)\n",
    "np_print(arr)"
   ]
  },
  {
   "cell_type": "markdown",
   "id": "116ec89d",
   "metadata": {},
   "source": [
    "### Ⅱ. 배열 생성 및 초기화\n",
    "\n",
    "3. 난수(특정한 순서나 규칙을 가지지 않는 무작위의 수)를 데이터로 가지는 배열을 생성\n",
    "    - np.random.normal()\n",
    "    - np.random.rand()\n",
    "    - np.random.randn()\n",
    "    - np.random.randint()\n",
    "    - np.random.random()\n",
    "\n",
    "#### 3-1. np.random.normal(loc=0.0, scale=1.0, size=None)\n",
    "\n",
    "- 정규 분포 확률 밀도에서 표본을 추출하여 데이터로 가지는 배열을 생성\n",
    "\n",
    "- loc : 정규분포의 평균, 기본값 = 0.0\n",
    "\n",
    "- scale : 정규분포의 표준편차, 기본값 = 1.0\n",
    "\n",
    "- size : (행,열,차원)의 배열 구조, 기본값 = single value(배열이 아닌 하나의 값을 반환)\n"
   ]
  },
  {
   "cell_type": "code",
   "execution_count": null,
   "id": "402b7294",
   "metadata": {},
   "outputs": [],
   "source": []
  },
  {
   "cell_type": "code",
   "execution_count": null,
   "id": "d0cf2614",
   "metadata": {},
   "outputs": [],
   "source": []
  },
  {
   "cell_type": "code",
   "execution_count": null,
   "id": "42083e1d",
   "metadata": {},
   "outputs": [],
   "source": []
  },
  {
   "cell_type": "code",
   "execution_count": null,
   "id": "c39d0df5",
   "metadata": {},
   "outputs": [],
   "source": []
  },
  {
   "cell_type": "code",
   "execution_count": null,
   "id": "b7e89dfc",
   "metadata": {},
   "outputs": [],
   "source": []
  },
  {
   "cell_type": "code",
   "execution_count": null,
   "id": "b7291670",
   "metadata": {},
   "outputs": [],
   "source": []
  },
  {
   "cell_type": "code",
   "execution_count": null,
   "id": "eff15376",
   "metadata": {},
   "outputs": [],
   "source": []
  },
  {
   "cell_type": "code",
   "execution_count": null,
   "id": "f1fd66dc",
   "metadata": {},
   "outputs": [],
   "source": []
  },
  {
   "cell_type": "code",
   "execution_count": null,
   "id": "8d7c244e",
   "metadata": {},
   "outputs": [],
   "source": []
  },
  {
   "cell_type": "code",
   "execution_count": null,
   "id": "d6bee58e",
   "metadata": {},
   "outputs": [],
   "source": []
  },
  {
   "cell_type": "code",
   "execution_count": null,
   "id": "dd861bf6",
   "metadata": {},
   "outputs": [],
   "source": []
  }
 ],
 "metadata": {
  "kernelspec": {
   "display_name": "Python 3 (ipykernel)",
   "language": "python",
   "name": "python3"
  },
  "language_info": {
   "codemirror_mode": {
    "name": "ipython",
    "version": 3
   },
   "file_extension": ".py",
   "mimetype": "text/x-python",
   "name": "python",
   "nbconvert_exporter": "python",
   "pygments_lexer": "ipython3",
   "version": "3.9.12"
  }
 },
 "nbformat": 4,
 "nbformat_minor": 5
}
