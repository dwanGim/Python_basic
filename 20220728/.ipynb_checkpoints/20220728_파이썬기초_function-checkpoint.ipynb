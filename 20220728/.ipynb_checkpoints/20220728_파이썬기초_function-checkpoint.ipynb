{
 "cells": [
  {
   "cell_type": "markdown",
   "id": "f5d0c2d5",
   "metadata": {},
   "source": [
    "# << 함수 >>\n",
    "\n",
    "반복적으로 사용하는 기능을 묶어서 함수로 정의하면 간편하게 사용할 수 있다.\n",
    "\n",
    "▶ 기본 문법 \n",
    "\n",
    "         def 함수이름(매개변수) :\n",
    "\n",
    "             <수행할 내용1>\n",
    "             <수행할 내용2>\n",
    "             <수행할 내용3>\n",
    "             \n",
    "             return \n",
    "\n",
    "            \n",
    "\n",
    "▶ 매개변수 \n",
    "\n",
    "        - 함수 안에서 사용할 값을 전달하는 변수로 <수행할 내용> 문장에서 변수로 사용된다.\n",
    "        \n",
    "        - 함수 정의문에서는 매개변수로서 선언되며 실제로 함수를 호출할 때는 인자값으로 전달된다.\n",
    "        \n",
    "        \n",
    "▶ 용어\n",
    "\n",
    "        - def : 함수를 정의할 때 사용하는 키워드\n",
    "        \n",
    "        - return : 함수의 결과값을 반환하는 키워드\n",
    "        \n",
    "        - 입력값 = 인수, 입력 인수, 인자\n",
    "        \n",
    "        - 결과값 = 출력값, 리턴값, 돌려주는 값, 반환 값"
   ]
  },
  {
   "cell_type": "code",
   "execution_count": 1,
   "id": "990fb8b8",
   "metadata": {},
   "outputs": [],
   "source": [
    "# 기본적인 함수의 예제(불완전한 실행문)\n",
    "\n",
    "def plus(b) :\n",
    "    print(b+1)"
   ]
  },
  {
   "cell_type": "code",
   "execution_count": 4,
   "id": "1501da04",
   "metadata": {},
   "outputs": [
    {
     "name": "stdout",
     "output_type": "stream",
     "text": [
      "6\n",
      "None\n"
     ]
    }
   ],
   "source": [
    "result = plus(5)\n",
    "print(result)"
   ]
  },
  {
   "cell_type": "code",
   "execution_count": 5,
   "id": "2f9f9d3d",
   "metadata": {},
   "outputs": [],
   "source": [
    "#return 문의 역할\n",
    "def plus2(a) :\n",
    "    return a + 1"
   ]
  },
  {
   "cell_type": "code",
   "execution_count": 6,
   "id": "4695069c",
   "metadata": {},
   "outputs": [
    {
     "name": "stdout",
     "output_type": "stream",
     "text": [
      "6\n"
     ]
    }
   ],
   "source": [
    "result = plus2(5)\n",
    "print(result)"
   ]
  },
  {
   "cell_type": "code",
   "execution_count": 7,
   "id": "e50ed782",
   "metadata": {},
   "outputs": [],
   "source": [
    "#매개변수(파라미터) 2개 이상 받는 케이스\n",
    "\n",
    "def sum(a,b) :\n",
    "    result = a+b\n",
    "    return result"
   ]
  },
  {
   "cell_type": "code",
   "execution_count": 8,
   "id": "a8918a0a",
   "metadata": {},
   "outputs": [
    {
     "data": {
      "text/plain": [
       "11"
      ]
     },
     "execution_count": 8,
     "metadata": {},
     "output_type": "execute_result"
    }
   ],
   "source": [
    "sum(5,6)"
   ]
  },
  {
   "cell_type": "markdown",
   "id": "bc8080d7",
   "metadata": {},
   "source": [
    "### 2. 매개변수 있는 함수\n",
    "\n",
    "- 인자 값을 전달할 때 값ㅁ나 입력하면 순서대로 매개변수에 할당된다.\n",
    "- 매개변수명을 지정하여 전달할 수 있다.\n"
   ]
  },
  {
   "cell_type": "code",
   "execution_count": 9,
   "id": "56593d3b",
   "metadata": {},
   "outputs": [],
   "source": [
    "# 매개변수가 3개인 함수 설정\n",
    "# 3개를 다 더해서 리턴하도록 만들어주세요\n",
    "def test1(a, b, c) :\n",
    "    result = a+b+c\n",
    "    return result"
   ]
  },
  {
   "cell_type": "code",
   "execution_count": 10,
   "id": "2d72220a",
   "metadata": {},
   "outputs": [
    {
     "data": {
      "text/plain": [
       "6"
      ]
     },
     "execution_count": 10,
     "metadata": {},
     "output_type": "execute_result"
    }
   ],
   "source": [
    "test1(1, 2, 3)"
   ]
  },
  {
   "cell_type": "code",
   "execution_count": 11,
   "id": "64a744d6",
   "metadata": {},
   "outputs": [
    {
     "data": {
      "text/plain": [
       "60"
      ]
     },
     "execution_count": 11,
     "metadata": {},
     "output_type": "execute_result"
    }
   ],
   "source": [
    "# 인자값 순서를 바꿔서 전달(반드시 매개벼누명으로 지정한 변수명에 대입해야함)\n",
    "test1(c=20, a=10, b=30)"
   ]
  },
  {
   "cell_type": "markdown",
   "id": "e56ccd22",
   "metadata": {},
   "source": [
    "### 2-1. 매개변수 초기 값 설정\n",
    "\n",
    "- 함수 정의문에서 매개변수 값을 할당하면 초기 값으로 설정\n",
    "\n",
    "- 함수 호출 시 값을 입력하지 않으면 초기 값으로 사용\n",
    "\n",
    "- 초기화시키고 싶은 매개변수들을 항상 뒤쪽에 위치\n",
    "\n",
    "(참고)포맷팅함수에서 인덱스 번호, 변수명 사용했던 규칙과 유사"
   ]
  },
  {
   "cell_type": "code",
   "execution_count": 12,
   "id": "10775711",
   "metadata": {},
   "outputs": [],
   "source": [
    "#디폴트값 선언을 사용한 예시\n",
    "def test2(a=1, b=2, c=3) :\n",
    "    result = a + b + c\n",
    "    return result"
   ]
  },
  {
   "cell_type": "code",
   "execution_count": 13,
   "id": "d5c44a6a",
   "metadata": {},
   "outputs": [
    {
     "data": {
      "text/plain": [
       "6"
      ]
     },
     "execution_count": 13,
     "metadata": {},
     "output_type": "execute_result"
    }
   ],
   "source": [
    "test2()\n",
    "#사용자가 아무런 인자를 전달하지 않으면 디폴트값으로 실행됩니다."
   ]
  },
  {
   "cell_type": "code",
   "execution_count": 14,
   "id": "a31832a6",
   "metadata": {},
   "outputs": [
    {
     "data": {
      "text/plain": [
       "18"
      ]
     },
     "execution_count": 14,
     "metadata": {},
     "output_type": "execute_result"
    }
   ],
   "source": [
    "#default가 선언되어 있어도 사용자가 준 값이 최우선입니다.\n",
    "test2(5, 6, 7)"
   ]
  },
  {
   "cell_type": "code",
   "execution_count": 15,
   "id": "392f4cc9",
   "metadata": {},
   "outputs": [
    {
     "data": {
      "text/plain": [
       "15"
      ]
     },
     "execution_count": 15,
     "metadata": {},
     "output_type": "execute_result"
    }
   ],
   "source": [
    "# 파라미터를 하나만 주면 하나받고 나머지 값은 디폴트\n",
    "test2(10)"
   ]
  },
  {
   "cell_type": "code",
   "execution_count": 17,
   "id": "bd84aa26",
   "metadata": {},
   "outputs": [
    {
     "data": {
      "text/plain": [
       "7"
      ]
     },
     "execution_count": 17,
     "metadata": {},
     "output_type": "execute_result"
    }
   ],
   "source": [
    "\n",
    "test2(1,3)"
   ]
  },
  {
   "cell_type": "code",
   "execution_count": 18,
   "id": "7e34561c",
   "metadata": {},
   "outputs": [],
   "source": [
    "#디폴트값 설정은 반드시 오론쪽 요소부터 지정합니다.\n",
    "def test3(a, b=2, c=1) :\n",
    "    result = a+b+c\n",
    "    return result"
   ]
  },
  {
   "cell_type": "code",
   "execution_count": 19,
   "id": "118b4d12",
   "metadata": {},
   "outputs": [
    {
     "ename": "TypeError",
     "evalue": "test3() missing 1 required positional argument: 'a'",
     "output_type": "error",
     "traceback": [
      "\u001b[1;31m---------------------------------------------------------------------------\u001b[0m",
      "\u001b[1;31mTypeError\u001b[0m                                 Traceback (most recent call last)",
      "Input \u001b[1;32mIn [19]\u001b[0m, in \u001b[0;36m<cell line: 1>\u001b[1;34m()\u001b[0m\n\u001b[1;32m----> 1\u001b[0m \u001b[43mtest3\u001b[49m\u001b[43m(\u001b[49m\u001b[43m)\u001b[49m\n",
      "\u001b[1;31mTypeError\u001b[0m: test3() missing 1 required positional argument: 'a'"
     ]
    }
   ],
   "source": [
    "test3()"
   ]
  },
  {
   "cell_type": "code",
   "execution_count": 21,
   "id": "6b4a97a3",
   "metadata": {},
   "outputs": [
    {
     "data": {
      "text/plain": [
       "31"
      ]
     },
     "execution_count": 21,
     "metadata": {},
     "output_type": "execute_result"
    }
   ],
   "source": [
    "# a 파라미터에 인자 전달하면 잘 실행됩니다.\n",
    "test3(10, 20)"
   ]
  },
  {
   "cell_type": "markdown",
   "id": "b27e478d",
   "metadata": {},
   "source": [
    "### 가변인자 리스트\n",
    "\n",
    "- 입력할 파라미터의 개수가 몇 개인지 모를 때 사용함\n",
    "- 파아미터명 왼쪽에 *을 붙입니다."
   ]
  },
  {
   "cell_type": "code",
   "execution_count": 23,
   "id": "42bbefa5",
   "metadata": {},
   "outputs": [],
   "source": [
    "def get_member_list(p1) :\n",
    "    print(\"출석학생은 %s님 입니다.\" % p1)\n",
    "    "
   ]
  },
  {
   "cell_type": "code",
   "execution_count": 24,
   "id": "ef77d881",
   "metadata": {},
   "outputs": [
    {
     "name": "stdout",
     "output_type": "stream",
     "text": [
      "출석학생은 a님 입니다.\n"
     ]
    }
   ],
   "source": [
    "get_member_list('a')"
   ]
  },
  {
   "cell_type": "code",
   "execution_count": 26,
   "id": "d0fde6ef",
   "metadata": {},
   "outputs": [],
   "source": [
    "def get_member_list2(p1, p2) :\n",
    "    print('출석학생은 %s, %s님 입니다.' % (p1, p2))"
   ]
  },
  {
   "cell_type": "code",
   "execution_count": 27,
   "id": "f01d327a",
   "metadata": {},
   "outputs": [
    {
     "name": "stdout",
     "output_type": "stream",
     "text": [
      "출석학생은 a, b님 입니다.\n"
     ]
    }
   ],
   "source": [
    "get_member_list2('a','b')"
   ]
  },
  {
   "cell_type": "code",
   "execution_count": 38,
   "id": "2e29fd8a",
   "metadata": {},
   "outputs": [],
   "source": [
    "def get_members(*stu) :\n",
    "    print(stu)\n",
    "    print(type(stu))\n",
    "    message =\"출석학생은\"\n",
    "    for i in stu:\n",
    "        message +=str(i) + \",\"\n",
    "    message +=\"입니다.\"\n",
    "    print(message)"
   ]
  },
  {
   "cell_type": "code",
   "execution_count": 39,
   "id": "53201c00",
   "metadata": {},
   "outputs": [
    {
     "name": "stdout",
     "output_type": "stream",
     "text": [
      "('a', 'b', 'c', 'd', 'e', 'f', 'g')\n",
      "<class 'tuple'>\n",
      "출석학생은a,b,c,d,e,f,g,입니다.\n"
     ]
    }
   ],
   "source": [
    "get_members('a', 'b', 'c', 'd', 'e', 'f', 'g')"
   ]
  },
  {
   "cell_type": "markdown",
   "id": "9664fe11",
   "metadata": {},
   "source": [
    "### 6. 키워드 파라미터 kwargs(keyword arguments)\n",
    "\n",
    "딕셔너리 형태로 저장되는 매개변수로 정의"
   ]
  },
  {
   "cell_type": "code",
   "execution_count": 40,
   "id": "1a1b47b2",
   "metadata": {},
   "outputs": [],
   "source": [
    "def test4(**kwargs) :\n",
    "    return kwargs"
   ]
  },
  {
   "cell_type": "code",
   "execution_count": 42,
   "id": "ad19479c",
   "metadata": {},
   "outputs": [
    {
     "data": {
      "text/plain": [
       "{'name': '홍길동', 'age': '19'}"
      ]
     },
     "execution_count": 42,
     "metadata": {},
     "output_type": "execute_result"
    }
   ],
   "source": [
    "test4(name='홍길동', age='19')"
   ]
  },
  {
   "cell_type": "markdown",
   "id": "174727c9",
   "metadata": {},
   "source": [
    "    ### \n",
    "    "
   ]
  },
  {
   "cell_type": "code",
   "execution_count": 44,
   "id": "f7d470cc",
   "metadata": {},
   "outputs": [],
   "source": [
    "#return 키워드는 전달받은 결과물이 2개 이상(,로 구분지어져서 보내는 경우) 하나의 튜플로\n",
    "# 묶어서 반환되며, 최정적으로 하나의 변수에 담을 수 있는 하나의 값으로 처리됩니다.\n",
    "def test(a,b):\n",
    "    sum_ = a+b\n",
    "    mul = a*b\n",
    "    return sum_, mul"
   ]
  },
  {
   "cell_type": "code",
   "execution_count": 45,
   "id": "3c745d3e",
   "metadata": {},
   "outputs": [
    {
     "name": "stdout",
     "output_type": "stream",
     "text": [
      "(7, 12)\n"
     ]
    }
   ],
   "source": [
    "# 결과를 통째로 가져오기\n",
    "a = test(3,4)\n",
    "print(a)"
   ]
  },
  {
   "cell_type": "code",
   "execution_count": 46,
   "id": "73b4ec43",
   "metadata": {},
   "outputs": [
    {
     "name": "stdout",
     "output_type": "stream",
     "text": [
      "7\n",
      "12\n"
     ]
    }
   ],
   "source": [
    "#결과를 개별 변수에 쪼개서 가져오기\n",
    "\n",
    "s,m = test(3, 4)\n",
    "print(s)\n",
    "print(m)"
   ]
  },
  {
   "cell_type": "markdown",
   "id": "848378b2",
   "metadata": {},
   "source": [
    "## <<연습문제>>\n",
    "#### 1. 입력받은 모든 수의 평균값을 계산하는 함수를 작성해보세요\n",
    "\n",
    "    - 조건1. 숫자의 개수는 정해져 있지 않다.\n",
    "    "
   ]
  },
  {
   "cell_type": "code",
   "execution_count": 85,
   "id": "365ec3a5",
   "metadata": {},
   "outputs": [],
   "source": [
    "def get_avg(*num_list) :\n",
    "    \n",
    "    total = 0\n",
    "    \n",
    "    for num in num_list:\n",
    "    \n",
    "        total += num\n",
    "        result = total / len(num_list)\n",
    "        \n",
    "    \n",
    "    return result\n",
    "    "
   ]
  },
  {
   "cell_type": "code",
   "execution_count": 86,
   "id": "cbce58de",
   "metadata": {},
   "outputs": [
    {
     "name": "stdout",
     "output_type": "stream",
     "text": [
      "3.0\n"
     ]
    }
   ],
   "source": [
    "a = get_avg(1,2,3,4,5)\n",
    "print(a)"
   ]
  },
  {
   "cell_type": "markdown",
   "id": "ae3422cf",
   "metadata": {},
   "source": [
    "#### 2. 리스트로 입력받은 수들에 대해 양수만 필터링하여 반환해주는 함수를 작성해보세요.\n",
    "\n",
    "    - 조건1. 입력값은 인자값으로 리스트를 전달\n",
    "    - 조건2. 결과값은 양수로만 구성된 새로운 리스트"
   ]
  },
  {
   "cell_type": "code",
   "execution_count": 82,
   "id": "8c41cebd",
   "metadata": {},
   "outputs": [],
   "source": [
    "def aa(*num_list) :\n",
    "    result = []\n",
    "    for num in num_list:\n",
    "        if num >= 0 :\n",
    "            result.append[num]\n",
    "    return result"
   ]
  },
  {
   "cell_type": "code",
   "execution_count": 83,
   "id": "9a42fac9",
   "metadata": {},
   "outputs": [
    {
     "ename": "TypeError",
     "evalue": "'builtin_function_or_method' object is not subscriptable",
     "output_type": "error",
     "traceback": [
      "\u001b[1;31m---------------------------------------------------------------------------\u001b[0m",
      "\u001b[1;31mTypeError\u001b[0m                                 Traceback (most recent call last)",
      "Input \u001b[1;32mIn [83]\u001b[0m, in \u001b[0;36m<cell line: 1>\u001b[1;34m()\u001b[0m\n\u001b[1;32m----> 1\u001b[0m \u001b[43maa\u001b[49m\u001b[43m(\u001b[49m\u001b[38;5;241;43m-\u001b[39;49m\u001b[38;5;241;43m1\u001b[39;49m\u001b[43m,\u001b[49m\u001b[38;5;241;43m0\u001b[39;49m\u001b[43m,\u001b[49m\u001b[38;5;241;43m3\u001b[39;49m\u001b[43m)\u001b[49m\n",
      "Input \u001b[1;32mIn [82]\u001b[0m, in \u001b[0;36maa\u001b[1;34m(*num_list)\u001b[0m\n\u001b[0;32m      3\u001b[0m \u001b[38;5;28;01mfor\u001b[39;00m num \u001b[38;5;129;01min\u001b[39;00m num_list:\n\u001b[0;32m      4\u001b[0m     \u001b[38;5;28;01mif\u001b[39;00m num \u001b[38;5;241m>\u001b[39m\u001b[38;5;241m=\u001b[39m \u001b[38;5;241m0\u001b[39m :\n\u001b[1;32m----> 5\u001b[0m         \u001b[43mresult\u001b[49m\u001b[38;5;241;43m.\u001b[39;49m\u001b[43mappend\u001b[49m\u001b[43m[\u001b[49m\u001b[43mnum\u001b[49m\u001b[43m]\u001b[49m\n\u001b[0;32m      6\u001b[0m \u001b[38;5;28;01mreturn\u001b[39;00m result\n",
      "\u001b[1;31mTypeError\u001b[0m: 'builtin_function_or_method' object is not subscriptable"
     ]
    }
   ],
   "source": [
    "aa(-1,0,3)"
   ]
  },
  {
   "cell_type": "code",
   "execution_count": null,
   "id": "fe15e823",
   "metadata": {},
   "outputs": [],
   "source": []
  }
 ],
 "metadata": {
  "kernelspec": {
   "display_name": "Python 3 (ipykernel)",
   "language": "python",
   "name": "python3"
  },
  "language_info": {
   "codemirror_mode": {
    "name": "ipython",
    "version": 3
   },
   "file_extension": ".py",
   "mimetype": "text/x-python",
   "name": "python",
   "nbconvert_exporter": "python",
   "pygments_lexer": "ipython3",
   "version": "3.9.12"
  }
 },
 "nbformat": 4,
 "nbformat_minor": 5
}
